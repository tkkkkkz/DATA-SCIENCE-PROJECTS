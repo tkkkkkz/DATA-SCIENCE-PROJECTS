{
  "nbformat": 4,
  "nbformat_minor": 0,
  "metadata": {
    "colab": {
      "name": "Agriculture_data.ipynb",
      "provenance": [],
      "collapsed_sections": [],
      "machine_shape": "hm",
      "authorship_tag": "ABX9TyMvc89effXuJ6uvZ5i/vVVU",
      "include_colab_link": true
    },
    "kernelspec": {
      "name": "python3",
      "display_name": "Python 3"
    },
    "language_info": {
      "name": "python"
    }
  },
  "cells": [
    {
      "cell_type": "markdown",
      "metadata": {
        "id": "view-in-github",
        "colab_type": "text"
      },
      "source": [
        "<a href=\"https://colab.research.google.com/github/tkkkkkz/Data_Science_Projects/blob/main/Agriculture_data.ipynb\" target=\"_parent\"><img src=\"https://colab.research.google.com/assets/colab-badge.svg\" alt=\"Open In Colab\"/></a>"
      ]
    },
    {
      "cell_type": "code",
      "metadata": {
        "id": "y-S-7BjrdkGd"
      },
      "source": [
        "# read data\n",
        "import pandas as pd\n",
        "import numpy as np\n",
        "import json\n",
        "\n",
        "# data visualization\n",
        "import matplotlib.pyplot as plt\n",
        "import seaborn as sns\n",
        "\n",
        "%matplotlib inline\n",
        "\n",
        "import geopy\n",
        "\n",
        "# ignore warnings\n",
        "import warnings\n",
        "warnings.filterwarnings('ignore')"
      ],
      "execution_count": 1,
      "outputs": []
    },
    {
      "cell_type": "markdown",
      "metadata": {
        "id": "j3BmpicULeSg"
      },
      "source": [
        "## 1. Import Data"
      ]
    },
    {
      "cell_type": "code",
      "metadata": {
        "colab": {
          "base_uri": "https://localhost:8080/"
        },
        "id": "l54Jsco2dnRt",
        "outputId": "71fc2af0-2ae5-483d-ec2b-9cced87218fa"
      },
      "source": [
        "from google.colab import drive\n",
        "drive.mount('/content/gdrive')"
      ],
      "execution_count": 2,
      "outputs": [
        {
          "output_type": "stream",
          "name": "stdout",
          "text": [
            "Mounted at /content/gdrive\n"
          ]
        }
      ]
    },
    {
      "cell_type": "code",
      "metadata": {
        "id": "j0Irl4uqd-3e"
      },
      "source": [
        "annotaion_link = '/content/gdrive/My Drive/Colab Notebooks/Blue River/test_annotation_table.csv'\n",
        "image_link = '/content/gdrive/My Drive/Colab Notebooks/Blue River/test_image_table.csv'"
      ],
      "execution_count": 3,
      "outputs": []
    },
    {
      "cell_type": "code",
      "metadata": {
        "id": "_boblRsxeSh9"
      },
      "source": [
        "annotation = pd.read_csv(annotaion_link,sep=';')\n",
        "image = pd.read_csv(image_link,sep=';')"
      ],
      "execution_count": 4,
      "outputs": []
    },
    {
      "cell_type": "code",
      "metadata": {
        "colab": {
          "base_uri": "https://localhost:8080/",
          "height": 206
        },
        "id": "29la9HzseZS_",
        "outputId": "d7462a08-012e-47bc-82e1-589b0df6332a"
      },
      "source": [
        "annotation.head()"
      ],
      "execution_count": 5,
      "outputs": [
        {
          "output_type": "execute_result",
          "data": {
            "text/html": [
              "<div>\n",
              "<style scoped>\n",
              "    .dataframe tbody tr th:only-of-type {\n",
              "        vertical-align: middle;\n",
              "    }\n",
              "\n",
              "    .dataframe tbody tr th {\n",
              "        vertical-align: top;\n",
              "    }\n",
              "\n",
              "    .dataframe thead th {\n",
              "        text-align: right;\n",
              "    }\n",
              "</style>\n",
              "<table border=\"1\" class=\"dataframe\">\n",
              "  <thead>\n",
              "    <tr style=\"text-align: right;\">\n",
              "      <th></th>\n",
              "      <th>id</th>\n",
              "      <th>creation_date</th>\n",
              "      <th>updated_date</th>\n",
              "      <th>bounding_boxes</th>\n",
              "      <th>style</th>\n",
              "      <th>review_state</th>\n",
              "      <th>project_id</th>\n",
              "      <th>image_id</th>\n",
              "    </tr>\n",
              "  </thead>\n",
              "  <tbody>\n",
              "    <tr>\n",
              "      <th>0</th>\n",
              "      <td>505005</td>\n",
              "      <td>2019-08-29 19:38:26.358428</td>\n",
              "      <td>NaN</td>\n",
              "      <td>NaN</td>\n",
              "      <td>pixelwise</td>\n",
              "      <td>ok</td>\n",
              "      <td>1</td>\n",
              "      <td>505005</td>\n",
              "    </tr>\n",
              "    <tr>\n",
              "      <th>1</th>\n",
              "      <td>1467202</td>\n",
              "      <td>2019-11-25 09:36:45.527169</td>\n",
              "      <td>NaN</td>\n",
              "      <td>NaN</td>\n",
              "      <td>pixelwise</td>\n",
              "      <td>ok</td>\n",
              "      <td>1</td>\n",
              "      <td>1467202</td>\n",
              "    </tr>\n",
              "    <tr>\n",
              "      <th>2</th>\n",
              "      <td>1224367</td>\n",
              "      <td>2019-11-09 05:31:17.791272</td>\n",
              "      <td>NaN</td>\n",
              "      <td>NaN</td>\n",
              "      <td>pixelwise</td>\n",
              "      <td>ok</td>\n",
              "      <td>1</td>\n",
              "      <td>1224367</td>\n",
              "    </tr>\n",
              "    <tr>\n",
              "      <th>3</th>\n",
              "      <td>1058595</td>\n",
              "      <td>2019-11-01 04:01:21.444399</td>\n",
              "      <td>NaN</td>\n",
              "      <td>NaN</td>\n",
              "      <td>pixelwise</td>\n",
              "      <td>ok</td>\n",
              "      <td>1</td>\n",
              "      <td>1058595</td>\n",
              "    </tr>\n",
              "    <tr>\n",
              "      <th>4</th>\n",
              "      <td>829150</td>\n",
              "      <td>2019-10-15 22:41:53.130787</td>\n",
              "      <td>NaN</td>\n",
              "      <td>NaN</td>\n",
              "      <td>pixelwise</td>\n",
              "      <td>ok</td>\n",
              "      <td>1</td>\n",
              "      <td>829150</td>\n",
              "    </tr>\n",
              "  </tbody>\n",
              "</table>\n",
              "</div>"
            ],
            "text/plain": [
              "        id               creation_date  ... project_id image_id\n",
              "0   505005  2019-08-29 19:38:26.358428  ...          1   505005\n",
              "1  1467202  2019-11-25 09:36:45.527169  ...          1  1467202\n",
              "2  1224367  2019-11-09 05:31:17.791272  ...          1  1224367\n",
              "3  1058595  2019-11-01 04:01:21.444399  ...          1  1058595\n",
              "4   829150  2019-10-15 22:41:53.130787  ...          1   829150\n",
              "\n",
              "[5 rows x 8 columns]"
            ]
          },
          "metadata": {},
          "execution_count": 5
        }
      ]
    },
    {
      "cell_type": "code",
      "metadata": {
        "colab": {
          "base_uri": "https://localhost:8080/"
        },
        "id": "nF0y9aT4fKFi",
        "outputId": "7e69cb1e-595f-4d5f-89ea-ccbb8a87aae5"
      },
      "source": [
        "annotation.info()"
      ],
      "execution_count": 6,
      "outputs": [
        {
          "output_type": "stream",
          "name": "stdout",
          "text": [
            "<class 'pandas.core.frame.DataFrame'>\n",
            "RangeIndex: 30000 entries, 0 to 29999\n",
            "Data columns (total 8 columns):\n",
            " #   Column          Non-Null Count  Dtype \n",
            "---  ------          --------------  ----- \n",
            " 0   id              30000 non-null  int64 \n",
            " 1   creation_date   30000 non-null  object\n",
            " 2   updated_date    9532 non-null   object\n",
            " 3   bounding_boxes  424 non-null    object\n",
            " 4   style           30000 non-null  object\n",
            " 5   review_state    30000 non-null  object\n",
            " 6   project_id      30000 non-null  int64 \n",
            " 7   image_id        30000 non-null  int64 \n",
            "dtypes: int64(3), object(5)\n",
            "memory usage: 1.8+ MB\n"
          ]
        }
      ]
    },
    {
      "cell_type": "code",
      "metadata": {
        "colab": {
          "base_uri": "https://localhost:8080/",
          "height": 206
        },
        "id": "MBkz2dEoe6cT",
        "outputId": "a5b68038-22e5-45dd-e68a-a0f59ddb34ef"
      },
      "source": [
        "image.head()"
      ],
      "execution_count": 7,
      "outputs": [
        {
          "output_type": "execute_result",
          "data": {
            "text/html": [
              "<div>\n",
              "<style scoped>\n",
              "    .dataframe tbody tr th:only-of-type {\n",
              "        vertical-align: middle;\n",
              "    }\n",
              "\n",
              "    .dataframe tbody tr th {\n",
              "        vertical-align: top;\n",
              "    }\n",
              "\n",
              "    .dataframe thead th {\n",
              "        text-align: right;\n",
              "    }\n",
              "</style>\n",
              "<table border=\"1\" class=\"dataframe\">\n",
              "  <thead>\n",
              "    <tr style=\"text-align: right;\">\n",
              "      <th></th>\n",
              "      <th>id</th>\n",
              "      <th>collection_date</th>\n",
              "      <th>machine_data</th>\n",
              "      <th>content_hash</th>\n",
              "      <th>image_id</th>\n",
              "    </tr>\n",
              "  </thead>\n",
              "  <tbody>\n",
              "    <tr>\n",
              "      <th>0</th>\n",
              "      <td>2548046</td>\n",
              "      <td>2019-08-05 20:45:05.115711</td>\n",
              "      <td>{\"ils_nir\": 1142, \"ils_red\": 1896, \"weather\": ...</td>\n",
              "      <td>109d6a4af9a5fc7c21ceee2168063209</td>\n",
              "      <td>2548046</td>\n",
              "    </tr>\n",
              "    <tr>\n",
              "      <th>1</th>\n",
              "      <td>3712464</td>\n",
              "      <td>2019-06-10 17:22:05.576691</td>\n",
              "      <td>{\"ils_nir\": 1176, \"ils_red\": 1982, \"weather\": ...</td>\n",
              "      <td>c9ffe3381de6ad8b01853fd62779daef</td>\n",
              "      <td>3712464</td>\n",
              "    </tr>\n",
              "    <tr>\n",
              "      <th>2</th>\n",
              "      <td>4322340</td>\n",
              "      <td>2019-07-11 15:02:04.521867</td>\n",
              "      <td>{\"ils_nir\": 1999, \"ils_red\": 2953, \"weather\": ...</td>\n",
              "      <td>922f5cb720b61d617d97d8471c3063e1</td>\n",
              "      <td>4322340</td>\n",
              "    </tr>\n",
              "    <tr>\n",
              "      <th>3</th>\n",
              "      <td>3910126</td>\n",
              "      <td>2019-05-16 20:19:07.538567</td>\n",
              "      <td>{\"ils_nir\": 1531, \"ils_red\": 2554, \"weather\": ...</td>\n",
              "      <td>5d63b064497d24121557f805a6257209</td>\n",
              "      <td>3910126</td>\n",
              "    </tr>\n",
              "    <tr>\n",
              "      <th>4</th>\n",
              "      <td>3424603</td>\n",
              "      <td>2019-06-21 18:54:55.987010</td>\n",
              "      <td>{\"ils_nir\": 265, \"ils_red\": 477, \"weather\": \"o...</td>\n",
              "      <td>f28f7ea4e4dbb3c7cedab5aed4d9458e</td>\n",
              "      <td>3424603</td>\n",
              "    </tr>\n",
              "  </tbody>\n",
              "</table>\n",
              "</div>"
            ],
            "text/plain": [
              "        id  ... image_id\n",
              "0  2548046  ...  2548046\n",
              "1  3712464  ...  3712464\n",
              "2  4322340  ...  4322340\n",
              "3  3910126  ...  3910126\n",
              "4  3424603  ...  3424603\n",
              "\n",
              "[5 rows x 5 columns]"
            ]
          },
          "metadata": {},
          "execution_count": 7
        }
      ]
    },
    {
      "cell_type": "code",
      "metadata": {
        "colab": {
          "base_uri": "https://localhost:8080/"
        },
        "id": "NIYVwhmxfF-m",
        "outputId": "cfc460db-bf63-403e-c2a4-3c350c417e6f"
      },
      "source": [
        "image.info()"
      ],
      "execution_count": 8,
      "outputs": [
        {
          "output_type": "stream",
          "name": "stdout",
          "text": [
            "<class 'pandas.core.frame.DataFrame'>\n",
            "RangeIndex: 30000 entries, 0 to 29999\n",
            "Data columns (total 5 columns):\n",
            " #   Column           Non-Null Count  Dtype \n",
            "---  ------           --------------  ----- \n",
            " 0   id               30000 non-null  int64 \n",
            " 1   collection_date  30000 non-null  object\n",
            " 2   machine_data     30000 non-null  object\n",
            " 3   content_hash     30000 non-null  object\n",
            " 4   image_id         30000 non-null  int64 \n",
            "dtypes: int64(2), object(3)\n",
            "memory usage: 1.1+ MB\n"
          ]
        }
      ]
    },
    {
      "cell_type": "markdown",
      "metadata": {
        "id": "RAWq5-6kLmKy"
      },
      "source": [
        "There are dictionaries in 'machine_data'. I will first need to parse 'machine_data' into several features that could be useful for my following analysis. "
      ]
    },
    {
      "cell_type": "code",
      "metadata": {
        "id": "QGfz-3rjnpbi"
      },
      "source": [
        "# parse machine_data\n",
        "machine_data_df = image.machine_data.apply(json.loads).apply(pd.Series)\n",
        "\n",
        "# the features that I am interested in machine_data\n",
        "parse_columns = ['crop_name', 'robot_name', 'weed_pressure', 'furrow_depth_inches', 'gps_latitude', 'gps_longitude']\n",
        "\n",
        "for column in parse_columns:\n",
        "  image[column] = machine_data_df[column]"
      ],
      "execution_count": 9,
      "outputs": []
    },
    {
      "cell_type": "code",
      "metadata": {
        "id": "T2mAk2DhqY5d",
        "colab": {
          "base_uri": "https://localhost:8080/",
          "height": 590
        },
        "outputId": "4527a0d9-b0be-4889-dca8-83b726c09626"
      },
      "source": [
        "# extract date-time info from 'collection_date'\n",
        "image['date'] = pd.to_datetime(image.collection_date).dt.date\n",
        "image['week'] = pd.to_datetime(image.collection_date).dt.week\n",
        "image['year'] = pd.to_datetime(image.collection_date).dt.year\n",
        "\n",
        "# since I will only consider the data in 2019, therefore, I will mainly use image_2019 in the following\n",
        "image_2019 = image[image['year']==2019]\n",
        "image_2019.head()"
      ],
      "execution_count": 10,
      "outputs": [
        {
          "output_type": "execute_result",
          "data": {
            "text/html": [
              "<div>\n",
              "<style scoped>\n",
              "    .dataframe tbody tr th:only-of-type {\n",
              "        vertical-align: middle;\n",
              "    }\n",
              "\n",
              "    .dataframe tbody tr th {\n",
              "        vertical-align: top;\n",
              "    }\n",
              "\n",
              "    .dataframe thead th {\n",
              "        text-align: right;\n",
              "    }\n",
              "</style>\n",
              "<table border=\"1\" class=\"dataframe\">\n",
              "  <thead>\n",
              "    <tr style=\"text-align: right;\">\n",
              "      <th></th>\n",
              "      <th>id</th>\n",
              "      <th>collection_date</th>\n",
              "      <th>machine_data</th>\n",
              "      <th>content_hash</th>\n",
              "      <th>image_id</th>\n",
              "      <th>crop_name</th>\n",
              "      <th>robot_name</th>\n",
              "      <th>weed_pressure</th>\n",
              "      <th>furrow_depth_inches</th>\n",
              "      <th>gps_latitude</th>\n",
              "      <th>gps_longitude</th>\n",
              "      <th>date</th>\n",
              "      <th>week</th>\n",
              "      <th>year</th>\n",
              "    </tr>\n",
              "  </thead>\n",
              "  <tbody>\n",
              "    <tr>\n",
              "      <th>0</th>\n",
              "      <td>2548046</td>\n",
              "      <td>2019-08-05 20:45:05.115711</td>\n",
              "      <td>{\"ils_nir\": 1142, \"ils_red\": 1896, \"weather\": ...</td>\n",
              "      <td>109d6a4af9a5fc7c21ceee2168063209</td>\n",
              "      <td>2548046</td>\n",
              "      <td>cotton</td>\n",
              "      <td>dcm-fig</td>\n",
              "      <td>high</td>\n",
              "      <td>zerototwoinches</td>\n",
              "      <td>32.242079</td>\n",
              "      <td>-101.954649</td>\n",
              "      <td>2019-08-05</td>\n",
              "      <td>32</td>\n",
              "      <td>2019</td>\n",
              "    </tr>\n",
              "    <tr>\n",
              "      <th>1</th>\n",
              "      <td>3712464</td>\n",
              "      <td>2019-06-10 17:22:05.576691</td>\n",
              "      <td>{\"ils_nir\": 1176, \"ils_red\": 1982, \"weather\": ...</td>\n",
              "      <td>c9ffe3381de6ad8b01853fd62779daef</td>\n",
              "      <td>3712464</td>\n",
              "      <td>cotton</td>\n",
              "      <td>dcm-date</td>\n",
              "      <td>medium</td>\n",
              "      <td>zerototwoinches</td>\n",
              "      <td>33.956683</td>\n",
              "      <td>-102.599881</td>\n",
              "      <td>2019-06-10</td>\n",
              "      <td>24</td>\n",
              "      <td>2019</td>\n",
              "    </tr>\n",
              "    <tr>\n",
              "      <th>2</th>\n",
              "      <td>4322340</td>\n",
              "      <td>2019-07-11 15:02:04.521867</td>\n",
              "      <td>{\"ils_nir\": 1999, \"ils_red\": 2953, \"weather\": ...</td>\n",
              "      <td>922f5cb720b61d617d97d8471c3063e1</td>\n",
              "      <td>4322340</td>\n",
              "      <td>soybeans</td>\n",
              "      <td>dcm-cherry</td>\n",
              "      <td>low</td>\n",
              "      <td>zerototwoinches</td>\n",
              "      <td>0.000000</td>\n",
              "      <td>0.000000</td>\n",
              "      <td>2019-07-11</td>\n",
              "      <td>28</td>\n",
              "      <td>2019</td>\n",
              "    </tr>\n",
              "    <tr>\n",
              "      <th>3</th>\n",
              "      <td>3910126</td>\n",
              "      <td>2019-05-16 20:19:07.538567</td>\n",
              "      <td>{\"ils_nir\": 1531, \"ils_red\": 2554, \"weather\": ...</td>\n",
              "      <td>5d63b064497d24121557f805a6257209</td>\n",
              "      <td>3910126</td>\n",
              "      <td>soybeans</td>\n",
              "      <td>dcm-date</td>\n",
              "      <td>medium</td>\n",
              "      <td>zerototwoinches</td>\n",
              "      <td>30.918461</td>\n",
              "      <td>-96.723576</td>\n",
              "      <td>2019-05-16</td>\n",
              "      <td>20</td>\n",
              "      <td>2019</td>\n",
              "    </tr>\n",
              "    <tr>\n",
              "      <th>4</th>\n",
              "      <td>3424603</td>\n",
              "      <td>2019-06-21 18:54:55.987010</td>\n",
              "      <td>{\"ils_nir\": 265, \"ils_red\": 477, \"weather\": \"o...</td>\n",
              "      <td>f28f7ea4e4dbb3c7cedab5aed4d9458e</td>\n",
              "      <td>3424603</td>\n",
              "      <td>corn</td>\n",
              "      <td>dcm-cherry</td>\n",
              "      <td>medium</td>\n",
              "      <td>zerototwoinches</td>\n",
              "      <td>47.177986</td>\n",
              "      <td>-97.514772</td>\n",
              "      <td>2019-06-21</td>\n",
              "      <td>25</td>\n",
              "      <td>2019</td>\n",
              "    </tr>\n",
              "  </tbody>\n",
              "</table>\n",
              "</div>"
            ],
            "text/plain": [
              "        id             collection_date  ... week  year\n",
              "0  2548046  2019-08-05 20:45:05.115711  ...   32  2019\n",
              "1  3712464  2019-06-10 17:22:05.576691  ...   24  2019\n",
              "2  4322340  2019-07-11 15:02:04.521867  ...   28  2019\n",
              "3  3910126  2019-05-16 20:19:07.538567  ...   20  2019\n",
              "4  3424603  2019-06-21 18:54:55.987010  ...   25  2019\n",
              "\n",
              "[5 rows x 14 columns]"
            ]
          },
          "metadata": {},
          "execution_count": 10
        }
      ]
    },
    {
      "cell_type": "code",
      "metadata": {
        "colab": {
          "base_uri": "https://localhost:8080/"
        },
        "id": "sXP9H0SQ4ViJ",
        "outputId": "bc53860c-c291-4cd9-a9e0-dc04d936c2c1"
      },
      "source": [
        "# there are a very small proportion of null data in this dataset\n",
        "# since I will not build any ML models, I will not impute any missing data\n",
        "image_2019.isnull().sum()"
      ],
      "execution_count": 11,
      "outputs": [
        {
          "output_type": "execute_result",
          "data": {
            "text/plain": [
              "id                      0\n",
              "collection_date         0\n",
              "machine_data            0\n",
              "content_hash            0\n",
              "image_id                0\n",
              "crop_name               0\n",
              "robot_name              0\n",
              "weed_pressure           0\n",
              "furrow_depth_inches     6\n",
              "gps_latitude           72\n",
              "gps_longitude          72\n",
              "date                    0\n",
              "week                    0\n",
              "year                    0\n",
              "dtype: int64"
            ]
          },
          "metadata": {},
          "execution_count": 11
        }
      ]
    },
    {
      "cell_type": "markdown",
      "metadata": {
        "id": "YCSHPLalMr3N"
      },
      "source": [
        "## 2. Biweekly Data Collection Rate"
      ]
    },
    {
      "cell_type": "markdown",
      "metadata": {
        "id": "0e1I6_7u4eCX"
      },
      "source": [
        "I define biweekly data collection rate as the number of collected data points in two weeks. To better present the trend of data collection rate, I used a running biweekly rate. I then break down the biweekly data collection rate into different crop_name, robot_name, weed_pressure, and furrow_depth."
      ]
    },
    {
      "cell_type": "code",
      "metadata": {
        "colab": {
          "base_uri": "https://localhost:8080/"
        },
        "id": "b3_iO_Fhn7O8",
        "outputId": "716e55ca-925d-4f35-8810-720805c6646e"
      },
      "source": [
        "# first look into each feature\n",
        "# I found that 'furrow_depth_inches' are a mix of strings and integers,and have 15 kinds of classe, some of which are overlapped\n",
        "feature_columns = ['crop_name', 'robot_name', 'weed_pressure', 'furrow_depth_inches']\n",
        "for column in feature_columns:\n",
        "  print(column, ' include ', image[column].unique(),'.\\n')"
      ],
      "execution_count": 12,
      "outputs": [
        {
          "output_type": "stream",
          "name": "stdout",
          "text": [
            "crop_name  include  ['cotton' 'soybeans' 'corn' 'none_fallow_pre_emerge' 'unknown'] .\n",
            "\n",
            "robot_name  include  ['dcm-fig' 'dcm-date' 'dcm-cherry' 'Muddy Buddy' 'dcm-banana' 'dcm-lemon'\n",
            " 'unknown' 'bosco'] .\n",
            "\n",
            "weed_pressure  include  ['high' 'medium' 'low' 'highest' 'unknown'] .\n",
            "\n",
            "furrow_depth_inches  include  ['zerototwoinches' 3.5 3.0 'twotofourinches' 2.0 1.0 0.0\n",
            " 'greaterthansixinches' 'fourtosixinches' 5.0 2.5 4.0 4.5 1.5 'unknown'\n",
            " nan] .\n",
            "\n"
          ]
        }
      ]
    },
    {
      "cell_type": "code",
      "metadata": {
        "id": "TXaQGRYV_AV_"
      },
      "source": [
        "# apply a function on the furrow_depth_inches column to further classify it into only four classes\n",
        "def furrow_depth_level(depth):\n",
        "  if type(depth) == str:\n",
        "    if depth == 'zerototwoinches':\n",
        "      depth = '0-2'\n",
        "    elif depth == 'twotofourinches':\n",
        "      depth = '2-4'\n",
        "    elif depth == 'fourtosixinches':\n",
        "      depth = '4-6'\n",
        "    elif depth == 'greaterthansixinches':\n",
        "      depth = '>6'\n",
        "  else: \n",
        "    if depth >= 0 and depth < 2:\n",
        "      depth = '0-2'\n",
        "    elif depth >= 2 and depth < 4:\n",
        "      depth = '2-4'\n",
        "    elif depth >= 4 and depth < 6:\n",
        "      depth = '4-6'\n",
        "    elif depth >= 6:\n",
        "      depth = '>6'\n",
        "  return depth\n",
        "\n",
        "image_2019['furrow_depth_inches'] = image_2019['furrow_depth_inches'].apply(furrow_depth_level)"
      ],
      "execution_count": 13,
      "outputs": []
    },
    {
      "cell_type": "code",
      "metadata": {
        "colab": {
          "base_uri": "https://localhost:8080/",
          "height": 1000
        },
        "id": "uEDdmwPKbizl",
        "outputId": "cb08a7eb-8180-454e-8543-65e08d23337a"
      },
      "source": [
        "# plot data collection rate and break down them by each feature\n",
        "feature_columns = ['crop_name','robot_name','weed_pressure','furrow_depth_inches']\n",
        "\n",
        "fig, axes = plt.subplots(2,2,figsize=(16,14))\n",
        "n=0\n",
        "for x in range(2):\n",
        "  for y in range(2):\n",
        "    # since 'unknown' takes a very small proportion of the whole dataset, I will not include unknown\n",
        "    condition = image_2019[feature_columns[n]] != 'unknown'\n",
        "\n",
        "    # calculate data collection rate in each week\n",
        "    stack = image_2019[condition].groupby(['week',feature_columns[n]]).size()\n",
        "\n",
        "    # aggregate them into a biweekly frequency, and plot out stacked bars\n",
        "    stack.unstack().rolling(2).sum().plot(kind='bar',stacked=True, ax=axes[x][y])\n",
        "\n",
        "    axes[x][y].legend(fontsize=12)\n",
        "    axes[x][y].set_xlabel('Week',fontsize=12)\n",
        "    axes[x][y].set_ylabel('Data Collection Rate',fontsize=12)\n",
        "    axes[x][y].set_title('Running Biweekly Data Collection Rate--' + feature_columns[n], fontsize=12)\n",
        "\n",
        "    n += 1\n",
        "plt.tight_layout()"
      ],
      "execution_count": 14,
      "outputs": [
        {
          "output_type": "display_data",
          "data": {
            "image/png": "[encoded data removed]",
            "text/plain": [
              "<Figure size 1152x1008 with 4 Axes>"
            ]
          },
          "metadata": {
            "needs_background": "light"
          }
        }
      ]
    },
    {
      "cell_type": "code",
      "metadata": {
        "colab": {
          "base_uri": "https://localhost:8080/"
        },
        "id": "hivd9LnkBkoj",
        "outputId": "1da7ed0c-c1a5-4adb-86c0-f58fe1c3dbd0"
      },
      "source": [
        "image_2019.groupby(['week']).size().rolling(2).sum()"
      ],
      "execution_count": 36,
      "outputs": [
        {
          "output_type": "execute_result",
          "data": {
            "text/plain": [
              "week\n",
              "9        NaN\n",
              "10     786.0\n",
              "11    1228.0\n",
              "12    1664.0\n",
              "15    1382.0\n",
              "16     931.0\n",
              "17     899.0\n",
              "18    1236.0\n",
              "19    1004.0\n",
              "20    3616.0\n",
              "21    7190.0\n",
              "22    4880.0\n",
              "23    3575.0\n",
              "24    5178.0\n",
              "25    4884.0\n",
              "26    4789.0\n",
              "27    3691.0\n",
              "28    3202.0\n",
              "29    3932.0\n",
              "30    2204.0\n",
              "31    1332.0\n",
              "32    1426.0\n",
              "dtype: float64"
            ]
          },
          "metadata": {},
          "execution_count": 36
        }
      ]
    },
    {
      "cell_type": "markdown",
      "metadata": {
        "id": "iZ2pArJsPzSo"
      },
      "source": [
        "#### Overall Data Collection Rate\n",
        "As is shown from the above figures, in 2019, the data collection was conducted from week 9 (March) to week 32 (August), with a total of 6 months time length. The overall data collection rate was around 1141 data points biweekly in the first ten weeks (from March to mid-May). The data collection rate surges from week 20 (mid-May) and continues to be relatively high till week 29 (late July), during which the mean biweekly collection rate is 4494.\n",
        "\n",
        "#### crop_name\n",
        "In terms of data collection on different crop species, we have mainly collected three species, corn, cotton, and soybean. We have a high data collection on cotton in the beginning (week 9 to week 15) and week 24 to week 27. A high data collection on soybeans from week 20 to week 29.. \n",
        "\n",
        "#### Robot\n",
        "From week 9 to week 18, Muddy Buddy is the main robot in use. From week 24 to 32, there are banana, cherry and fig in use. In the remaining weeks, multiple robots are in use simultaneously.\n",
        "\n",
        "#### Weed-Pressure\n",
        "\n",
        "Throughout the data collection, most of the time there is low weed pressure. There was only the highest week pressure that happened during week 16 and week 17 (Mid to Late April).\n",
        "\n",
        "#### Furrow_depth\n",
        "\n",
        "For most of the time, furrow_depth is 0-2 inches. There are only week 12 to week 18 (Mid March to early May), and week 21 and 22 (late May and early June), there are relatively high proportions of furrow-depth that were 2-4 inches."
      ]
    },
    {
      "cell_type": "markdown",
      "metadata": {
        "id": "RD27eGSk7Tqp"
      },
      "source": [
        "## 3. Geographical Density"
      ]
    },
    {
      "cell_type": "markdown",
      "metadata": {
        "id": "81-b_vBK7dAm"
      },
      "source": [
        "To perform geographical analysis and better understand the data, I first transform the 'gps_latitude' and 'gps_longitude' data into address data, and then extract corresponding state, county, and postcode for a further analysis.\n",
        "\n",
        "To transfrom gps data, I used the geopy package. Since it is not feasible to perform a transformation of ~ 30000 gps data points, I first round the gps data into three decimals to get 1191 unique gps data points. I then used 'geopy' package to transform 1191 gps data into address, and merge it with the original image dataset on the same gps location. A difference of 0.001 degress of latitude and longitude only introduces an error of 100 m."
      ]
    },
    {
      "cell_type": "code",
      "metadata": {
        "id": "mWjQDH2FAnwg"
      },
      "source": [
        "# round latitude and longitude to only three decimals\n",
        "image_2019['gps_latitude'] = image_2019['gps_latitude'].round(3)\n",
        "image_2019['gps_longitude'] = image_2019['gps_longitude'].round(3)\n",
        "\n",
        "# get 1191 unique latitude and longitude data\n",
        "image_2019_location = image_2019[['gps_latitude', 'gps_longitude']].groupby(['gps_latitude', 'gps_longitude']).size().reset_index()"
      ],
      "execution_count": 15,
      "outputs": []
    },
    {
      "cell_type": "code",
      "metadata": {
        "colab": {
          "base_uri": "https://localhost:8080/"
        },
        "id": "q1wzyaju3uTs",
        "outputId": "9d3f1575-1981-4f75-f227-6b8964900d46"
      },
      "source": [
        "# using the geopy package to define a function to transform gps data to address\n",
        "def get_address(df, geolocator, lat_field, lon_field):\n",
        "    try:\n",
        "        location = geolocator.reverse((df[lat_field], df[lon_field]), timeout=10)\n",
        "        return location.raw['address']\n",
        "    except (AttributeError, KeyError, ValueError) as e:\n",
        "        print(repr(e), lat_field, lon_field)\n",
        "        return None\n",
        "\n",
        "geolocator = geopy.Nominatim(user_agent='my-application')\n",
        "\n",
        "# apply the aforementioned function on the unique gps data points\n",
        "# there are ~ 30 data points were incorrect, which can not be tranformed to address\n",
        "# I transformed error gps data by hand searching on google and I found those were located in the ocean, therefore, they were wrong\n",
        "address_temp = image_2019_location.apply(get_address, axis=1, geolocator=geolocator, lat_field='gps_latitude', lon_field='gps_longitude')"
      ],
      "execution_count": 16,
      "outputs": [
        {
          "output_type": "stream",
          "name": "stdout",
          "text": [
            "KeyError('address') gps_latitude gps_longitude\n",
            "KeyError('address') gps_latitude gps_longitude\n",
            "KeyError('address') gps_latitude gps_longitude\n",
            "KeyError('address') gps_latitude gps_longitude\n",
            "KeyError('address') gps_latitude gps_longitude\n",
            "KeyError('address') gps_latitude gps_longitude\n",
            "KeyError('address') gps_latitude gps_longitude\n",
            "KeyError('address') gps_latitude gps_longitude\n",
            "KeyError('address') gps_latitude gps_longitude\n",
            "KeyError('address') gps_latitude gps_longitude\n",
            "KeyError('address') gps_latitude gps_longitude\n",
            "KeyError('address') gps_latitude gps_longitude\n",
            "KeyError('address') gps_latitude gps_longitude\n",
            "KeyError('address') gps_latitude gps_longitude\n",
            "KeyError('address') gps_latitude gps_longitude\n",
            "KeyError('address') gps_latitude gps_longitude\n",
            "KeyError('address') gps_latitude gps_longitude\n",
            "KeyError('address') gps_latitude gps_longitude\n",
            "KeyError('address') gps_latitude gps_longitude\n",
            "KeyError('address') gps_latitude gps_longitude\n",
            "KeyError('address') gps_latitude gps_longitude\n",
            "KeyError('address') gps_latitude gps_longitude\n",
            "KeyError('address') gps_latitude gps_longitude\n",
            "KeyError('address') gps_latitude gps_longitude\n",
            "KeyError('address') gps_latitude gps_longitude\n",
            "KeyError('address') gps_latitude gps_longitude\n"
          ]
        }
      ]
    },
    {
      "cell_type": "code",
      "metadata": {
        "id": "4_-lLWtlGmPp"
      },
      "source": [
        "# only extract county, postcode, and state\n",
        "location_info = address_temp.apply(pd.Series)[['county','postcode','state']]\n",
        "\n",
        "# concat this dataset with gps data\n",
        "location = pd.concat([image_2019_location, location_info], axis=1)\n",
        "location = location[['gps_latitude', 'gps_longitude', 'county', 'postcode', 'state']]"
      ],
      "execution_count": 17,
      "outputs": []
    },
    {
      "cell_type": "code",
      "metadata": {
        "colab": {
          "base_uri": "https://localhost:8080/",
          "height": 590
        },
        "id": "MlkLYE_8WeU2",
        "outputId": "72362dfe-0e4c-4661-c9d5-83cb0b3e12ea"
      },
      "source": [
        "# merge location dataset with the original image dataset\n",
        "image_2019_withloc = pd.merge(image_2019, location, how='left', on=['gps_latitude', 'gps_longitude'])\n",
        "image_2019_withloc.head()"
      ],
      "execution_count": 18,
      "outputs": [
        {
          "output_type": "execute_result",
          "data": {
            "text/html": [
              "<div>\n",
              "<style scoped>\n",
              "    .dataframe tbody tr th:only-of-type {\n",
              "        vertical-align: middle;\n",
              "    }\n",
              "\n",
              "    .dataframe tbody tr th {\n",
              "        vertical-align: top;\n",
              "    }\n",
              "\n",
              "    .dataframe thead th {\n",
              "        text-align: right;\n",
              "    }\n",
              "</style>\n",
              "<table border=\"1\" class=\"dataframe\">\n",
              "  <thead>\n",
              "    <tr style=\"text-align: right;\">\n",
              "      <th></th>\n",
              "      <th>id</th>\n",
              "      <th>collection_date</th>\n",
              "      <th>machine_data</th>\n",
              "      <th>content_hash</th>\n",
              "      <th>image_id</th>\n",
              "      <th>crop_name</th>\n",
              "      <th>robot_name</th>\n",
              "      <th>weed_pressure</th>\n",
              "      <th>furrow_depth_inches</th>\n",
              "      <th>gps_latitude</th>\n",
              "      <th>gps_longitude</th>\n",
              "      <th>date</th>\n",
              "      <th>week</th>\n",
              "      <th>year</th>\n",
              "      <th>county</th>\n",
              "      <th>postcode</th>\n",
              "      <th>state</th>\n",
              "    </tr>\n",
              "  </thead>\n",
              "  <tbody>\n",
              "    <tr>\n",
              "      <th>0</th>\n",
              "      <td>2548046</td>\n",
              "      <td>2019-08-05 20:45:05.115711</td>\n",
              "      <td>{\"ils_nir\": 1142, \"ils_red\": 1896, \"weather\": ...</td>\n",
              "      <td>109d6a4af9a5fc7c21ceee2168063209</td>\n",
              "      <td>2548046</td>\n",
              "      <td>cotton</td>\n",
              "      <td>dcm-fig</td>\n",
              "      <td>high</td>\n",
              "      <td>0-2</td>\n",
              "      <td>32.242</td>\n",
              "      <td>-101.955</td>\n",
              "      <td>2019-08-05</td>\n",
              "      <td>32</td>\n",
              "      <td>2019</td>\n",
              "      <td>Martin County</td>\n",
              "      <td>NaN</td>\n",
              "      <td>Texas</td>\n",
              "    </tr>\n",
              "    <tr>\n",
              "      <th>1</th>\n",
              "      <td>3712464</td>\n",
              "      <td>2019-06-10 17:22:05.576691</td>\n",
              "      <td>{\"ils_nir\": 1176, \"ils_red\": 1982, \"weather\": ...</td>\n",
              "      <td>c9ffe3381de6ad8b01853fd62779daef</td>\n",
              "      <td>3712464</td>\n",
              "      <td>cotton</td>\n",
              "      <td>dcm-date</td>\n",
              "      <td>medium</td>\n",
              "      <td>0-2</td>\n",
              "      <td>33.957</td>\n",
              "      <td>-102.600</td>\n",
              "      <td>2019-06-10</td>\n",
              "      <td>24</td>\n",
              "      <td>2019</td>\n",
              "      <td>Lamb County</td>\n",
              "      <td>NaN</td>\n",
              "      <td>Texas</td>\n",
              "    </tr>\n",
              "    <tr>\n",
              "      <th>2</th>\n",
              "      <td>4322340</td>\n",
              "      <td>2019-07-11 15:02:04.521867</td>\n",
              "      <td>{\"ils_nir\": 1999, \"ils_red\": 2953, \"weather\": ...</td>\n",
              "      <td>922f5cb720b61d617d97d8471c3063e1</td>\n",
              "      <td>4322340</td>\n",
              "      <td>soybeans</td>\n",
              "      <td>dcm-cherry</td>\n",
              "      <td>low</td>\n",
              "      <td>0-2</td>\n",
              "      <td>0.000</td>\n",
              "      <td>0.000</td>\n",
              "      <td>2019-07-11</td>\n",
              "      <td>28</td>\n",
              "      <td>2019</td>\n",
              "      <td>NaN</td>\n",
              "      <td>NaN</td>\n",
              "      <td>NaN</td>\n",
              "    </tr>\n",
              "    <tr>\n",
              "      <th>3</th>\n",
              "      <td>3910126</td>\n",
              "      <td>2019-05-16 20:19:07.538567</td>\n",
              "      <td>{\"ils_nir\": 1531, \"ils_red\": 2554, \"weather\": ...</td>\n",
              "      <td>5d63b064497d24121557f805a6257209</td>\n",
              "      <td>3910126</td>\n",
              "      <td>soybeans</td>\n",
              "      <td>dcm-date</td>\n",
              "      <td>medium</td>\n",
              "      <td>0-2</td>\n",
              "      <td>30.918</td>\n",
              "      <td>-96.724</td>\n",
              "      <td>2019-05-16</td>\n",
              "      <td>20</td>\n",
              "      <td>2019</td>\n",
              "      <td>Robertson County</td>\n",
              "      <td>NaN</td>\n",
              "      <td>Texas</td>\n",
              "    </tr>\n",
              "    <tr>\n",
              "      <th>4</th>\n",
              "      <td>3424603</td>\n",
              "      <td>2019-06-21 18:54:55.987010</td>\n",
              "      <td>{\"ils_nir\": 265, \"ils_red\": 477, \"weather\": \"o...</td>\n",
              "      <td>f28f7ea4e4dbb3c7cedab5aed4d9458e</td>\n",
              "      <td>3424603</td>\n",
              "      <td>corn</td>\n",
              "      <td>dcm-cherry</td>\n",
              "      <td>medium</td>\n",
              "      <td>0-2</td>\n",
              "      <td>47.178</td>\n",
              "      <td>-97.515</td>\n",
              "      <td>2019-06-21</td>\n",
              "      <td>25</td>\n",
              "      <td>2019</td>\n",
              "      <td>Cass County</td>\n",
              "      <td>58064</td>\n",
              "      <td>North Dakota</td>\n",
              "    </tr>\n",
              "  </tbody>\n",
              "</table>\n",
              "</div>"
            ],
            "text/plain": [
              "        id             collection_date  ... postcode         state\n",
              "0  2548046  2019-08-05 20:45:05.115711  ...      NaN         Texas\n",
              "1  3712464  2019-06-10 17:22:05.576691  ...      NaN         Texas\n",
              "2  4322340  2019-07-11 15:02:04.521867  ...      NaN           NaN\n",
              "3  3910126  2019-05-16 20:19:07.538567  ...      NaN         Texas\n",
              "4  3424603  2019-06-21 18:54:55.987010  ...    58064  North Dakota\n",
              "\n",
              "[5 rows x 17 columns]"
            ]
          },
          "metadata": {},
          "execution_count": 18
        }
      ]
    },
    {
      "cell_type": "markdown",
      "metadata": {
        "id": "-iQeb10x-cMT"
      },
      "source": [
        "The following two tables gives the locations with the highest data collection density. In terms of states, Texas has the highest data collection rate. There were 39.84% data was collected in Texas. Following are Louisiana and Minnesota, which are 15.28% and 14.44%, respectively.\n",
        "\n",
        "In the data from Texas, cotton data is the mainstream."
      ]
    },
    {
      "cell_type": "code",
      "metadata": {
        "colab": {
          "base_uri": "https://localhost:8080/",
          "height": 775
        },
        "id": "mu3A90KRr1BW",
        "outputId": "6fbb3a2d-5638-47b4-ad80-7f4f87669a36"
      },
      "source": [
        "state_stats = image_2019_withloc.groupby('state').size().reset_index()\n",
        "state_stats.columns = ['state','count']\n",
        "state_stats['percentage'] = round(state_stats['count']/(state_stats['count'].sum())*100,2)\n",
        "print('The data collection density of each state are listed as below \\n')\n",
        "state_stats.sort_values(by='count',ascending=False)"
      ],
      "execution_count": 19,
      "outputs": [
        {
          "output_type": "stream",
          "name": "stdout",
          "text": [
            "The data collection density of each state are listed as below \n",
            "\n"
          ]
        },
        {
          "output_type": "execute_result",
          "data": {
            "text/html": [
              "<div>\n",
              "<style scoped>\n",
              "    .dataframe tbody tr th:only-of-type {\n",
              "        vertical-align: middle;\n",
              "    }\n",
              "\n",
              "    .dataframe tbody tr th {\n",
              "        vertical-align: top;\n",
              "    }\n",
              "\n",
              "    .dataframe thead th {\n",
              "        text-align: right;\n",
              "    }\n",
              "</style>\n",
              "<table border=\"1\" class=\"dataframe\">\n",
              "  <thead>\n",
              "    <tr style=\"text-align: right;\">\n",
              "      <th></th>\n",
              "      <th>state</th>\n",
              "      <th>count</th>\n",
              "      <th>percentage</th>\n",
              "    </tr>\n",
              "  </thead>\n",
              "  <tbody>\n",
              "    <tr>\n",
              "      <th>18</th>\n",
              "      <td>Texas</td>\n",
              "      <td>11560</td>\n",
              "      <td>39.74</td>\n",
              "    </tr>\n",
              "    <tr>\n",
              "      <th>7</th>\n",
              "      <td>Louisiana</td>\n",
              "      <td>4444</td>\n",
              "      <td>15.28</td>\n",
              "    </tr>\n",
              "    <tr>\n",
              "      <th>8</th>\n",
              "      <td>Minnesota</td>\n",
              "      <td>4202</td>\n",
              "      <td>14.44</td>\n",
              "    </tr>\n",
              "    <tr>\n",
              "      <th>16</th>\n",
              "      <td>South Dakota</td>\n",
              "      <td>2148</td>\n",
              "      <td>7.38</td>\n",
              "    </tr>\n",
              "    <tr>\n",
              "      <th>13</th>\n",
              "      <td>North Dakota</td>\n",
              "      <td>1314</td>\n",
              "      <td>4.52</td>\n",
              "    </tr>\n",
              "    <tr>\n",
              "      <th>4</th>\n",
              "      <td>Iowa</td>\n",
              "      <td>1193</td>\n",
              "      <td>4.10</td>\n",
              "    </tr>\n",
              "    <tr>\n",
              "      <th>0</th>\n",
              "      <td>Arkansas</td>\n",
              "      <td>1143</td>\n",
              "      <td>3.93</td>\n",
              "    </tr>\n",
              "    <tr>\n",
              "      <th>12</th>\n",
              "      <td>North Carolina</td>\n",
              "      <td>958</td>\n",
              "      <td>3.29</td>\n",
              "    </tr>\n",
              "    <tr>\n",
              "      <th>2</th>\n",
              "      <td>Illinois</td>\n",
              "      <td>578</td>\n",
              "      <td>1.99</td>\n",
              "    </tr>\n",
              "    <tr>\n",
              "      <th>9</th>\n",
              "      <td>Mississippi</td>\n",
              "      <td>553</td>\n",
              "      <td>1.90</td>\n",
              "    </tr>\n",
              "    <tr>\n",
              "      <th>11</th>\n",
              "      <td>Nebraska</td>\n",
              "      <td>287</td>\n",
              "      <td>0.99</td>\n",
              "    </tr>\n",
              "    <tr>\n",
              "      <th>10</th>\n",
              "      <td>Missouri</td>\n",
              "      <td>247</td>\n",
              "      <td>0.85</td>\n",
              "    </tr>\n",
              "    <tr>\n",
              "      <th>3</th>\n",
              "      <td>Indiana</td>\n",
              "      <td>166</td>\n",
              "      <td>0.57</td>\n",
              "    </tr>\n",
              "    <tr>\n",
              "      <th>19</th>\n",
              "      <td>Vermont</td>\n",
              "      <td>150</td>\n",
              "      <td>0.52</td>\n",
              "    </tr>\n",
              "    <tr>\n",
              "      <th>1</th>\n",
              "      <td>California</td>\n",
              "      <td>101</td>\n",
              "      <td>0.35</td>\n",
              "    </tr>\n",
              "    <tr>\n",
              "      <th>21</th>\n",
              "      <td>Wisconsin</td>\n",
              "      <td>17</td>\n",
              "      <td>0.06</td>\n",
              "    </tr>\n",
              "    <tr>\n",
              "      <th>15</th>\n",
              "      <td>Oklahoma</td>\n",
              "      <td>14</td>\n",
              "      <td>0.05</td>\n",
              "    </tr>\n",
              "    <tr>\n",
              "      <th>17</th>\n",
              "      <td>Tennessee</td>\n",
              "      <td>9</td>\n",
              "      <td>0.03</td>\n",
              "    </tr>\n",
              "    <tr>\n",
              "      <th>5</th>\n",
              "      <td>Kansas</td>\n",
              "      <td>4</td>\n",
              "      <td>0.01</td>\n",
              "    </tr>\n",
              "    <tr>\n",
              "      <th>20</th>\n",
              "      <td>Virginia</td>\n",
              "      <td>2</td>\n",
              "      <td>0.01</td>\n",
              "    </tr>\n",
              "    <tr>\n",
              "      <th>6</th>\n",
              "      <td>Kentucky</td>\n",
              "      <td>1</td>\n",
              "      <td>0.00</td>\n",
              "    </tr>\n",
              "    <tr>\n",
              "      <th>14</th>\n",
              "      <td>Ohio</td>\n",
              "      <td>1</td>\n",
              "      <td>0.00</td>\n",
              "    </tr>\n",
              "  </tbody>\n",
              "</table>\n",
              "</div>"
            ],
            "text/plain": [
              "             state  count  percentage\n",
              "18           Texas  11560       39.74\n",
              "7        Louisiana   4444       15.28\n",
              "8        Minnesota   4202       14.44\n",
              "16    South Dakota   2148        7.38\n",
              "13    North Dakota   1314        4.52\n",
              "4             Iowa   1193        4.10\n",
              "0         Arkansas   1143        3.93\n",
              "12  North Carolina    958        3.29\n",
              "2         Illinois    578        1.99\n",
              "9      Mississippi    553        1.90\n",
              "11        Nebraska    287        0.99\n",
              "10        Missouri    247        0.85\n",
              "3          Indiana    166        0.57\n",
              "19         Vermont    150        0.52\n",
              "1       California    101        0.35\n",
              "21       Wisconsin     17        0.06\n",
              "15        Oklahoma     14        0.05\n",
              "17       Tennessee      9        0.03\n",
              "5           Kansas      4        0.01\n",
              "20        Virginia      2        0.01\n",
              "6         Kentucky      1        0.00\n",
              "14            Ohio      1        0.00"
            ]
          },
          "metadata": {},
          "execution_count": 19
        }
      ]
    },
    {
      "cell_type": "code",
      "metadata": {
        "colab": {
          "base_uri": "https://localhost:8080/"
        },
        "id": "NTdRIJqs_KLv",
        "outputId": "5e0db310-369c-49a0-d1ec-e5d8cb936c09"
      },
      "source": [
        "print('The distribution of data points that were collected in Texas:')\n",
        "image_2019_withloc[image_2019_withloc['state'] == 'Texas']['crop_name'].value_counts().sort_values(ascending=False)"
      ],
      "execution_count": 20,
      "outputs": [
        {
          "output_type": "stream",
          "name": "stdout",
          "text": [
            "The distribution of data points that were collected in Texas:\n"
          ]
        },
        {
          "output_type": "execute_result",
          "data": {
            "text/plain": [
              "cotton      5407\n",
              "corn        3555\n",
              "soybeans    2598\n",
              "Name: crop_name, dtype: int64"
            ]
          },
          "metadata": {},
          "execution_count": 20
        }
      ]
    },
    {
      "cell_type": "markdown",
      "metadata": {
        "id": "eimeCwUY-53I"
      },
      "source": [
        "In terms of counties, Cameron County in Texas accounted for 11.43% of the whole data collection, which is the highest data collection proportion among the 242 counties."
      ]
    },
    {
      "cell_type": "code",
      "metadata": {
        "colab": {
          "base_uri": "https://localhost:8080/",
          "height": 555
        },
        "id": "KihMF_0ytiYG",
        "outputId": "ba4033dc-404e-4735-dcdb-8a4306a1879c"
      },
      "source": [
        "county_stats = image_2019_withloc.groupby(['state','county']).size().reset_index()\n",
        "county_stats.columns = ['state','county','count']\n",
        "county_stats['percentage'] = round(county_stats['count']/(county_stats['count'].sum())*100,2)\n",
        "print('The top 15 counties that have the highest data collection density are listed as below \\n')\n",
        "county_stats.sort_values(by='count',ascending=False).head(15)"
      ],
      "execution_count": 21,
      "outputs": [
        {
          "output_type": "stream",
          "name": "stdout",
          "text": [
            "The top 15 counties that have the highest data collection density are listed as below \n",
            "\n"
          ]
        },
        {
          "output_type": "execute_result",
          "data": {
            "text/html": [
              "<div>\n",
              "<style scoped>\n",
              "    .dataframe tbody tr th:only-of-type {\n",
              "        vertical-align: middle;\n",
              "    }\n",
              "\n",
              "    .dataframe tbody tr th {\n",
              "        vertical-align: top;\n",
              "    }\n",
              "\n",
              "    .dataframe thead th {\n",
              "        text-align: right;\n",
              "    }\n",
              "</style>\n",
              "<table border=\"1\" class=\"dataframe\">\n",
              "  <thead>\n",
              "    <tr style=\"text-align: right;\">\n",
              "      <th></th>\n",
              "      <th>state</th>\n",
              "      <th>county</th>\n",
              "      <th>count</th>\n",
              "      <th>percentage</th>\n",
              "    </tr>\n",
              "  </thead>\n",
              "  <tbody>\n",
              "    <tr>\n",
              "      <th>165</th>\n",
              "      <td>Texas</td>\n",
              "      <td>Cameron County</td>\n",
              "      <td>3326</td>\n",
              "      <td>11.43</td>\n",
              "    </tr>\n",
              "    <tr>\n",
              "      <th>48</th>\n",
              "      <td>Louisiana</td>\n",
              "      <td>Morehouse Parish</td>\n",
              "      <td>2387</td>\n",
              "      <td>8.21</td>\n",
              "    </tr>\n",
              "    <tr>\n",
              "      <th>214</th>\n",
              "      <td>Texas</td>\n",
              "      <td>Robertson County</td>\n",
              "      <td>1965</td>\n",
              "      <td>6.75</td>\n",
              "    </tr>\n",
              "    <tr>\n",
              "      <th>49</th>\n",
              "      <td>Louisiana</td>\n",
              "      <td>Richland Parish</td>\n",
              "      <td>1187</td>\n",
              "      <td>4.08</td>\n",
              "    </tr>\n",
              "    <tr>\n",
              "      <th>61</th>\n",
              "      <td>Minnesota</td>\n",
              "      <td>Goodhue County</td>\n",
              "      <td>1069</td>\n",
              "      <td>3.67</td>\n",
              "    </tr>\n",
              "    <tr>\n",
              "      <th>8</th>\n",
              "      <td>Arkansas</td>\n",
              "      <td>Mississippi County</td>\n",
              "      <td>929</td>\n",
              "      <td>3.19</td>\n",
              "    </tr>\n",
              "    <tr>\n",
              "      <th>186</th>\n",
              "      <td>Texas</td>\n",
              "      <td>Hockley County</td>\n",
              "      <td>849</td>\n",
              "      <td>2.92</td>\n",
              "    </tr>\n",
              "    <tr>\n",
              "      <th>174</th>\n",
              "      <td>Texas</td>\n",
              "      <td>Fannin County</td>\n",
              "      <td>821</td>\n",
              "      <td>2.82</td>\n",
              "    </tr>\n",
              "    <tr>\n",
              "      <th>147</th>\n",
              "      <td>South Dakota</td>\n",
              "      <td>Tripp County</td>\n",
              "      <td>812</td>\n",
              "      <td>2.79</td>\n",
              "    </tr>\n",
              "    <tr>\n",
              "      <th>159</th>\n",
              "      <td>Texas</td>\n",
              "      <td>Bailey County</td>\n",
              "      <td>781</td>\n",
              "      <td>2.68</td>\n",
              "    </tr>\n",
              "    <tr>\n",
              "      <th>119</th>\n",
              "      <td>North Dakota</td>\n",
              "      <td>Cass County</td>\n",
              "      <td>755</td>\n",
              "      <td>2.60</td>\n",
              "    </tr>\n",
              "    <tr>\n",
              "      <th>59</th>\n",
              "      <td>Minnesota</td>\n",
              "      <td>Faribault County</td>\n",
              "      <td>719</td>\n",
              "      <td>2.47</td>\n",
              "    </tr>\n",
              "    <tr>\n",
              "      <th>79</th>\n",
              "      <td>Minnesota</td>\n",
              "      <td>Rice County</td>\n",
              "      <td>699</td>\n",
              "      <td>2.40</td>\n",
              "    </tr>\n",
              "    <tr>\n",
              "      <th>185</th>\n",
              "      <td>Texas</td>\n",
              "      <td>Hidalgo County</td>\n",
              "      <td>606</td>\n",
              "      <td>2.08</td>\n",
              "    </tr>\n",
              "    <tr>\n",
              "      <th>217</th>\n",
              "      <td>Texas</td>\n",
              "      <td>Scurry County</td>\n",
              "      <td>596</td>\n",
              "      <td>2.05</td>\n",
              "    </tr>\n",
              "  </tbody>\n",
              "</table>\n",
              "</div>"
            ],
            "text/plain": [
              "            state              county  count  percentage\n",
              "165         Texas      Cameron County   3326       11.43\n",
              "48      Louisiana    Morehouse Parish   2387        8.21\n",
              "214         Texas    Robertson County   1965        6.75\n",
              "49      Louisiana     Richland Parish   1187        4.08\n",
              "61      Minnesota      Goodhue County   1069        3.67\n",
              "8        Arkansas  Mississippi County    929        3.19\n",
              "186         Texas      Hockley County    849        2.92\n",
              "174         Texas       Fannin County    821        2.82\n",
              "147  South Dakota        Tripp County    812        2.79\n",
              "159         Texas       Bailey County    781        2.68\n",
              "119  North Dakota         Cass County    755        2.60\n",
              "59      Minnesota    Faribault County    719        2.47\n",
              "79      Minnesota         Rice County    699        2.40\n",
              "185         Texas      Hidalgo County    606        2.08\n",
              "217         Texas       Scurry County    596        2.05"
            ]
          },
          "metadata": {},
          "execution_count": 21
        }
      ]
    },
    {
      "cell_type": "code",
      "metadata": {
        "id": "B16PtcXZorip"
      },
      "source": [
        "# fig, axes = plt.subplots(figsize=(10,8))\n",
        "# image_2019_withloc.groupby(['week','state']).size().unstack().plot(kind='bar',stacked=True, ax=axes)\n",
        "\n",
        "# axes.legend(fontsize=12)\n",
        "# axes.set_xlabel('Week',fontsize=12)\n",
        "# axes.set_ylabel('Data Collection Rate',fontsize=12)\n",
        "# axes.set_title('Weekly Data Collection Rate in Various States', fontsize=12)\n",
        "\n",
        "\n",
        "# plt.legend(bbox_to_anchor=(1.25, 0.9))"
      ],
      "execution_count": 22,
      "outputs": []
    },
    {
      "cell_type": "code",
      "metadata": {
        "id": "xaCRKJ0lqt7B"
      },
      "source": [
        "# fig, axes = plt.subplots(figsize=(10,8))\n",
        "# image_2019_withloc[image_2019_withloc['state']=='Minnesota'].groupby(['week','county']).size().unstack().plot(kind='bar',stacked=True, ax=axes)\n",
        "\n",
        "# axes.legend(fontsize=12)\n",
        "# axes.set_xlabel('Week',fontsize=12)\n",
        "# axes.set_ylabel('Data Collection Rate',fontsize=12)\n",
        "# axes.set_title('Weekly Data Collection Rate in Various States', fontsize=12)\n",
        "\n",
        "\n",
        "# plt.legend(bbox_to_anchor=(1.25, 0.9))"
      ],
      "execution_count": 23,
      "outputs": []
    },
    {
      "cell_type": "markdown",
      "metadata": {
        "id": "mCJ0na5dAanI"
      },
      "source": [
        "## 4. Annotation Progress\n",
        "In this section, I first pre-process the annotation dataset and then merge it with the image dataset to evaluate annotation progress."
      ]
    },
    {
      "cell_type": "code",
      "metadata": {
        "id": "6cl1RSqdll48"
      },
      "source": [
        "# transform date, and extract year, month and week\n",
        "annotation['creation_date'] = pd.to_datetime(annotation['creation_date'])\n",
        "annotation['year'] = annotation['creation_date'].dt.year\n",
        "annotation['month'] = annotation['creation_date'].dt.month\n",
        "annotation['week'] = annotation['creation_date'].dt.week\n",
        "\n",
        "annotation_2019 = annotation[annotation['year'] == 2019]"
      ],
      "execution_count": 24,
      "outputs": []
    },
    {
      "cell_type": "code",
      "metadata": {
        "colab": {
          "base_uri": "https://localhost:8080/",
          "height": 590
        },
        "id": "DP922QJQva1U",
        "outputId": "e69ffdee-47c1-4ba7-d4b3-80bd13553f38"
      },
      "source": [
        "# merge image_2019 with annotation_2019 on the same image_id\n",
        "anno_progress = pd.merge(image_2019_withloc, annotation_2019, on='image_id', suffixes=('_image', '_anno'))\n",
        "anno_progress['collection_date'] = pd.to_datetime(anno_progress['collection_date'])\n",
        "anno_progress.head()"
      ],
      "execution_count": 25,
      "outputs": [
        {
          "output_type": "execute_result",
          "data": {
            "text/html": [
              "<div>\n",
              "<style scoped>\n",
              "    .dataframe tbody tr th:only-of-type {\n",
              "        vertical-align: middle;\n",
              "    }\n",
              "\n",
              "    .dataframe tbody tr th {\n",
              "        vertical-align: top;\n",
              "    }\n",
              "\n",
              "    .dataframe thead th {\n",
              "        text-align: right;\n",
              "    }\n",
              "</style>\n",
              "<table border=\"1\" class=\"dataframe\">\n",
              "  <thead>\n",
              "    <tr style=\"text-align: right;\">\n",
              "      <th></th>\n",
              "      <th>id_image</th>\n",
              "      <th>collection_date</th>\n",
              "      <th>machine_data</th>\n",
              "      <th>content_hash</th>\n",
              "      <th>image_id</th>\n",
              "      <th>crop_name</th>\n",
              "      <th>robot_name</th>\n",
              "      <th>weed_pressure</th>\n",
              "      <th>furrow_depth_inches</th>\n",
              "      <th>gps_latitude</th>\n",
              "      <th>gps_longitude</th>\n",
              "      <th>date</th>\n",
              "      <th>week_image</th>\n",
              "      <th>year_image</th>\n",
              "      <th>county</th>\n",
              "      <th>postcode</th>\n",
              "      <th>state</th>\n",
              "      <th>id_anno</th>\n",
              "      <th>creation_date</th>\n",
              "      <th>updated_date</th>\n",
              "      <th>bounding_boxes</th>\n",
              "      <th>style</th>\n",
              "      <th>review_state</th>\n",
              "      <th>project_id</th>\n",
              "      <th>year_anno</th>\n",
              "      <th>month</th>\n",
              "      <th>week_anno</th>\n",
              "    </tr>\n",
              "  </thead>\n",
              "  <tbody>\n",
              "    <tr>\n",
              "      <th>0</th>\n",
              "      <td>1200320</td>\n",
              "      <td>2019-04-15 20:27:17.221000</td>\n",
              "      <td>{\"id\": 416231, \"state\": null, \"county\": null, ...</td>\n",
              "      <td>0ed63b82f837f7a8fe72e532bf29b33a</td>\n",
              "      <td>1200320</td>\n",
              "      <td>cotton</td>\n",
              "      <td>Muddy Buddy</td>\n",
              "      <td>low</td>\n",
              "      <td>2-4</td>\n",
              "      <td>26.277</td>\n",
              "      <td>-97.722</td>\n",
              "      <td>2019-04-15</td>\n",
              "      <td>16</td>\n",
              "      <td>2019</td>\n",
              "      <td>Cameron County</td>\n",
              "      <td>78553</td>\n",
              "      <td>Texas</td>\n",
              "      <td>1200320</td>\n",
              "      <td>2019-11-08 02:54:27.292972</td>\n",
              "      <td>NaN</td>\n",
              "      <td>NaN</td>\n",
              "      <td>pixelwise</td>\n",
              "      <td>ok</td>\n",
              "      <td>1</td>\n",
              "      <td>2019</td>\n",
              "      <td>11</td>\n",
              "      <td>45</td>\n",
              "    </tr>\n",
              "    <tr>\n",
              "      <th>1</th>\n",
              "      <td>151805</td>\n",
              "      <td>2019-05-14 18:09:44.014370</td>\n",
              "      <td>{\"ils_nir\": 418, \"ils_red\": 719, \"weather\": \"p...</td>\n",
              "      <td>d1c571e6b1ce8fef18366d4525ff357e</td>\n",
              "      <td>151805</td>\n",
              "      <td>soybeans</td>\n",
              "      <td>dcm-date</td>\n",
              "      <td>high</td>\n",
              "      <td>0-2</td>\n",
              "      <td>30.883</td>\n",
              "      <td>-96.657</td>\n",
              "      <td>2019-05-14</td>\n",
              "      <td>20</td>\n",
              "      <td>2019</td>\n",
              "      <td>Robertson County</td>\n",
              "      <td>NaN</td>\n",
              "      <td>Texas</td>\n",
              "      <td>151805</td>\n",
              "      <td>2019-07-01 07:41:30.000087</td>\n",
              "      <td>2019-08-28 03:59:11.255282</td>\n",
              "      <td>NaN</td>\n",
              "      <td>pixelwise</td>\n",
              "      <td>relabel</td>\n",
              "      <td>1</td>\n",
              "      <td>2019</td>\n",
              "      <td>7</td>\n",
              "      <td>27</td>\n",
              "    </tr>\n",
              "    <tr>\n",
              "      <th>2</th>\n",
              "      <td>1240340</td>\n",
              "      <td>2019-04-11 16:29:35.004000</td>\n",
              "      <td>{\"id\": 426266, \"state\": null, \"county\": null, ...</td>\n",
              "      <td>5de810e42fff2dc57f73598a02f1d3a2</td>\n",
              "      <td>1240340</td>\n",
              "      <td>corn</td>\n",
              "      <td>Muddy Buddy</td>\n",
              "      <td>low</td>\n",
              "      <td>2-4</td>\n",
              "      <td>26.317</td>\n",
              "      <td>-97.894</td>\n",
              "      <td>2019-04-11</td>\n",
              "      <td>15</td>\n",
              "      <td>2019</td>\n",
              "      <td>Hidalgo County</td>\n",
              "      <td>78562</td>\n",
              "      <td>Texas</td>\n",
              "      <td>1240340</td>\n",
              "      <td>2019-11-10 01:37:41.289378</td>\n",
              "      <td>NaN</td>\n",
              "      <td>NaN</td>\n",
              "      <td>pixelwise</td>\n",
              "      <td>ok</td>\n",
              "      <td>1</td>\n",
              "      <td>2019</td>\n",
              "      <td>11</td>\n",
              "      <td>45</td>\n",
              "    </tr>\n",
              "    <tr>\n",
              "      <th>3</th>\n",
              "      <td>1414685</td>\n",
              "      <td>2019-03-07 20:08:10.580000</td>\n",
              "      <td>{\"id\": 469865, \"state\": null, \"county\": null, ...</td>\n",
              "      <td>bad7753fbaf98c12c283ae4ae8508d15</td>\n",
              "      <td>1414685</td>\n",
              "      <td>corn</td>\n",
              "      <td>Muddy Buddy</td>\n",
              "      <td>medium</td>\n",
              "      <td>4-6</td>\n",
              "      <td>26.310</td>\n",
              "      <td>-97.678</td>\n",
              "      <td>2019-03-07</td>\n",
              "      <td>10</td>\n",
              "      <td>2019</td>\n",
              "      <td>Cameron County</td>\n",
              "      <td>78550</td>\n",
              "      <td>Texas</td>\n",
              "      <td>1414685</td>\n",
              "      <td>2019-11-22 22:08:10.042615</td>\n",
              "      <td>NaN</td>\n",
              "      <td>NaN</td>\n",
              "      <td>pixelwise</td>\n",
              "      <td>ok</td>\n",
              "      <td>1</td>\n",
              "      <td>2019</td>\n",
              "      <td>11</td>\n",
              "      <td>47</td>\n",
              "    </tr>\n",
              "    <tr>\n",
              "      <th>4</th>\n",
              "      <td>1083430</td>\n",
              "      <td>2019-05-28 15:10:27.692000</td>\n",
              "      <td>{\"id\": 352770, \"state\": null, \"county\": null, ...</td>\n",
              "      <td>ee0259b103a2aff0098972c38558b949</td>\n",
              "      <td>1083430</td>\n",
              "      <td>cotton</td>\n",
              "      <td>Muddy Buddy</td>\n",
              "      <td>low</td>\n",
              "      <td>0-2</td>\n",
              "      <td>32.353</td>\n",
              "      <td>-91.914</td>\n",
              "      <td>2019-05-28</td>\n",
              "      <td>22</td>\n",
              "      <td>2019</td>\n",
              "      <td>Richland Parish</td>\n",
              "      <td>71269</td>\n",
              "      <td>Louisiana</td>\n",
              "      <td>1083430</td>\n",
              "      <td>2019-11-02 09:09:32.487108</td>\n",
              "      <td>NaN</td>\n",
              "      <td>NaN</td>\n",
              "      <td>pixelwise</td>\n",
              "      <td>ok</td>\n",
              "      <td>1</td>\n",
              "      <td>2019</td>\n",
              "      <td>11</td>\n",
              "      <td>44</td>\n",
              "    </tr>\n",
              "  </tbody>\n",
              "</table>\n",
              "</div>"
            ],
            "text/plain": [
              "   id_image            collection_date  ... month week_anno\n",
              "0   1200320 2019-04-15 20:27:17.221000  ...    11        45\n",
              "1    151805 2019-05-14 18:09:44.014370  ...     7        27\n",
              "2   1240340 2019-04-11 16:29:35.004000  ...    11        45\n",
              "3   1414685 2019-03-07 20:08:10.580000  ...    11        47\n",
              "4   1083430 2019-05-28 15:10:27.692000  ...    11        44\n",
              "\n",
              "[5 rows x 27 columns]"
            ]
          },
          "metadata": {},
          "execution_count": 25
        }
      ]
    },
    {
      "cell_type": "code",
      "metadata": {
        "colab": {
          "base_uri": "https://localhost:8080/"
        },
        "id": "fvFoFfjCv66I",
        "outputId": "a15cb8fc-825c-4d9f-a285-a456db3fc467"
      },
      "source": [
        "# there are four kinds of review status\n",
        "anno_progress['review_state'].unique()"
      ],
      "execution_count": 26,
      "outputs": [
        {
          "output_type": "execute_result",
          "data": {
            "text/plain": [
              "array(['ok', 'relabel', 'review', 'vendor_review'], dtype=object)"
            ]
          },
          "metadata": {},
          "execution_count": 26
        }
      ]
    },
    {
      "cell_type": "markdown",
      "metadata": {
        "id": "ZYafy-PsBq5X"
      },
      "source": [
        "I created an anno_interval feature to track how long it usually take from data collection to data annotation. There are 168 valid data points. The mean interval was 162 days, with a standard deviation of 69 days."
      ]
    },
    {
      "cell_type": "code",
      "metadata": {
        "colab": {
          "base_uri": "https://localhost:8080/"
        },
        "id": "4Fjn1BNpzIVy",
        "outputId": "2c85a4f0-b955-4a09-f2a0-ad6e12c307b1"
      },
      "source": [
        "# anno_interval = annotation creation date - image collection data\n",
        "anno_progress['anno_interval'] = (anno_progress['creation_date']-pd.to_datetime(anno_progress['collection_date'])).dt.days\n",
        "anno_progress[anno_progress['anno_interval']>0].anno_interval.describe()"
      ],
      "execution_count": 27,
      "outputs": [
        {
          "output_type": "execute_result",
          "data": {
            "text/plain": [
              "count    168.000000\n",
              "mean     161.690476\n",
              "std       69.020951\n",
              "min        2.000000\n",
              "25%      133.750000\n",
              "50%      174.000000\n",
              "75%      212.000000\n",
              "max      269.000000\n",
              "Name: anno_interval, dtype: float64"
            ]
          },
          "metadata": {},
          "execution_count": 27
        }
      ]
    },
    {
      "cell_type": "markdown",
      "metadata": {
        "id": "t0dGAby-CK9C"
      },
      "source": [
        "The below figure shows the date distribution of image collection and image annotation. It is clear to see that that image collection was mainly around March and June. Image annotation was mainly around November. "
      ]
    },
    {
      "cell_type": "code",
      "metadata": {
        "colab": {
          "base_uri": "https://localhost:8080/",
          "height": 297
        },
        "id": "KErx7hXL04QB",
        "outputId": "6fddf6a0-7e47-4997-f14b-ff06f351b7cb"
      },
      "source": [
        "fig, axes = plt.subplots()\n",
        "sns.kdeplot(data=anno_progress, x='collection_date', label='Annotation Creation')\n",
        "sns.kdeplot(data=anno_progress, x='creation_date', label='Image Collection')\n",
        "\n",
        "axes.legend()\n",
        "axes.set_xlabel('Date')"
      ],
      "execution_count": 28,
      "outputs": [
        {
          "output_type": "execute_result",
          "data": {
            "text/plain": [
              "Text(0.5, 0, 'Date')"
            ]
          },
          "metadata": {},
          "execution_count": 28
        },
        {
          "output_type": "display_data",
          "data": {
            "image/png": "[encoded data removed]",
            "text/plain": [
              "<Figure size 432x288 with 1 Axes>"
            ]
          },
          "metadata": {
            "needs_background": "light"
          }
        }
      ]
    },
    {
      "cell_type": "code",
      "metadata": {
        "colab": {
          "base_uri": "https://localhost:8080/"
        },
        "id": "RE0NTjCZ2kUc",
        "outputId": "b1292b6a-2598-40b3-c742-33b602d624f2"
      },
      "source": [
        "review_percentage = round(len(anno_progress)/len(image_2019_withloc)*100,2)\n",
        "ok_review_rate = round(sum(anno_progress['review_state']=='ok')/len(anno_progress)*100, 2)\n",
        "relabel_rate = round(sum(anno_progress['review_state']=='relabel')/len(anno_progress)*100, 2)\n",
        "print('Among all the collected images, the percentage of annotaion is ', review_percentage, '%. \\n')\n",
        "print('Among reviewed annotations, the percentage of OK innotaion is ', ok_review_rate, '%. \\n')\n",
        "print('Among reviewed annotations, the percentage of relabel innotaion is ', relabel_rate, '%. \\n')"
      ],
      "execution_count": 37,
      "outputs": [
        {
          "output_type": "stream",
          "name": "stdout",
          "text": [
            "Among all the collected images, the percentage of annotaion is  0.57 %. \n",
            "\n",
            "Among reviewed annotations, the percentage of OK innotaion is  73.1 %. \n",
            "\n",
            "Among reviewed annotations, the percentage of relabel innotaion is  4.68 %. \n",
            "\n"
          ]
        }
      ]
    },
    {
      "cell_type": "markdown",
      "metadata": {
        "id": "QXECaBYCHYe8"
      },
      "source": [
        "## 5. Increasing Cotton Data Collection by 2?"
      ]
    },
    {
      "cell_type": "markdown",
      "metadata": {
        "id": "u5-ViAS4Hhcp"
      },
      "source": [
        "There are not enough contexts for me to understand the affecting parameters of data collection rate, and the meanings of 'using the same resources and same time', since the same resources and time could mean the same number and consistent performance of robots, same locations, areas, and types of farming land that we could collect data, etc.\n",
        "Therefore, I made several assumptions in the following analysis, and some of the hypotheses should be verified before a conclusion/decision.\n",
        "<br>\n",
        "\n",
        "* I hypothesis we can only use the same number and kinds of robots;\n",
        "* There are always enough farming lands to collect data. We always have enough machines/robots to collect data.\n",
        "* The data collection rate is not affected by sampling locations, weed pressure, and furrow-depth.\n",
        "* Among those states of corn and soybeans data collection, there are Texas, California, Louisiana, Arkansas, Mississippi, North Carolina, Oklahoma, Tennessee are the main cotton production states. I assume I can divert those efforts on collection corn and soybeans data in those states into collection cotton data.\n"
      ]
    },
    {
      "cell_type": "code",
      "metadata": {
        "id": "yBzAsY-64fau"
      },
      "source": [
        "image_cotton = image_2019_withloc[image_2019_withloc['crop_name'] == 'cotton']\n",
        "image_corn = image_2019_withloc[image_2019_withloc['crop_name'] == 'corn']\n",
        "image_soybeans = image_2019_withloc[image_2019_withloc['crop_name'] == 'soybeans']"
      ],
      "execution_count": 30,
      "outputs": []
    },
    {
      "cell_type": "code",
      "metadata": {
        "colab": {
          "base_uri": "https://localhost:8080/"
        },
        "id": "3sU_DRCz4yXh",
        "outputId": "ba1a576d-f8bc-4cb6-dcf4-25e72518bc33"
      },
      "source": [
        "# 27% of data collection is cotton\n",
        "cotton_percentage = round(len(image_cotton)/len(image_2019_withloc), 2)\n",
        "cotton_percentage"
      ],
      "execution_count": 31,
      "outputs": [
        {
          "output_type": "execute_result",
          "data": {
            "text/plain": [
              "0.27"
            ]
          },
          "metadata": {},
          "execution_count": 31
        }
      ]
    },
    {
      "cell_type": "code",
      "metadata": {
        "colab": {
          "base_uri": "https://localhost:8080/"
        },
        "id": "U8YBB_Ii9-wp",
        "outputId": "f117e847-0432-4e2f-cb97-2b38799a95c9"
      },
      "source": [
        "for crop in ['cotton', 'corn', 'soybeans']:\n",
        "  condition = image_2019_withloc['crop_name'] == crop \n",
        "  state = image_2019_withloc[condition].groupby('state').size().reset_index()\n",
        "  state.columns = ['state','count']\n",
        "  state['percentage'] = round(state['count']/(state['count'].sum())*100,2)\n",
        "  print('The ',crop, ' data collection density of each state are listed as below \\n')\n",
        "  print(state.sort_values(by='count',ascending=False))"
      ],
      "execution_count": 32,
      "outputs": [
        {
          "output_type": "stream",
          "name": "stdout",
          "text": [
            "The  cotton  data collection density of each state are listed as below \n",
            "\n",
            "            state  count  percentage\n",
            "9           Texas   5407       68.18\n",
            "3       Louisiana   1206       15.21\n",
            "6  North Carolina    454        5.73\n",
            "0        Arkansas    363        4.58\n",
            "5        Missouri    246        3.10\n",
            "4     Mississippi    236        2.98\n",
            "8       Tennessee      7        0.09\n",
            "7        Oklahoma      5        0.06\n",
            "2          Kansas      4        0.05\n",
            "1        Illinois      2        0.03\n",
            "The  corn  data collection density of each state are listed as below \n",
            "\n",
            "             state  count  percentage\n",
            "13           Texas   3555       40.41\n",
            "6        Minnesota   2400       27.28\n",
            "12    South Dakota    891       10.13\n",
            "4             Iowa    643        7.31\n",
            "2         Illinois    376        4.27\n",
            "10    North Dakota    288        3.27\n",
            "8         Nebraska    162        1.84\n",
            "14         Vermont    119        1.35\n",
            "0         Arkansas    110        1.25\n",
            "5        Louisiana     99        1.13\n",
            "9   North Carolina     91        1.03\n",
            "3          Indiana     49        0.56\n",
            "1       California      6        0.07\n",
            "15       Wisconsin      5        0.06\n",
            "11        Oklahoma      3        0.03\n",
            "7         Missouri      1        0.01\n",
            "The  soybeans  data collection density of each state are listed as below \n",
            "\n",
            "             state  count  percentage\n",
            "5        Louisiana   3118       25.46\n",
            "15           Texas   2598       21.21\n",
            "6        Minnesota   1802       14.71\n",
            "13    South Dakota   1257       10.26\n",
            "10    North Dakota   1026        8.38\n",
            "0         Arkansas    670        5.47\n",
            "3             Iowa    550        4.49\n",
            "9   North Carolina    413        3.37\n",
            "7      Mississippi    317        2.59\n",
            "1         Illinois    200        1.63\n",
            "8         Nebraska    125        1.02\n",
            "2          Indiana    117        0.96\n",
            "16         Vermont     31        0.25\n",
            "18       Wisconsin     12        0.10\n",
            "12        Oklahoma      6        0.05\n",
            "14       Tennessee      2        0.02\n",
            "17        Virginia      2        0.02\n",
            "11            Ohio      1        0.01\n",
            "4         Kentucky      1        0.01\n"
          ]
        }
      ]
    },
    {
      "cell_type": "markdown",
      "metadata": {
        "id": "Z1LFxfqVSmwd"
      },
      "source": [
        "By hand calculating, I can divert 43.93% of corn data collection and 58.17% of soybeans data collection to cotton. Since there are 31% of data was corn and 42% data was soybean in 2019, therefore there are 43.93% * 31% + 58.17% * 42% = 38% of whole data collection can be turned into cotton.<br>\n",
        "Therefore, we could turn an extra 38% of data collection into cotton, which can make it double. <br><br>\n",
        "However, as I mentioned before, I made several assumptions in the following analysis, and some of the hypotheses should be definitely verified before a conclusion/decision. If more contexts of data collection can be provided, a more accurate prediction can be made."
      ]
    },
    {
      "cell_type": "code",
      "metadata": {
        "id": "vwSBwiIvLk_o"
      },
      "source": [
        ""
      ],
      "execution_count": 32,
      "outputs": []
    }
  ]
}
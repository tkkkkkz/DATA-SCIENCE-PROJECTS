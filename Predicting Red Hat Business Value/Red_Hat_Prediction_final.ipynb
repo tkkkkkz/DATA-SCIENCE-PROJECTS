{
  "nbformat": 4,
  "nbformat_minor": 0,
  "metadata": {
    "kernelspec": {
      "display_name": "Python 3",
      "language": "python",
      "name": "python3"
    },
    "toc": {
      "base_numbering": 1,
      "nav_menu": {},
      "number_sections": false,
      "sideBar": true,
      "skip_h1_title": false,
      "title_cell": "Table of Contents",
      "title_sidebar": "Contents",
      "toc_cell": true,
      "toc_position": {
        "height": "calc(100% - 180px)",
        "left": "10px",
        "top": "150px",
        "width": "238.26px"
      },
      "toc_section_display": true,
      "toc_window_display": false
    },
    "colab": {
      "name": "Red Hat Prediction.ipynb",
      "provenance": [],
      "toc_visible": true
    }
  },
  "cells": [
    {
      "cell_type": "markdown",
      "metadata": {
        "id": "UZEv7CySvBfz"
      },
      "source": [
        "# Red Hat Business Value Prediction"
      ]
    },
    {
      "cell_type": "markdown",
      "metadata": {
        "toc": true,
        "id": "aIloytZ7vBf4"
      },
      "source": [
        "<h1>Table of Contents<span class=\"tocSkip\"></span></h1>\n",
        "<div class=\"toc\"><ul class=\"toc-item\"><li><span><a href=\"#Red-Hat-Business-Value-Prediction\" data-toc-modified-id=\"Red-Hat-Business-Value-Prediction-1\">Red Hat Business Value Prediction</a></span><ul class=\"toc-item\"><li><span><a href=\"#Overview\" data-toc-modified-id=\"Overview-1.1\">Overview</a></span></li></ul></li><li><span><a href=\"#1.-Data-Import\" data-toc-modified-id=\"1.-Data-Import-2\">1. Data Import</a></span></li><li><span><a href=\"#2.-Exploratory-Data-Analysis\" data-toc-modified-id=\"2.-Exploratory-Data-Analysis-3\">2. Exploratory Data Analysis</a></span><ul class=\"toc-item\"><li><span><a href=\"#2.1-People-Characters\" data-toc-modified-id=\"2.1-People-Characters-3.1\">2.1 People Characters</a></span><ul class=\"toc-item\"><li><span><a href=\"#2.1.1-Bot-Traffic\" data-toc-modified-id=\"2.1.1-Bot-Traffic-3.1.1\">2.1.1 Bot Traffic</a></span></li><li><span><a href=\"#2.1.2-Activity-Date-and-Frequency\" data-toc-modified-id=\"2.1.2-Activity-Date-and-Frequency-3.1.2\">2.1.2 Activity Date and Frequency</a></span></li><li><span><a href=\"#2.1.3-People-Groups\" data-toc-modified-id=\"2.1.3-People-Groups-3.1.3\">2.1.3 People Groups</a></span></li><li><span><a href=\"#2.1.4-People-Characteristics\" data-toc-modified-id=\"2.1.4-People-Characteristics-3.1.4\">2.1.4 People Characteristics</a></span></li></ul></li><li><span><a href=\"#2.2-Activity-Characters\" data-toc-modified-id=\"2.2-Activity-Characters-3.2\">2.2 Activity Characters</a></span><ul class=\"toc-item\"><li><span><a href=\"#2.2.1-Category\" data-toc-modified-id=\"2.2.1-Category-3.2.1\">2.2.1 Category</a></span></li><li><span><a href=\"#2.2.2-Activity-Characters\" data-toc-modified-id=\"2.2.2-Activity-Characters-3.2.2\">2.2.2 Activity Characters</a></span></li></ul></li></ul></li><li><span><a href=\"#3.-Feature-Engineering\" data-toc-modified-id=\"3.-Feature-Engineering-4\">3. Feature Engineering</a></span><ul class=\"toc-item\"><li><span><a href=\"#Preprocessing-Test-Data\" data-toc-modified-id=\"Preprocessing-Test-Data-4.1\">Preprocessing Test Data</a></span></li></ul></li><li><span><a href=\"#4.-Model-Training\" data-toc-modified-id=\"4.-Model-Training-5\">4. Model Training</a></span><ul class=\"toc-item\"><li><ul class=\"toc-item\"><li><span><a href=\"#4.1-Feature-Importances\" data-toc-modified-id=\"4.1-Feature-Importances-5.0.1\">4.1 Feature Importances</a></span></li><li><span><a href=\"#4.2-Random-Forest\" data-toc-modified-id=\"4.2-Random-Forest-5.0.2\">4.2 Random Forest</a></span></li></ul></li></ul></li><li><span><a href=\"#5.-Model-Deployment\" data-toc-modified-id=\"5.-Model-Deployment-6\">5. Model Deployment</a></span><ul class=\"toc-item\"><li><ul class=\"toc-item\"><li><span><a href=\"#Conclusions\" data-toc-modified-id=\"Conclusions-6.0.1\">Conclusions</a></span></li></ul></li></ul></li></ul></div>"
      ]
    },
    {
      "cell_type": "markdown",
      "metadata": {
        "id": "MN1v-oG9vBf6"
      },
      "source": [
        "##  Overview\n",
        "Over time, Red Hat is able to gather a great deal of information about the behaviors of individuals who interacts with them. This project aims to build a model that uses user behavioral data to predict if an individual has business value. With the prediction model, the company will be able to more efficiently prioritize resources to generate more business and better serve their customers."
      ]
    },
    {
      "cell_type": "markdown",
      "metadata": {
        "id": "tkolrVHOvBf8"
      },
      "source": [
        "# 1. Data Import"
      ]
    },
    {
      "cell_type": "markdown",
      "metadata": {
        "id": "mo0Ni0-ZvBf9"
      },
      "source": [
        "The dataset is provided by [kaggle](https://www.kaggle.com/c/predicting-red-hat-business-value/data). There are two datasets that will be used in the model training. \n",
        "\n",
        "* The **people** table contains all the characters of unique people that have performed activities over time. Each row represents a unique person who has a unique people_id. There are **38** characters of people in total. Moreover, there is also a 'group_1' feature. The information in this dataset are all about 'people' themselves. \n",
        "<br><br>\n",
        "* The **act_train** table contains the information of activities that 'people' performed. There is an 'activity_id' for each activity, which is unique. The main features of an activity are 'date', 'activity_category' and ten other anonymized characters. "
      ]
    },
    {
      "cell_type": "code",
      "metadata": {
        "id": "MKGsmCfWvBf-"
      },
      "source": [
        "# data manipulation packages\n",
        "import pandas as pd\n",
        "import numpy as np\n",
        "\n",
        "# data visualization packages\n",
        "import seaborn as sns\n",
        "import matplotlib.pyplot as plt\n",
        "\n",
        "%matplotlib inline\n",
        "\n",
        "# machine learning packages\n",
        "from sklearn.model_selection import train_test_split\n",
        "from sklearn.model_selection import cross_val_score\n",
        "from sklearn.model_selection import GridSearchCV\n",
        "\n",
        "from sklearn.preprocessing import LabelEncoder\n",
        "\n",
        "from sklearn.ensemble import RandomForestClassifier\n",
        "from sklearn.metrics import accuracy_score, classification_report, auc, plot_roc_curve, roc_auc_score"
      ],
      "execution_count": 1,
      "outputs": []
    },
    {
      "cell_type": "markdown",
      "metadata": {
        "id": "pNbC9ZP-vBf_"
      },
      "source": [
        "The **people** dataset is imported and its info is showed below."
      ]
    },
    {
      "cell_type": "code",
      "metadata": {
        "id": "eNsgPwzivBgD"
      },
      "source": [
        "people = pd.read_csv('https://media.githubusercontent.com/media/tkkkkkz/Data_Science_Projects/main/Predicting%20Red%20Hat%20Business%20Value/Data/people.csv')"
      ],
      "execution_count": 2,
      "outputs": []
    },
    {
      "cell_type": "code",
      "metadata": {
        "colab": {
          "base_uri": "https://localhost:8080/",
          "height": 313
        },
        "id": "YMmPMxbWvBgG",
        "outputId": "3d3d3300-aae2-455e-a2df-38d92551a366"
      },
      "source": [
        "people.head()"
      ],
      "execution_count": 3,
      "outputs": [
        {
          "output_type": "execute_result",
          "data": {
            "text/html": [
              "<div>\n",
              "<style scoped>\n",
              "    .dataframe tbody tr th:only-of-type {\n",
              "        vertical-align: middle;\n",
              "    }\n",
              "\n",
              "    .dataframe tbody tr th {\n",
              "        vertical-align: top;\n",
              "    }\n",
              "\n",
              "    .dataframe thead th {\n",
              "        text-align: right;\n",
              "    }\n",
              "</style>\n",
              "<table border=\"1\" class=\"dataframe\">\n",
              "  <thead>\n",
              "    <tr style=\"text-align: right;\">\n",
              "      <th></th>\n",
              "      <th>people_id</th>\n",
              "      <th>char_1</th>\n",
              "      <th>group_1</th>\n",
              "      <th>char_2</th>\n",
              "      <th>date</th>\n",
              "      <th>char_3</th>\n",
              "      <th>char_4</th>\n",
              "      <th>char_5</th>\n",
              "      <th>char_6</th>\n",
              "      <th>char_7</th>\n",
              "      <th>char_8</th>\n",
              "      <th>char_9</th>\n",
              "      <th>char_10</th>\n",
              "      <th>char_11</th>\n",
              "      <th>char_12</th>\n",
              "      <th>char_13</th>\n",
              "      <th>char_14</th>\n",
              "      <th>char_15</th>\n",
              "      <th>char_16</th>\n",
              "      <th>char_17</th>\n",
              "      <th>char_18</th>\n",
              "      <th>char_19</th>\n",
              "      <th>char_20</th>\n",
              "      <th>char_21</th>\n",
              "      <th>char_22</th>\n",
              "      <th>char_23</th>\n",
              "      <th>char_24</th>\n",
              "      <th>char_25</th>\n",
              "      <th>char_26</th>\n",
              "      <th>char_27</th>\n",
              "      <th>char_28</th>\n",
              "      <th>char_29</th>\n",
              "      <th>char_30</th>\n",
              "      <th>char_31</th>\n",
              "      <th>char_32</th>\n",
              "      <th>char_33</th>\n",
              "      <th>char_34</th>\n",
              "      <th>char_35</th>\n",
              "      <th>char_36</th>\n",
              "      <th>char_37</th>\n",
              "      <th>char_38</th>\n",
              "    </tr>\n",
              "  </thead>\n",
              "  <tbody>\n",
              "    <tr>\n",
              "      <th>0</th>\n",
              "      <td>ppl_100</td>\n",
              "      <td>type 2</td>\n",
              "      <td>group 17304</td>\n",
              "      <td>type 2</td>\n",
              "      <td>2021-06-29</td>\n",
              "      <td>type 5</td>\n",
              "      <td>type 5</td>\n",
              "      <td>type 5</td>\n",
              "      <td>type 3</td>\n",
              "      <td>type 11</td>\n",
              "      <td>type 2</td>\n",
              "      <td>type 2</td>\n",
              "      <td>True</td>\n",
              "      <td>False</td>\n",
              "      <td>False</td>\n",
              "      <td>True</td>\n",
              "      <td>True</td>\n",
              "      <td>False</td>\n",
              "      <td>True</td>\n",
              "      <td>False</td>\n",
              "      <td>False</td>\n",
              "      <td>False</td>\n",
              "      <td>False</td>\n",
              "      <td>True</td>\n",
              "      <td>False</td>\n",
              "      <td>False</td>\n",
              "      <td>False</td>\n",
              "      <td>False</td>\n",
              "      <td>False</td>\n",
              "      <td>True</td>\n",
              "      <td>True</td>\n",
              "      <td>False</td>\n",
              "      <td>True</td>\n",
              "      <td>True</td>\n",
              "      <td>False</td>\n",
              "      <td>False</td>\n",
              "      <td>True</td>\n",
              "      <td>True</td>\n",
              "      <td>True</td>\n",
              "      <td>False</td>\n",
              "      <td>36</td>\n",
              "    </tr>\n",
              "    <tr>\n",
              "      <th>1</th>\n",
              "      <td>ppl_100002</td>\n",
              "      <td>type 2</td>\n",
              "      <td>group 8688</td>\n",
              "      <td>type 3</td>\n",
              "      <td>2021-01-06</td>\n",
              "      <td>type 28</td>\n",
              "      <td>type 9</td>\n",
              "      <td>type 5</td>\n",
              "      <td>type 3</td>\n",
              "      <td>type 11</td>\n",
              "      <td>type 2</td>\n",
              "      <td>type 4</td>\n",
              "      <td>False</td>\n",
              "      <td>False</td>\n",
              "      <td>True</td>\n",
              "      <td>True</td>\n",
              "      <td>False</td>\n",
              "      <td>False</td>\n",
              "      <td>False</td>\n",
              "      <td>True</td>\n",
              "      <td>False</td>\n",
              "      <td>False</td>\n",
              "      <td>False</td>\n",
              "      <td>False</td>\n",
              "      <td>False</td>\n",
              "      <td>True</td>\n",
              "      <td>False</td>\n",
              "      <td>True</td>\n",
              "      <td>True</td>\n",
              "      <td>True</td>\n",
              "      <td>False</td>\n",
              "      <td>False</td>\n",
              "      <td>True</td>\n",
              "      <td>True</td>\n",
              "      <td>True</td>\n",
              "      <td>True</td>\n",
              "      <td>True</td>\n",
              "      <td>True</td>\n",
              "      <td>True</td>\n",
              "      <td>False</td>\n",
              "      <td>76</td>\n",
              "    </tr>\n",
              "    <tr>\n",
              "      <th>2</th>\n",
              "      <td>ppl_100003</td>\n",
              "      <td>type 2</td>\n",
              "      <td>group 33592</td>\n",
              "      <td>type 3</td>\n",
              "      <td>2022-06-10</td>\n",
              "      <td>type 4</td>\n",
              "      <td>type 8</td>\n",
              "      <td>type 5</td>\n",
              "      <td>type 2</td>\n",
              "      <td>type 5</td>\n",
              "      <td>type 2</td>\n",
              "      <td>type 2</td>\n",
              "      <td>True</td>\n",
              "      <td>True</td>\n",
              "      <td>True</td>\n",
              "      <td>True</td>\n",
              "      <td>True</td>\n",
              "      <td>True</td>\n",
              "      <td>False</td>\n",
              "      <td>True</td>\n",
              "      <td>False</td>\n",
              "      <td>True</td>\n",
              "      <td>False</td>\n",
              "      <td>True</td>\n",
              "      <td>True</td>\n",
              "      <td>True</td>\n",
              "      <td>True</td>\n",
              "      <td>True</td>\n",
              "      <td>True</td>\n",
              "      <td>True</td>\n",
              "      <td>True</td>\n",
              "      <td>False</td>\n",
              "      <td>False</td>\n",
              "      <td>True</td>\n",
              "      <td>True</td>\n",
              "      <td>True</td>\n",
              "      <td>True</td>\n",
              "      <td>False</td>\n",
              "      <td>True</td>\n",
              "      <td>True</td>\n",
              "      <td>99</td>\n",
              "    </tr>\n",
              "    <tr>\n",
              "      <th>3</th>\n",
              "      <td>ppl_100004</td>\n",
              "      <td>type 2</td>\n",
              "      <td>group 22593</td>\n",
              "      <td>type 3</td>\n",
              "      <td>2022-07-20</td>\n",
              "      <td>type 40</td>\n",
              "      <td>type 25</td>\n",
              "      <td>type 9</td>\n",
              "      <td>type 4</td>\n",
              "      <td>type 16</td>\n",
              "      <td>type 2</td>\n",
              "      <td>type 2</td>\n",
              "      <td>True</td>\n",
              "      <td>True</td>\n",
              "      <td>True</td>\n",
              "      <td>True</td>\n",
              "      <td>True</td>\n",
              "      <td>False</td>\n",
              "      <td>True</td>\n",
              "      <td>True</td>\n",
              "      <td>True</td>\n",
              "      <td>True</td>\n",
              "      <td>True</td>\n",
              "      <td>True</td>\n",
              "      <td>True</td>\n",
              "      <td>True</td>\n",
              "      <td>False</td>\n",
              "      <td>True</td>\n",
              "      <td>True</td>\n",
              "      <td>True</td>\n",
              "      <td>True</td>\n",
              "      <td>True</td>\n",
              "      <td>True</td>\n",
              "      <td>True</td>\n",
              "      <td>True</td>\n",
              "      <td>True</td>\n",
              "      <td>True</td>\n",
              "      <td>True</td>\n",
              "      <td>True</td>\n",
              "      <td>True</td>\n",
              "      <td>76</td>\n",
              "    </tr>\n",
              "    <tr>\n",
              "      <th>4</th>\n",
              "      <td>ppl_100006</td>\n",
              "      <td>type 2</td>\n",
              "      <td>group 6534</td>\n",
              "      <td>type 3</td>\n",
              "      <td>2022-07-27</td>\n",
              "      <td>type 40</td>\n",
              "      <td>type 25</td>\n",
              "      <td>type 9</td>\n",
              "      <td>type 3</td>\n",
              "      <td>type 8</td>\n",
              "      <td>type 2</td>\n",
              "      <td>type 2</td>\n",
              "      <td>False</td>\n",
              "      <td>False</td>\n",
              "      <td>False</td>\n",
              "      <td>False</td>\n",
              "      <td>False</td>\n",
              "      <td>False</td>\n",
              "      <td>False</td>\n",
              "      <td>False</td>\n",
              "      <td>False</td>\n",
              "      <td>False</td>\n",
              "      <td>False</td>\n",
              "      <td>False</td>\n",
              "      <td>False</td>\n",
              "      <td>False</td>\n",
              "      <td>False</td>\n",
              "      <td>False</td>\n",
              "      <td>False</td>\n",
              "      <td>False</td>\n",
              "      <td>False</td>\n",
              "      <td>False</td>\n",
              "      <td>False</td>\n",
              "      <td>True</td>\n",
              "      <td>False</td>\n",
              "      <td>False</td>\n",
              "      <td>False</td>\n",
              "      <td>True</td>\n",
              "      <td>True</td>\n",
              "      <td>False</td>\n",
              "      <td>84</td>\n",
              "    </tr>\n",
              "  </tbody>\n",
              "</table>\n",
              "</div>"
            ],
            "text/plain": [
              "    people_id  char_1      group_1  char_2  ... char_35 char_36 char_37 char_38\n",
              "0     ppl_100  type 2  group 17304  type 2  ...    True    True   False      36\n",
              "1  ppl_100002  type 2   group 8688  type 3  ...    True    True   False      76\n",
              "2  ppl_100003  type 2  group 33592  type 3  ...   False    True    True      99\n",
              "3  ppl_100004  type 2  group 22593  type 3  ...    True    True    True      76\n",
              "4  ppl_100006  type 2   group 6534  type 3  ...    True    True   False      84\n",
              "\n",
              "[5 rows x 41 columns]"
            ]
          },
          "metadata": {
            "tags": []
          },
          "execution_count": 3
        }
      ]
    },
    {
      "cell_type": "code",
      "metadata": {
        "colab": {
          "base_uri": "https://localhost:8080/"
        },
        "id": "wQ_zm-VvvBgK",
        "outputId": "a0311553-8a41-4392-b98d-da7e56e82e5f"
      },
      "source": [
        "# there are 189,118 unique people are included in the table, there are NO missing values\n",
        "people.info() "
      ],
      "execution_count": 4,
      "outputs": [
        {
          "output_type": "stream",
          "text": [
            "<class 'pandas.core.frame.DataFrame'>\n",
            "RangeIndex: 189118 entries, 0 to 189117\n",
            "Data columns (total 41 columns):\n",
            " #   Column     Non-Null Count   Dtype \n",
            "---  ------     --------------   ----- \n",
            " 0   people_id  189118 non-null  object\n",
            " 1   char_1     189118 non-null  object\n",
            " 2   group_1    189118 non-null  object\n",
            " 3   char_2     189118 non-null  object\n",
            " 4   date       189118 non-null  object\n",
            " 5   char_3     189118 non-null  object\n",
            " 6   char_4     189118 non-null  object\n",
            " 7   char_5     189118 non-null  object\n",
            " 8   char_6     189118 non-null  object\n",
            " 9   char_7     189118 non-null  object\n",
            " 10  char_8     189118 non-null  object\n",
            " 11  char_9     189118 non-null  object\n",
            " 12  char_10    189118 non-null  bool  \n",
            " 13  char_11    189118 non-null  bool  \n",
            " 14  char_12    189118 non-null  bool  \n",
            " 15  char_13    189118 non-null  bool  \n",
            " 16  char_14    189118 non-null  bool  \n",
            " 17  char_15    189118 non-null  bool  \n",
            " 18  char_16    189118 non-null  bool  \n",
            " 19  char_17    189118 non-null  bool  \n",
            " 20  char_18    189118 non-null  bool  \n",
            " 21  char_19    189118 non-null  bool  \n",
            " 22  char_20    189118 non-null  bool  \n",
            " 23  char_21    189118 non-null  bool  \n",
            " 24  char_22    189118 non-null  bool  \n",
            " 25  char_23    189118 non-null  bool  \n",
            " 26  char_24    189118 non-null  bool  \n",
            " 27  char_25    189118 non-null  bool  \n",
            " 28  char_26    189118 non-null  bool  \n",
            " 29  char_27    189118 non-null  bool  \n",
            " 30  char_28    189118 non-null  bool  \n",
            " 31  char_29    189118 non-null  bool  \n",
            " 32  char_30    189118 non-null  bool  \n",
            " 33  char_31    189118 non-null  bool  \n",
            " 34  char_32    189118 non-null  bool  \n",
            " 35  char_33    189118 non-null  bool  \n",
            " 36  char_34    189118 non-null  bool  \n",
            " 37  char_35    189118 non-null  bool  \n",
            " 38  char_36    189118 non-null  bool  \n",
            " 39  char_37    189118 non-null  bool  \n",
            " 40  char_38    189118 non-null  int64 \n",
            "dtypes: bool(28), int64(1), object(12)\n",
            "memory usage: 23.8+ MB\n"
          ],
          "name": "stdout"
        }
      ]
    },
    {
      "cell_type": "markdown",
      "metadata": {
        "id": "SCo3Z87FvBgL"
      },
      "source": [
        "In **act_train** ,'type 1' activities are different from type 2-7 activities because there is only 'char_10' feature associated with 'type 1' activities (nine in total). But for the other type 2-7 activities , there are eight associated characters, i.e. char_1-8. The missing data in the dataset is because of the aforementioned reason. Therefore I will not need to impute the missing data.\n",
        "\n",
        "There is an 'outcome' of each activity to indicate if the activity has business value or not (1 for having, 0 for not having).\n",
        "\n",
        "In the following, I will merge the two tables together through a left merge, with 'act_train' as the left table. After merging, I found the dataset is balanced."
      ]
    },
    {
      "cell_type": "code",
      "metadata": {
        "id": "Z-oI_BntvBgL"
      },
      "source": [
        "act_train = pd.read_csv('https://media.githubusercontent.com/media/tkkkkkz/Data_Science_Projects/main/Predicting%20Red%20Hat%20Business%20Value/Data/act_train.csv')"
      ],
      "execution_count": 5,
      "outputs": []
    },
    {
      "cell_type": "code",
      "metadata": {
        "colab": {
          "base_uri": "https://localhost:8080/",
          "height": 313
        },
        "id": "xSp8e_MSvBgM",
        "outputId": "78cab3a5-c94f-4e17-c72c-e5e884c2b7ad"
      },
      "source": [
        "act_train.head()"
      ],
      "execution_count": 6,
      "outputs": [
        {
          "output_type": "execute_result",
          "data": {
            "text/html": [
              "<div>\n",
              "<style scoped>\n",
              "    .dataframe tbody tr th:only-of-type {\n",
              "        vertical-align: middle;\n",
              "    }\n",
              "\n",
              "    .dataframe tbody tr th {\n",
              "        vertical-align: top;\n",
              "    }\n",
              "\n",
              "    .dataframe thead th {\n",
              "        text-align: right;\n",
              "    }\n",
              "</style>\n",
              "<table border=\"1\" class=\"dataframe\">\n",
              "  <thead>\n",
              "    <tr style=\"text-align: right;\">\n",
              "      <th></th>\n",
              "      <th>people_id</th>\n",
              "      <th>activity_id</th>\n",
              "      <th>date</th>\n",
              "      <th>activity_category</th>\n",
              "      <th>char_1</th>\n",
              "      <th>char_2</th>\n",
              "      <th>char_3</th>\n",
              "      <th>char_4</th>\n",
              "      <th>char_5</th>\n",
              "      <th>char_6</th>\n",
              "      <th>char_7</th>\n",
              "      <th>char_8</th>\n",
              "      <th>char_9</th>\n",
              "      <th>char_10</th>\n",
              "      <th>outcome</th>\n",
              "    </tr>\n",
              "  </thead>\n",
              "  <tbody>\n",
              "    <tr>\n",
              "      <th>0</th>\n",
              "      <td>ppl_100</td>\n",
              "      <td>act2_1734928</td>\n",
              "      <td>2023-08-26</td>\n",
              "      <td>type 4</td>\n",
              "      <td>NaN</td>\n",
              "      <td>NaN</td>\n",
              "      <td>NaN</td>\n",
              "      <td>NaN</td>\n",
              "      <td>NaN</td>\n",
              "      <td>NaN</td>\n",
              "      <td>NaN</td>\n",
              "      <td>NaN</td>\n",
              "      <td>NaN</td>\n",
              "      <td>type 76</td>\n",
              "      <td>0</td>\n",
              "    </tr>\n",
              "    <tr>\n",
              "      <th>1</th>\n",
              "      <td>ppl_100</td>\n",
              "      <td>act2_2434093</td>\n",
              "      <td>2022-09-27</td>\n",
              "      <td>type 2</td>\n",
              "      <td>NaN</td>\n",
              "      <td>NaN</td>\n",
              "      <td>NaN</td>\n",
              "      <td>NaN</td>\n",
              "      <td>NaN</td>\n",
              "      <td>NaN</td>\n",
              "      <td>NaN</td>\n",
              "      <td>NaN</td>\n",
              "      <td>NaN</td>\n",
              "      <td>type 1</td>\n",
              "      <td>0</td>\n",
              "    </tr>\n",
              "    <tr>\n",
              "      <th>2</th>\n",
              "      <td>ppl_100</td>\n",
              "      <td>act2_3404049</td>\n",
              "      <td>2022-09-27</td>\n",
              "      <td>type 2</td>\n",
              "      <td>NaN</td>\n",
              "      <td>NaN</td>\n",
              "      <td>NaN</td>\n",
              "      <td>NaN</td>\n",
              "      <td>NaN</td>\n",
              "      <td>NaN</td>\n",
              "      <td>NaN</td>\n",
              "      <td>NaN</td>\n",
              "      <td>NaN</td>\n",
              "      <td>type 1</td>\n",
              "      <td>0</td>\n",
              "    </tr>\n",
              "    <tr>\n",
              "      <th>3</th>\n",
              "      <td>ppl_100</td>\n",
              "      <td>act2_3651215</td>\n",
              "      <td>2023-08-04</td>\n",
              "      <td>type 2</td>\n",
              "      <td>NaN</td>\n",
              "      <td>NaN</td>\n",
              "      <td>NaN</td>\n",
              "      <td>NaN</td>\n",
              "      <td>NaN</td>\n",
              "      <td>NaN</td>\n",
              "      <td>NaN</td>\n",
              "      <td>NaN</td>\n",
              "      <td>NaN</td>\n",
              "      <td>type 1</td>\n",
              "      <td>0</td>\n",
              "    </tr>\n",
              "    <tr>\n",
              "      <th>4</th>\n",
              "      <td>ppl_100</td>\n",
              "      <td>act2_4109017</td>\n",
              "      <td>2023-08-26</td>\n",
              "      <td>type 2</td>\n",
              "      <td>NaN</td>\n",
              "      <td>NaN</td>\n",
              "      <td>NaN</td>\n",
              "      <td>NaN</td>\n",
              "      <td>NaN</td>\n",
              "      <td>NaN</td>\n",
              "      <td>NaN</td>\n",
              "      <td>NaN</td>\n",
              "      <td>NaN</td>\n",
              "      <td>type 1</td>\n",
              "      <td>0</td>\n",
              "    </tr>\n",
              "  </tbody>\n",
              "</table>\n",
              "</div>"
            ],
            "text/plain": [
              "  people_id   activity_id        date  ... char_9  char_10 outcome\n",
              "0   ppl_100  act2_1734928  2023-08-26  ...    NaN  type 76       0\n",
              "1   ppl_100  act2_2434093  2022-09-27  ...    NaN   type 1       0\n",
              "2   ppl_100  act2_3404049  2022-09-27  ...    NaN   type 1       0\n",
              "3   ppl_100  act2_3651215  2023-08-04  ...    NaN   type 1       0\n",
              "4   ppl_100  act2_4109017  2023-08-26  ...    NaN   type 1       0\n",
              "\n",
              "[5 rows x 15 columns]"
            ]
          },
          "metadata": {
            "tags": []
          },
          "execution_count": 6
        }
      ]
    },
    {
      "cell_type": "code",
      "metadata": {
        "colab": {
          "base_uri": "https://localhost:8080/"
        },
        "id": "NMTxD4drvBgN",
        "outputId": "7b914c77-f7d4-4599-9806-0ac742ca09ac"
      },
      "source": [
        "# the number of people here is fewer than the number of people in the 'people' table\n",
        "act_train['people_id'].nunique()"
      ],
      "execution_count": 7,
      "outputs": [
        {
          "output_type": "execute_result",
          "data": {
            "text/plain": [
              "151295"
            ]
          },
          "metadata": {
            "tags": []
          },
          "execution_count": 7
        }
      ]
    },
    {
      "cell_type": "code",
      "metadata": {
        "colab": {
          "base_uri": "https://localhost:8080/"
        },
        "id": "l70CDIlZvBgN",
        "outputId": "e5fb2cbf-d3fc-40c3-c496-43fd576891ab"
      },
      "source": [
        "act_train.info()"
      ],
      "execution_count": 8,
      "outputs": [
        {
          "output_type": "stream",
          "text": [
            "<class 'pandas.core.frame.DataFrame'>\n",
            "RangeIndex: 2197291 entries, 0 to 2197290\n",
            "Data columns (total 15 columns):\n",
            " #   Column             Dtype \n",
            "---  ------             ----- \n",
            " 0   people_id          object\n",
            " 1   activity_id        object\n",
            " 2   date               object\n",
            " 3   activity_category  object\n",
            " 4   char_1             object\n",
            " 5   char_2             object\n",
            " 6   char_3             object\n",
            " 7   char_4             object\n",
            " 8   char_5             object\n",
            " 9   char_6             object\n",
            " 10  char_7             object\n",
            " 11  char_8             object\n",
            " 12  char_9             object\n",
            " 13  char_10            object\n",
            " 14  outcome            int64 \n",
            "dtypes: int64(1), object(14)\n",
            "memory usage: 251.5+ MB\n"
          ],
          "name": "stdout"
        }
      ]
    },
    {
      "cell_type": "code",
      "metadata": {
        "colab": {
          "base_uri": "https://localhost:8080/"
        },
        "id": "jdcfwXLIvBgO",
        "outputId": "d0c19458-abac-4461-fad0-86213ea6f59e"
      },
      "source": [
        "# the missing data here is because that type 2-7 activities do not have chars 1-9, while they only have char 10\n",
        "# only type 1 activities have char 10\n",
        "act_train.isnull().sum() "
      ],
      "execution_count": 9,
      "outputs": [
        {
          "output_type": "execute_result",
          "data": {
            "text/plain": [
              "people_id                  0\n",
              "activity_id                0\n",
              "date                       0\n",
              "activity_category          0\n",
              "char_1               2039676\n",
              "char_2               2039676\n",
              "char_3               2039676\n",
              "char_4               2039676\n",
              "char_5               2039676\n",
              "char_6               2039676\n",
              "char_7               2039676\n",
              "char_8               2039676\n",
              "char_9               2039676\n",
              "char_10               157615\n",
              "outcome                    0\n",
              "dtype: int64"
            ]
          },
          "metadata": {
            "tags": []
          },
          "execution_count": 9
        }
      ]
    },
    {
      "cell_type": "code",
      "metadata": {
        "id": "Q0nYz6azvBgO"
      },
      "source": [
        "# before merging two tables, mark the columns in each table first\n",
        "# so I will not mix up those columns in the following analysis\n",
        "\n",
        "# mark columns in the people table\n",
        "people_new_columns = []\n",
        "\n",
        "for column in people.columns:\n",
        "    if column != 'people_id':\n",
        "        column += '_people'\n",
        "    people_new_columns.append(column)\n",
        "\n",
        "people.columns = people_new_columns\n",
        "\n",
        "# mark columns in the activity table\n",
        "act_new_columns = []\n",
        "\n",
        "for column in act_train.columns:\n",
        "    if 'char' in column:\n",
        "        column += '_act'\n",
        "    act_new_columns.append(column)\n",
        "\n",
        "act_train.columns = act_new_columns"
      ],
      "execution_count": 10,
      "outputs": []
    },
    {
      "cell_type": "code",
      "metadata": {
        "scrolled": true,
        "colab": {
          "base_uri": "https://localhost:8080/",
          "height": 1000
        },
        "id": "3YqK8X0BvBgP",
        "outputId": "f77f5d0e-a316-4b95-abe8-445875e173f6"
      },
      "source": [
        "# merge two tables\n",
        "train = pd.merge(act_train, people, how='left',on='people_id')\n",
        "train.head().transpose()"
      ],
      "execution_count": 11,
      "outputs": [
        {
          "output_type": "execute_result",
          "data": {
            "text/html": [
              "<div>\n",
              "<style scoped>\n",
              "    .dataframe tbody tr th:only-of-type {\n",
              "        vertical-align: middle;\n",
              "    }\n",
              "\n",
              "    .dataframe tbody tr th {\n",
              "        vertical-align: top;\n",
              "    }\n",
              "\n",
              "    .dataframe thead th {\n",
              "        text-align: right;\n",
              "    }\n",
              "</style>\n",
              "<table border=\"1\" class=\"dataframe\">\n",
              "  <thead>\n",
              "    <tr style=\"text-align: right;\">\n",
              "      <th></th>\n",
              "      <th>0</th>\n",
              "      <th>1</th>\n",
              "      <th>2</th>\n",
              "      <th>3</th>\n",
              "      <th>4</th>\n",
              "    </tr>\n",
              "  </thead>\n",
              "  <tbody>\n",
              "    <tr>\n",
              "      <th>people_id</th>\n",
              "      <td>ppl_100</td>\n",
              "      <td>ppl_100</td>\n",
              "      <td>ppl_100</td>\n",
              "      <td>ppl_100</td>\n",
              "      <td>ppl_100</td>\n",
              "    </tr>\n",
              "    <tr>\n",
              "      <th>activity_id</th>\n",
              "      <td>act2_1734928</td>\n",
              "      <td>act2_2434093</td>\n",
              "      <td>act2_3404049</td>\n",
              "      <td>act2_3651215</td>\n",
              "      <td>act2_4109017</td>\n",
              "    </tr>\n",
              "    <tr>\n",
              "      <th>date</th>\n",
              "      <td>2023-08-26</td>\n",
              "      <td>2022-09-27</td>\n",
              "      <td>2022-09-27</td>\n",
              "      <td>2023-08-04</td>\n",
              "      <td>2023-08-26</td>\n",
              "    </tr>\n",
              "    <tr>\n",
              "      <th>activity_category</th>\n",
              "      <td>type 4</td>\n",
              "      <td>type 2</td>\n",
              "      <td>type 2</td>\n",
              "      <td>type 2</td>\n",
              "      <td>type 2</td>\n",
              "    </tr>\n",
              "    <tr>\n",
              "      <th>char_1_act</th>\n",
              "      <td>NaN</td>\n",
              "      <td>NaN</td>\n",
              "      <td>NaN</td>\n",
              "      <td>NaN</td>\n",
              "      <td>NaN</td>\n",
              "    </tr>\n",
              "    <tr>\n",
              "      <th>char_2_act</th>\n",
              "      <td>NaN</td>\n",
              "      <td>NaN</td>\n",
              "      <td>NaN</td>\n",
              "      <td>NaN</td>\n",
              "      <td>NaN</td>\n",
              "    </tr>\n",
              "    <tr>\n",
              "      <th>char_3_act</th>\n",
              "      <td>NaN</td>\n",
              "      <td>NaN</td>\n",
              "      <td>NaN</td>\n",
              "      <td>NaN</td>\n",
              "      <td>NaN</td>\n",
              "    </tr>\n",
              "    <tr>\n",
              "      <th>char_4_act</th>\n",
              "      <td>NaN</td>\n",
              "      <td>NaN</td>\n",
              "      <td>NaN</td>\n",
              "      <td>NaN</td>\n",
              "      <td>NaN</td>\n",
              "    </tr>\n",
              "    <tr>\n",
              "      <th>char_5_act</th>\n",
              "      <td>NaN</td>\n",
              "      <td>NaN</td>\n",
              "      <td>NaN</td>\n",
              "      <td>NaN</td>\n",
              "      <td>NaN</td>\n",
              "    </tr>\n",
              "    <tr>\n",
              "      <th>char_6_act</th>\n",
              "      <td>NaN</td>\n",
              "      <td>NaN</td>\n",
              "      <td>NaN</td>\n",
              "      <td>NaN</td>\n",
              "      <td>NaN</td>\n",
              "    </tr>\n",
              "    <tr>\n",
              "      <th>char_7_act</th>\n",
              "      <td>NaN</td>\n",
              "      <td>NaN</td>\n",
              "      <td>NaN</td>\n",
              "      <td>NaN</td>\n",
              "      <td>NaN</td>\n",
              "    </tr>\n",
              "    <tr>\n",
              "      <th>char_8_act</th>\n",
              "      <td>NaN</td>\n",
              "      <td>NaN</td>\n",
              "      <td>NaN</td>\n",
              "      <td>NaN</td>\n",
              "      <td>NaN</td>\n",
              "    </tr>\n",
              "    <tr>\n",
              "      <th>char_9_act</th>\n",
              "      <td>NaN</td>\n",
              "      <td>NaN</td>\n",
              "      <td>NaN</td>\n",
              "      <td>NaN</td>\n",
              "      <td>NaN</td>\n",
              "    </tr>\n",
              "    <tr>\n",
              "      <th>char_10_act</th>\n",
              "      <td>type 76</td>\n",
              "      <td>type 1</td>\n",
              "      <td>type 1</td>\n",
              "      <td>type 1</td>\n",
              "      <td>type 1</td>\n",
              "    </tr>\n",
              "    <tr>\n",
              "      <th>outcome</th>\n",
              "      <td>0</td>\n",
              "      <td>0</td>\n",
              "      <td>0</td>\n",
              "      <td>0</td>\n",
              "      <td>0</td>\n",
              "    </tr>\n",
              "    <tr>\n",
              "      <th>char_1_people</th>\n",
              "      <td>type 2</td>\n",
              "      <td>type 2</td>\n",
              "      <td>type 2</td>\n",
              "      <td>type 2</td>\n",
              "      <td>type 2</td>\n",
              "    </tr>\n",
              "    <tr>\n",
              "      <th>group_1_people</th>\n",
              "      <td>group 17304</td>\n",
              "      <td>group 17304</td>\n",
              "      <td>group 17304</td>\n",
              "      <td>group 17304</td>\n",
              "      <td>group 17304</td>\n",
              "    </tr>\n",
              "    <tr>\n",
              "      <th>char_2_people</th>\n",
              "      <td>type 2</td>\n",
              "      <td>type 2</td>\n",
              "      <td>type 2</td>\n",
              "      <td>type 2</td>\n",
              "      <td>type 2</td>\n",
              "    </tr>\n",
              "    <tr>\n",
              "      <th>date_people</th>\n",
              "      <td>2021-06-29</td>\n",
              "      <td>2021-06-29</td>\n",
              "      <td>2021-06-29</td>\n",
              "      <td>2021-06-29</td>\n",
              "      <td>2021-06-29</td>\n",
              "    </tr>\n",
              "    <tr>\n",
              "      <th>char_3_people</th>\n",
              "      <td>type 5</td>\n",
              "      <td>type 5</td>\n",
              "      <td>type 5</td>\n",
              "      <td>type 5</td>\n",
              "      <td>type 5</td>\n",
              "    </tr>\n",
              "    <tr>\n",
              "      <th>char_4_people</th>\n",
              "      <td>type 5</td>\n",
              "      <td>type 5</td>\n",
              "      <td>type 5</td>\n",
              "      <td>type 5</td>\n",
              "      <td>type 5</td>\n",
              "    </tr>\n",
              "    <tr>\n",
              "      <th>char_5_people</th>\n",
              "      <td>type 5</td>\n",
              "      <td>type 5</td>\n",
              "      <td>type 5</td>\n",
              "      <td>type 5</td>\n",
              "      <td>type 5</td>\n",
              "    </tr>\n",
              "    <tr>\n",
              "      <th>char_6_people</th>\n",
              "      <td>type 3</td>\n",
              "      <td>type 3</td>\n",
              "      <td>type 3</td>\n",
              "      <td>type 3</td>\n",
              "      <td>type 3</td>\n",
              "    </tr>\n",
              "    <tr>\n",
              "      <th>char_7_people</th>\n",
              "      <td>type 11</td>\n",
              "      <td>type 11</td>\n",
              "      <td>type 11</td>\n",
              "      <td>type 11</td>\n",
              "      <td>type 11</td>\n",
              "    </tr>\n",
              "    <tr>\n",
              "      <th>char_8_people</th>\n",
              "      <td>type 2</td>\n",
              "      <td>type 2</td>\n",
              "      <td>type 2</td>\n",
              "      <td>type 2</td>\n",
              "      <td>type 2</td>\n",
              "    </tr>\n",
              "    <tr>\n",
              "      <th>char_9_people</th>\n",
              "      <td>type 2</td>\n",
              "      <td>type 2</td>\n",
              "      <td>type 2</td>\n",
              "      <td>type 2</td>\n",
              "      <td>type 2</td>\n",
              "    </tr>\n",
              "    <tr>\n",
              "      <th>char_10_people</th>\n",
              "      <td>True</td>\n",
              "      <td>True</td>\n",
              "      <td>True</td>\n",
              "      <td>True</td>\n",
              "      <td>True</td>\n",
              "    </tr>\n",
              "    <tr>\n",
              "      <th>char_11_people</th>\n",
              "      <td>False</td>\n",
              "      <td>False</td>\n",
              "      <td>False</td>\n",
              "      <td>False</td>\n",
              "      <td>False</td>\n",
              "    </tr>\n",
              "    <tr>\n",
              "      <th>char_12_people</th>\n",
              "      <td>False</td>\n",
              "      <td>False</td>\n",
              "      <td>False</td>\n",
              "      <td>False</td>\n",
              "      <td>False</td>\n",
              "    </tr>\n",
              "    <tr>\n",
              "      <th>char_13_people</th>\n",
              "      <td>True</td>\n",
              "      <td>True</td>\n",
              "      <td>True</td>\n",
              "      <td>True</td>\n",
              "      <td>True</td>\n",
              "    </tr>\n",
              "    <tr>\n",
              "      <th>char_14_people</th>\n",
              "      <td>True</td>\n",
              "      <td>True</td>\n",
              "      <td>True</td>\n",
              "      <td>True</td>\n",
              "      <td>True</td>\n",
              "    </tr>\n",
              "    <tr>\n",
              "      <th>char_15_people</th>\n",
              "      <td>False</td>\n",
              "      <td>False</td>\n",
              "      <td>False</td>\n",
              "      <td>False</td>\n",
              "      <td>False</td>\n",
              "    </tr>\n",
              "    <tr>\n",
              "      <th>char_16_people</th>\n",
              "      <td>True</td>\n",
              "      <td>True</td>\n",
              "      <td>True</td>\n",
              "      <td>True</td>\n",
              "      <td>True</td>\n",
              "    </tr>\n",
              "    <tr>\n",
              "      <th>char_17_people</th>\n",
              "      <td>False</td>\n",
              "      <td>False</td>\n",
              "      <td>False</td>\n",
              "      <td>False</td>\n",
              "      <td>False</td>\n",
              "    </tr>\n",
              "    <tr>\n",
              "      <th>char_18_people</th>\n",
              "      <td>False</td>\n",
              "      <td>False</td>\n",
              "      <td>False</td>\n",
              "      <td>False</td>\n",
              "      <td>False</td>\n",
              "    </tr>\n",
              "    <tr>\n",
              "      <th>char_19_people</th>\n",
              "      <td>False</td>\n",
              "      <td>False</td>\n",
              "      <td>False</td>\n",
              "      <td>False</td>\n",
              "      <td>False</td>\n",
              "    </tr>\n",
              "    <tr>\n",
              "      <th>char_20_people</th>\n",
              "      <td>False</td>\n",
              "      <td>False</td>\n",
              "      <td>False</td>\n",
              "      <td>False</td>\n",
              "      <td>False</td>\n",
              "    </tr>\n",
              "    <tr>\n",
              "      <th>char_21_people</th>\n",
              "      <td>True</td>\n",
              "      <td>True</td>\n",
              "      <td>True</td>\n",
              "      <td>True</td>\n",
              "      <td>True</td>\n",
              "    </tr>\n",
              "    <tr>\n",
              "      <th>char_22_people</th>\n",
              "      <td>False</td>\n",
              "      <td>False</td>\n",
              "      <td>False</td>\n",
              "      <td>False</td>\n",
              "      <td>False</td>\n",
              "    </tr>\n",
              "    <tr>\n",
              "      <th>char_23_people</th>\n",
              "      <td>False</td>\n",
              "      <td>False</td>\n",
              "      <td>False</td>\n",
              "      <td>False</td>\n",
              "      <td>False</td>\n",
              "    </tr>\n",
              "    <tr>\n",
              "      <th>char_24_people</th>\n",
              "      <td>False</td>\n",
              "      <td>False</td>\n",
              "      <td>False</td>\n",
              "      <td>False</td>\n",
              "      <td>False</td>\n",
              "    </tr>\n",
              "    <tr>\n",
              "      <th>char_25_people</th>\n",
              "      <td>False</td>\n",
              "      <td>False</td>\n",
              "      <td>False</td>\n",
              "      <td>False</td>\n",
              "      <td>False</td>\n",
              "    </tr>\n",
              "    <tr>\n",
              "      <th>char_26_people</th>\n",
              "      <td>False</td>\n",
              "      <td>False</td>\n",
              "      <td>False</td>\n",
              "      <td>False</td>\n",
              "      <td>False</td>\n",
              "    </tr>\n",
              "    <tr>\n",
              "      <th>char_27_people</th>\n",
              "      <td>True</td>\n",
              "      <td>True</td>\n",
              "      <td>True</td>\n",
              "      <td>True</td>\n",
              "      <td>True</td>\n",
              "    </tr>\n",
              "    <tr>\n",
              "      <th>char_28_people</th>\n",
              "      <td>True</td>\n",
              "      <td>True</td>\n",
              "      <td>True</td>\n",
              "      <td>True</td>\n",
              "      <td>True</td>\n",
              "    </tr>\n",
              "    <tr>\n",
              "      <th>char_29_people</th>\n",
              "      <td>False</td>\n",
              "      <td>False</td>\n",
              "      <td>False</td>\n",
              "      <td>False</td>\n",
              "      <td>False</td>\n",
              "    </tr>\n",
              "    <tr>\n",
              "      <th>char_30_people</th>\n",
              "      <td>True</td>\n",
              "      <td>True</td>\n",
              "      <td>True</td>\n",
              "      <td>True</td>\n",
              "      <td>True</td>\n",
              "    </tr>\n",
              "    <tr>\n",
              "      <th>char_31_people</th>\n",
              "      <td>True</td>\n",
              "      <td>True</td>\n",
              "      <td>True</td>\n",
              "      <td>True</td>\n",
              "      <td>True</td>\n",
              "    </tr>\n",
              "    <tr>\n",
              "      <th>char_32_people</th>\n",
              "      <td>False</td>\n",
              "      <td>False</td>\n",
              "      <td>False</td>\n",
              "      <td>False</td>\n",
              "      <td>False</td>\n",
              "    </tr>\n",
              "    <tr>\n",
              "      <th>char_33_people</th>\n",
              "      <td>False</td>\n",
              "      <td>False</td>\n",
              "      <td>False</td>\n",
              "      <td>False</td>\n",
              "      <td>False</td>\n",
              "    </tr>\n",
              "    <tr>\n",
              "      <th>char_34_people</th>\n",
              "      <td>True</td>\n",
              "      <td>True</td>\n",
              "      <td>True</td>\n",
              "      <td>True</td>\n",
              "      <td>True</td>\n",
              "    </tr>\n",
              "    <tr>\n",
              "      <th>char_35_people</th>\n",
              "      <td>True</td>\n",
              "      <td>True</td>\n",
              "      <td>True</td>\n",
              "      <td>True</td>\n",
              "      <td>True</td>\n",
              "    </tr>\n",
              "    <tr>\n",
              "      <th>char_36_people</th>\n",
              "      <td>True</td>\n",
              "      <td>True</td>\n",
              "      <td>True</td>\n",
              "      <td>True</td>\n",
              "      <td>True</td>\n",
              "    </tr>\n",
              "    <tr>\n",
              "      <th>char_37_people</th>\n",
              "      <td>False</td>\n",
              "      <td>False</td>\n",
              "      <td>False</td>\n",
              "      <td>False</td>\n",
              "      <td>False</td>\n",
              "    </tr>\n",
              "    <tr>\n",
              "      <th>char_38_people</th>\n",
              "      <td>36</td>\n",
              "      <td>36</td>\n",
              "      <td>36</td>\n",
              "      <td>36</td>\n",
              "      <td>36</td>\n",
              "    </tr>\n",
              "  </tbody>\n",
              "</table>\n",
              "</div>"
            ],
            "text/plain": [
              "                              0             1  ...             3             4\n",
              "people_id               ppl_100       ppl_100  ...       ppl_100       ppl_100\n",
              "activity_id        act2_1734928  act2_2434093  ...  act2_3651215  act2_4109017\n",
              "date                 2023-08-26    2022-09-27  ...    2023-08-04    2023-08-26\n",
              "activity_category        type 4        type 2  ...        type 2        type 2\n",
              "char_1_act                  NaN           NaN  ...           NaN           NaN\n",
              "char_2_act                  NaN           NaN  ...           NaN           NaN\n",
              "char_3_act                  NaN           NaN  ...           NaN           NaN\n",
              "char_4_act                  NaN           NaN  ...           NaN           NaN\n",
              "char_5_act                  NaN           NaN  ...           NaN           NaN\n",
              "char_6_act                  NaN           NaN  ...           NaN           NaN\n",
              "char_7_act                  NaN           NaN  ...           NaN           NaN\n",
              "char_8_act                  NaN           NaN  ...           NaN           NaN\n",
              "char_9_act                  NaN           NaN  ...           NaN           NaN\n",
              "char_10_act             type 76        type 1  ...        type 1        type 1\n",
              "outcome                       0             0  ...             0             0\n",
              "char_1_people            type 2        type 2  ...        type 2        type 2\n",
              "group_1_people      group 17304   group 17304  ...   group 17304   group 17304\n",
              "char_2_people            type 2        type 2  ...        type 2        type 2\n",
              "date_people          2021-06-29    2021-06-29  ...    2021-06-29    2021-06-29\n",
              "char_3_people            type 5        type 5  ...        type 5        type 5\n",
              "char_4_people            type 5        type 5  ...        type 5        type 5\n",
              "char_5_people            type 5        type 5  ...        type 5        type 5\n",
              "char_6_people            type 3        type 3  ...        type 3        type 3\n",
              "char_7_people           type 11       type 11  ...       type 11       type 11\n",
              "char_8_people            type 2        type 2  ...        type 2        type 2\n",
              "char_9_people            type 2        type 2  ...        type 2        type 2\n",
              "char_10_people             True          True  ...          True          True\n",
              "char_11_people            False         False  ...         False         False\n",
              "char_12_people            False         False  ...         False         False\n",
              "char_13_people             True          True  ...          True          True\n",
              "char_14_people             True          True  ...          True          True\n",
              "char_15_people            False         False  ...         False         False\n",
              "char_16_people             True          True  ...          True          True\n",
              "char_17_people            False         False  ...         False         False\n",
              "char_18_people            False         False  ...         False         False\n",
              "char_19_people            False         False  ...         False         False\n",
              "char_20_people            False         False  ...         False         False\n",
              "char_21_people             True          True  ...          True          True\n",
              "char_22_people            False         False  ...         False         False\n",
              "char_23_people            False         False  ...         False         False\n",
              "char_24_people            False         False  ...         False         False\n",
              "char_25_people            False         False  ...         False         False\n",
              "char_26_people            False         False  ...         False         False\n",
              "char_27_people             True          True  ...          True          True\n",
              "char_28_people             True          True  ...          True          True\n",
              "char_29_people            False         False  ...         False         False\n",
              "char_30_people             True          True  ...          True          True\n",
              "char_31_people             True          True  ...          True          True\n",
              "char_32_people            False         False  ...         False         False\n",
              "char_33_people            False         False  ...         False         False\n",
              "char_34_people             True          True  ...          True          True\n",
              "char_35_people             True          True  ...          True          True\n",
              "char_36_people             True          True  ...          True          True\n",
              "char_37_people            False         False  ...         False         False\n",
              "char_38_people               36            36  ...            36            36\n",
              "\n",
              "[55 rows x 5 columns]"
            ]
          },
          "metadata": {
            "tags": []
          },
          "execution_count": 11
        }
      ]
    },
    {
      "cell_type": "code",
      "metadata": {
        "scrolled": true,
        "colab": {
          "base_uri": "https://localhost:8080/"
        },
        "id": "0KAqScZcvBgP",
        "outputId": "a9faa6ca-94b7-4399-d63a-42e8a06ecf10"
      },
      "source": [
        "# in total, there are 2,197,291 entries in the current train dateset\n",
        "train.info()"
      ],
      "execution_count": 12,
      "outputs": [
        {
          "output_type": "stream",
          "text": [
            "<class 'pandas.core.frame.DataFrame'>\n",
            "Int64Index: 2197291 entries, 0 to 2197290\n",
            "Data columns (total 55 columns):\n",
            " #   Column             Dtype \n",
            "---  ------             ----- \n",
            " 0   people_id          object\n",
            " 1   activity_id        object\n",
            " 2   date               object\n",
            " 3   activity_category  object\n",
            " 4   char_1_act         object\n",
            " 5   char_2_act         object\n",
            " 6   char_3_act         object\n",
            " 7   char_4_act         object\n",
            " 8   char_5_act         object\n",
            " 9   char_6_act         object\n",
            " 10  char_7_act         object\n",
            " 11  char_8_act         object\n",
            " 12  char_9_act         object\n",
            " 13  char_10_act        object\n",
            " 14  outcome            int64 \n",
            " 15  char_1_people      object\n",
            " 16  group_1_people     object\n",
            " 17  char_2_people      object\n",
            " 18  date_people        object\n",
            " 19  char_3_people      object\n",
            " 20  char_4_people      object\n",
            " 21  char_5_people      object\n",
            " 22  char_6_people      object\n",
            " 23  char_7_people      object\n",
            " 24  char_8_people      object\n",
            " 25  char_9_people      object\n",
            " 26  char_10_people     bool  \n",
            " 27  char_11_people     bool  \n",
            " 28  char_12_people     bool  \n",
            " 29  char_13_people     bool  \n",
            " 30  char_14_people     bool  \n",
            " 31  char_15_people     bool  \n",
            " 32  char_16_people     bool  \n",
            " 33  char_17_people     bool  \n",
            " 34  char_18_people     bool  \n",
            " 35  char_19_people     bool  \n",
            " 36  char_20_people     bool  \n",
            " 37  char_21_people     bool  \n",
            " 38  char_22_people     bool  \n",
            " 39  char_23_people     bool  \n",
            " 40  char_24_people     bool  \n",
            " 41  char_25_people     bool  \n",
            " 42  char_26_people     bool  \n",
            " 43  char_27_people     bool  \n",
            " 44  char_28_people     bool  \n",
            " 45  char_29_people     bool  \n",
            " 46  char_30_people     bool  \n",
            " 47  char_31_people     bool  \n",
            " 48  char_32_people     bool  \n",
            " 49  char_33_people     bool  \n",
            " 50  char_34_people     bool  \n",
            " 51  char_35_people     bool  \n",
            " 52  char_36_people     bool  \n",
            " 53  char_37_people     bool  \n",
            " 54  char_38_people     int64 \n",
            "dtypes: bool(28), int64(2), object(25)\n",
            "memory usage: 528.1+ MB\n"
          ],
          "name": "stdout"
        }
      ]
    },
    {
      "cell_type": "code",
      "metadata": {
        "scrolled": true,
        "colab": {
          "base_uri": "https://localhost:8080/"
        },
        "id": "il8iaCckvBgP",
        "outputId": "3d78f218-13ed-40c0-a092-9487b35b9c9c"
      },
      "source": [
        "# no more missing data after merging two tables\n",
        "train.isna().sum() "
      ],
      "execution_count": 13,
      "outputs": [
        {
          "output_type": "execute_result",
          "data": {
            "text/plain": [
              "people_id                  0\n",
              "activity_id                0\n",
              "date                       0\n",
              "activity_category          0\n",
              "char_1_act           2039676\n",
              "char_2_act           2039676\n",
              "char_3_act           2039676\n",
              "char_4_act           2039676\n",
              "char_5_act           2039676\n",
              "char_6_act           2039676\n",
              "char_7_act           2039676\n",
              "char_8_act           2039676\n",
              "char_9_act           2039676\n",
              "char_10_act           157615\n",
              "outcome                    0\n",
              "char_1_people              0\n",
              "group_1_people             0\n",
              "char_2_people              0\n",
              "date_people                0\n",
              "char_3_people              0\n",
              "char_4_people              0\n",
              "char_5_people              0\n",
              "char_6_people              0\n",
              "char_7_people              0\n",
              "char_8_people              0\n",
              "char_9_people              0\n",
              "char_10_people             0\n",
              "char_11_people             0\n",
              "char_12_people             0\n",
              "char_13_people             0\n",
              "char_14_people             0\n",
              "char_15_people             0\n",
              "char_16_people             0\n",
              "char_17_people             0\n",
              "char_18_people             0\n",
              "char_19_people             0\n",
              "char_20_people             0\n",
              "char_21_people             0\n",
              "char_22_people             0\n",
              "char_23_people             0\n",
              "char_24_people             0\n",
              "char_25_people             0\n",
              "char_26_people             0\n",
              "char_27_people             0\n",
              "char_28_people             0\n",
              "char_29_people             0\n",
              "char_30_people             0\n",
              "char_31_people             0\n",
              "char_32_people             0\n",
              "char_33_people             0\n",
              "char_34_people             0\n",
              "char_35_people             0\n",
              "char_36_people             0\n",
              "char_37_people             0\n",
              "char_38_people             0\n",
              "dtype: int64"
            ]
          },
          "metadata": {
            "tags": []
          },
          "execution_count": 13
        }
      ]
    },
    {
      "cell_type": "code",
      "metadata": {
        "colab": {
          "base_uri": "https://localhost:8080/"
        },
        "id": "XwZPXR3BvBgQ",
        "outputId": "552a7731-c22c-48f7-9806-6b7cfe49142d"
      },
      "source": [
        "# check the datset is balanced or not--it is balanced dataset\n",
        "train['outcome'].value_counts()"
      ],
      "execution_count": 14,
      "outputs": [
        {
          "output_type": "execute_result",
          "data": {
            "text/plain": [
              "0    1221794\n",
              "1     975497\n",
              "Name: outcome, dtype: int64"
            ]
          },
          "metadata": {
            "tags": []
          },
          "execution_count": 14
        }
      ]
    },
    {
      "cell_type": "markdown",
      "metadata": {
        "id": "uEhoY9g0vBgR"
      },
      "source": [
        "# 2. Exploratory Data Analysis"
      ]
    },
    {
      "cell_type": "markdown",
      "metadata": {
        "id": "C0nsK8oVvBgR"
      },
      "source": [
        "## 2.1 People Characters"
      ]
    },
    {
      "cell_type": "markdown",
      "metadata": {
        "id": "mGDhYpTKvBgR"
      },
      "source": [
        "The exploratory analysis is started with people characteristics.\n",
        "\n",
        "I hypothesized that 'date_people' is a data that people get registered or the first day that a people got connected with the Red Hat Platform. Undoubtedly, 'date' is the date that each activity happened on. I found that for each person, all 'date' are equal to, or later than 'date_people'. **Therefore, it is reasonable to hypothesize 'date_people' is a registration date or its equivalent**. \n",
        "\n",
        "I also created a column called 'date_diff', which is 'date' minus 'date_people', it indicates how long the activity performed since the first registration date."
      ]
    },
    {
      "cell_type": "code",
      "metadata": {
        "colab": {
          "base_uri": "https://localhost:8080/"
        },
        "id": "1L3CAP0BvBgS",
        "outputId": "e766c6d0-a05d-4d47-b370-4e068c28175d"
      },
      "source": [
        "# therefore 'date_people' could be a registration date \n",
        "train['date'] = pd.to_datetime(train['date'])\n",
        "train['date_people'] = pd.to_datetime(train['date_people'])\n",
        "\n",
        "(train['date_people'] <= train['date']).value_counts()"
      ],
      "execution_count": 15,
      "outputs": [
        {
          "output_type": "execute_result",
          "data": {
            "text/plain": [
              "True    2197291\n",
              "dtype: int64"
            ]
          },
          "metadata": {
            "tags": []
          },
          "execution_count": 15
        }
      ]
    },
    {
      "cell_type": "code",
      "metadata": {
        "colab": {
          "base_uri": "https://localhost:8080/"
        },
        "id": "Y2_D1OQtvBgS",
        "outputId": "1bb70527-ebd3-4b10-edee-69ccf1733b52"
      },
      "source": [
        "# a new column is created. It indicates the when is the activity date since the person registered. \n",
        "train['date_diff'] = train['date'] - train['date_people']\n",
        "train['date_diff'] = train['date_diff']/np.timedelta64 (1, 'D')\n",
        "train['date_diff']"
      ],
      "execution_count": 16,
      "outputs": [
        {
          "output_type": "execute_result",
          "data": {
            "text/plain": [
              "0          788.0\n",
              "1          455.0\n",
              "2          455.0\n",
              "3          766.0\n",
              "4          788.0\n",
              "           ...  \n",
              "2197286    161.0\n",
              "2197287     83.0\n",
              "2197288     13.0\n",
              "2197289    116.0\n",
              "2197290    160.0\n",
              "Name: date_diff, Length: 2197291, dtype: float64"
            ]
          },
          "metadata": {
            "tags": []
          },
          "execution_count": 16
        }
      ]
    },
    {
      "cell_type": "markdown",
      "metadata": {
        "id": "wDZY1YE4vBgS"
      },
      "source": [
        "### 2.1.1 Bot Traffic"
      ]
    },
    {
      "cell_type": "markdown",
      "metadata": {
        "id": "q-PYp6rRvBgT"
      },
      "source": [
        "**Are frequent users tending to have more business values? The answer is NO.** \n",
        "\n",
        "This hypothesis is related with the frequency that a people performed an activity. However, I found that for frequent users, some could have even more than 20000 activities in a single day, which is very different from the other users---98% of the people have no more than 5 activities a day. Through all those highly frequent visits, **no** business values were detected. Take 'ppl_294918' as an example, this users performed activities of more than 20,000 times in a single day, but none of those activities have business values. The other highly frequent users also have this character.\n",
        "\n",
        "Therefore I can reasonably infer those are **bot traffic**. According to the behaviors of those bot traffic, I first identify a list of bot people_id, who has performed more than 200 activities in a day but did not have any business values. \n",
        "\n",
        "Then I created a new column 'bot', which takes boolean variables, to identify if the users is judged to be a bot or not. This can be a very important parameter to identify if a visitor has a business value."
      ]
    },
    {
      "cell_type": "code",
      "metadata": {
        "colab": {
          "base_uri": "https://localhost:8080/"
        },
        "id": "_nyvTmLSvBgT",
        "outputId": "a1ddfb38-621f-45bc-b5a1-7ac74f7d9b6c"
      },
      "source": [
        "# The most active users \n",
        "train['people_id'].value_counts().head(10)"
      ],
      "execution_count": 17,
      "outputs": [
        {
          "output_type": "execute_result",
          "data": {
            "text/plain": [
              "ppl_294918    55103\n",
              "ppl_370270    53668\n",
              "ppl_105739    45936\n",
              "ppl_54699     23969\n",
              "ppl_64887      7052\n",
              "ppl_250020     4293\n",
              "ppl_351668     3144\n",
              "ppl_36839      3059\n",
              "ppl_372923     2365\n",
              "ppl_265578     1539\n",
              "Name: people_id, dtype: int64"
            ]
          },
          "metadata": {
            "tags": []
          },
          "execution_count": 17
        }
      ]
    },
    {
      "cell_type": "code",
      "metadata": {
        "colab": {
          "base_uri": "https://localhost:8080/"
        },
        "id": "iO8RsdjJvBgU",
        "outputId": "be16539e-fbfa-4408-ba18-b18df22e8b62"
      },
      "source": [
        "# take 'ppl_294918' as an example, this users performed activities of more than 20,000 times in a single day\n",
        "# none of those activities have business values\n",
        "# the other highly frequent users also have this character\n",
        "train[train['people_id'].isin (['ppl_294918'])][['outcome', 'date_diff']].value_counts()"
      ],
      "execution_count": 18,
      "outputs": [
        {
          "output_type": "execute_result",
          "data": {
            "text/plain": [
              "outcome  date_diff\n",
              "0        3.0          20289\n",
              "         4.0          19928\n",
              "         2.0          12966\n",
              "         5.0           1914\n",
              "         1.0              3\n",
              "         19.0             1\n",
              "         17.0             1\n",
              "         0.0              1\n",
              "dtype: int64"
            ]
          },
          "metadata": {
            "tags": []
          },
          "execution_count": 18
        }
      ]
    },
    {
      "cell_type": "code",
      "metadata": {
        "colab": {
          "base_uri": "https://localhost:8080/",
          "height": 0
        },
        "id": "856tZQ-XvBgU",
        "outputId": "4ef64269-9555-4be5-b497-15d5e080defe"
      },
      "source": [
        "# create a frequency table\n",
        "freq = train.groupby(['people_id', 'date_diff'])['outcome'].agg(['count', 'mean'])\n",
        "freq.columns = ['act_cnt_daily', 'mean_outcome_daily']\n",
        "\n",
        "print('The Total Number of Activities Performed by Each Person per Day and Their Mean Outcomes')\n",
        "freq.head()"
      ],
      "execution_count": 19,
      "outputs": [
        {
          "output_type": "stream",
          "text": [
            "The Total Number of Activities Performed by Each Person per Day and Their Mean Outcomes\n"
          ],
          "name": "stdout"
        },
        {
          "output_type": "execute_result",
          "data": {
            "text/html": [
              "<div>\n",
              "<style scoped>\n",
              "    .dataframe tbody tr th:only-of-type {\n",
              "        vertical-align: middle;\n",
              "    }\n",
              "\n",
              "    .dataframe tbody tr th {\n",
              "        vertical-align: top;\n",
              "    }\n",
              "\n",
              "    .dataframe thead th {\n",
              "        text-align: right;\n",
              "    }\n",
              "</style>\n",
              "<table border=\"1\" class=\"dataframe\">\n",
              "  <thead>\n",
              "    <tr style=\"text-align: right;\">\n",
              "      <th></th>\n",
              "      <th></th>\n",
              "      <th>act_cnt_daily</th>\n",
              "      <th>mean_outcome_daily</th>\n",
              "    </tr>\n",
              "    <tr>\n",
              "      <th>people_id</th>\n",
              "      <th>date_diff</th>\n",
              "      <th></th>\n",
              "      <th></th>\n",
              "    </tr>\n",
              "  </thead>\n",
              "  <tbody>\n",
              "    <tr>\n",
              "      <th rowspan=\"3\" valign=\"top\">ppl_100</th>\n",
              "      <th>455.0</th>\n",
              "      <td>2</td>\n",
              "      <td>0</td>\n",
              "    </tr>\n",
              "    <tr>\n",
              "      <th>766.0</th>\n",
              "      <td>2</td>\n",
              "      <td>0</td>\n",
              "    </tr>\n",
              "    <tr>\n",
              "      <th>788.0</th>\n",
              "      <td>2</td>\n",
              "      <td>0</td>\n",
              "    </tr>\n",
              "    <tr>\n",
              "      <th>ppl_100002</th>\n",
              "      <th>686.0</th>\n",
              "      <td>2</td>\n",
              "      <td>1</td>\n",
              "    </tr>\n",
              "    <tr>\n",
              "      <th>ppl_100003</th>\n",
              "      <th>61.0</th>\n",
              "      <td>4</td>\n",
              "      <td>1</td>\n",
              "    </tr>\n",
              "  </tbody>\n",
              "</table>\n",
              "</div>"
            ],
            "text/plain": [
              "                      act_cnt_daily  mean_outcome_daily\n",
              "people_id  date_diff                                   \n",
              "ppl_100    455.0                  2                   0\n",
              "           766.0                  2                   0\n",
              "           788.0                  2                   0\n",
              "ppl_100002 686.0                  2                   1\n",
              "ppl_100003 61.0                   4                   1"
            ]
          },
          "metadata": {
            "tags": []
          },
          "execution_count": 19
        }
      ]
    },
    {
      "cell_type": "markdown",
      "metadata": {
        "id": "-OITC8rzvBgU"
      },
      "source": [
        "99% of people performed equal to, or less than 12 activities a day."
      ]
    },
    {
      "cell_type": "code",
      "metadata": {
        "colab": {
          "base_uri": "https://localhost:8080/",
          "height": 0
        },
        "id": "mnZyNkVvvBgV",
        "outputId": "5cf5a52a-4b9b-4b9f-b860-7d233b5978fb"
      },
      "source": [
        "# the table shows that people could performed 22,994 activities a day\n",
        "# 90% percent of people only performed 4 activities a day, 99 percent of people performed 12 activities\n",
        "freq.describe(percentiles=[0.25, 0.5, 0.75, 0.9, 0.99])"
      ],
      "execution_count": 20,
      "outputs": [
        {
          "output_type": "execute_result",
          "data": {
            "text/html": [
              "<div>\n",
              "<style scoped>\n",
              "    .dataframe tbody tr th:only-of-type {\n",
              "        vertical-align: middle;\n",
              "    }\n",
              "\n",
              "    .dataframe tbody tr th {\n",
              "        vertical-align: top;\n",
              "    }\n",
              "\n",
              "    .dataframe thead th {\n",
              "        text-align: right;\n",
              "    }\n",
              "</style>\n",
              "<table border=\"1\" class=\"dataframe\">\n",
              "  <thead>\n",
              "    <tr style=\"text-align: right;\">\n",
              "      <th></th>\n",
              "      <th>act_cnt_daily</th>\n",
              "      <th>mean_outcome_daily</th>\n",
              "    </tr>\n",
              "  </thead>\n",
              "  <tbody>\n",
              "    <tr>\n",
              "      <th>count</th>\n",
              "      <td>915274.000000</td>\n",
              "      <td>915274.000000</td>\n",
              "    </tr>\n",
              "    <tr>\n",
              "      <th>mean</th>\n",
              "      <td>2.400692</td>\n",
              "      <td>0.496426</td>\n",
              "    </tr>\n",
              "    <tr>\n",
              "      <th>std</th>\n",
              "      <td>57.578512</td>\n",
              "      <td>0.499988</td>\n",
              "    </tr>\n",
              "    <tr>\n",
              "      <th>min</th>\n",
              "      <td>1.000000</td>\n",
              "      <td>0.000000</td>\n",
              "    </tr>\n",
              "    <tr>\n",
              "      <th>25%</th>\n",
              "      <td>1.000000</td>\n",
              "      <td>0.000000</td>\n",
              "    </tr>\n",
              "    <tr>\n",
              "      <th>50%</th>\n",
              "      <td>1.000000</td>\n",
              "      <td>0.000000</td>\n",
              "    </tr>\n",
              "    <tr>\n",
              "      <th>75%</th>\n",
              "      <td>2.000000</td>\n",
              "      <td>1.000000</td>\n",
              "    </tr>\n",
              "    <tr>\n",
              "      <th>90%</th>\n",
              "      <td>4.000000</td>\n",
              "      <td>1.000000</td>\n",
              "    </tr>\n",
              "    <tr>\n",
              "      <th>99%</th>\n",
              "      <td>12.000000</td>\n",
              "      <td>1.000000</td>\n",
              "    </tr>\n",
              "    <tr>\n",
              "      <th>max</th>\n",
              "      <td>22994.000000</td>\n",
              "      <td>1.000000</td>\n",
              "    </tr>\n",
              "  </tbody>\n",
              "</table>\n",
              "</div>"
            ],
            "text/plain": [
              "       act_cnt_daily  mean_outcome_daily\n",
              "count  915274.000000       915274.000000\n",
              "mean        2.400692            0.496426\n",
              "std        57.578512            0.499988\n",
              "min         1.000000            0.000000\n",
              "25%         1.000000            0.000000\n",
              "50%         1.000000            0.000000\n",
              "75%         2.000000            1.000000\n",
              "90%         4.000000            1.000000\n",
              "99%        12.000000            1.000000\n",
              "max     22994.000000            1.000000"
            ]
          },
          "metadata": {
            "tags": []
          },
          "execution_count": 20
        }
      ]
    },
    {
      "cell_type": "code",
      "metadata": {
        "colab": {
          "base_uri": "https://localhost:8080/",
          "height": 0
        },
        "id": "c4afdx80vBgX",
        "outputId": "d835cdbb-e91c-4deb-cac0-a3f9441d558a"
      },
      "source": [
        "fig, axes = plt.subplots(figsize=(12, 10))\n",
        "\n",
        "sns.scatterplot(data=freq, x='date_diff', y='act_cnt_daily',hue='mean_outcome_daily')\n",
        "\n",
        "axes.set_yscale('log')\n",
        "axes.set(xlabel='Date Since the First Day per User', ylabel='Number of Activities Daily per User')\n",
        "axes.set_title('Figure 1.The Total Number of Activities Performed by Each Person per Day')"
      ],
      "execution_count": 21,
      "outputs": [
        {
          "output_type": "execute_result",
          "data": {
            "text/plain": [
              "Text(0.5, 1.0, 'Figure 1.The Total Number of Activities Performed by Each Person per Day')"
            ]
          },
          "metadata": {
            "tags": []
          },
          "execution_count": 21
        },
        {
          "output_type": "display_data",
          "data": {
            "image/png": "[encoded data removed]",
            "text/plain": [
              "<Figure size 864x720 with 1 Axes>"
            ]
          },
          "metadata": {
            "tags": [],
            "needs_background": "light"
          }
        }
      ]
    },
    {
      "cell_type": "code",
      "metadata": {
        "colab": {
          "base_uri": "https://localhost:8080/",
          "height": 0
        },
        "id": "7wlXdZ_QvBgX",
        "outputId": "2ac2b586-87ed-4cd3-9e22-08c51dee42a5"
      },
      "source": [
        "# based on the analysis above, I set more than 300 times of activities a day as a threshold\n",
        "rob_id = freq[freq['act_cnt_daily']>300].index.get_level_values(0).unique()\n",
        "rob_id = pd.Series(rob_id)\n",
        "\n",
        "# create a new feature called 'rob'\n",
        "train['bot'] = train['people_id'].isin(rob_id)\n",
        "train[['people_id', 'bot']].head()"
      ],
      "execution_count": 22,
      "outputs": [
        {
          "output_type": "execute_result",
          "data": {
            "text/html": [
              "<div>\n",
              "<style scoped>\n",
              "    .dataframe tbody tr th:only-of-type {\n",
              "        vertical-align: middle;\n",
              "    }\n",
              "\n",
              "    .dataframe tbody tr th {\n",
              "        vertical-align: top;\n",
              "    }\n",
              "\n",
              "    .dataframe thead th {\n",
              "        text-align: right;\n",
              "    }\n",
              "</style>\n",
              "<table border=\"1\" class=\"dataframe\">\n",
              "  <thead>\n",
              "    <tr style=\"text-align: right;\">\n",
              "      <th></th>\n",
              "      <th>people_id</th>\n",
              "      <th>bot</th>\n",
              "    </tr>\n",
              "  </thead>\n",
              "  <tbody>\n",
              "    <tr>\n",
              "      <th>0</th>\n",
              "      <td>ppl_100</td>\n",
              "      <td>False</td>\n",
              "    </tr>\n",
              "    <tr>\n",
              "      <th>1</th>\n",
              "      <td>ppl_100</td>\n",
              "      <td>False</td>\n",
              "    </tr>\n",
              "    <tr>\n",
              "      <th>2</th>\n",
              "      <td>ppl_100</td>\n",
              "      <td>False</td>\n",
              "    </tr>\n",
              "    <tr>\n",
              "      <th>3</th>\n",
              "      <td>ppl_100</td>\n",
              "      <td>False</td>\n",
              "    </tr>\n",
              "    <tr>\n",
              "      <th>4</th>\n",
              "      <td>ppl_100</td>\n",
              "      <td>False</td>\n",
              "    </tr>\n",
              "  </tbody>\n",
              "</table>\n",
              "</div>"
            ],
            "text/plain": [
              "  people_id    bot\n",
              "0   ppl_100  False\n",
              "1   ppl_100  False\n",
              "2   ppl_100  False\n",
              "3   ppl_100  False\n",
              "4   ppl_100  False"
            ]
          },
          "metadata": {
            "tags": []
          },
          "execution_count": 22
        }
      ]
    },
    {
      "cell_type": "code",
      "metadata": {
        "colab": {
          "base_uri": "https://localhost:8080/"
        },
        "id": "I8Ofrw6kvBgY",
        "outputId": "cc6aedb5-527e-427c-bb76-6239163a3273"
      },
      "source": [
        "# there are 197536 activities are performed by 'bot'\n",
        "train['bot'].value_counts()"
      ],
      "execution_count": 23,
      "outputs": [
        {
          "output_type": "execute_result",
          "data": {
            "text/plain": [
              "False    1999755\n",
              "True      197536\n",
              "Name: bot, dtype: int64"
            ]
          },
          "metadata": {
            "tags": []
          },
          "execution_count": 23
        }
      ]
    },
    {
      "cell_type": "code",
      "metadata": {
        "scrolled": false,
        "colab": {
          "base_uri": "https://localhost:8080/"
        },
        "id": "aIeJnBMAvBgY",
        "outputId": "53ca98ed-3a2d-4ad3-acbf-a7a432de3c2a"
      },
      "source": [
        "# Among the activities that marked by 'bot', only 0.007% have business values\n",
        "# Therfore, 'bot' is a good indicator to show if an activity has business value or not\n",
        "train[train['bot']]['outcome'].value_counts()"
      ],
      "execution_count": 24,
      "outputs": [
        {
          "output_type": "execute_result",
          "data": {
            "text/plain": [
              "0    189005\n",
              "1      8531\n",
              "Name: outcome, dtype: int64"
            ]
          },
          "metadata": {
            "tags": []
          },
          "execution_count": 24
        }
      ]
    },
    {
      "cell_type": "markdown",
      "metadata": {
        "id": "e3feVvXavBgY"
      },
      "source": [
        "There is a moderate correlation between outcome and bot."
      ]
    },
    {
      "cell_type": "code",
      "metadata": {
        "scrolled": false,
        "colab": {
          "base_uri": "https://localhost:8080/",
          "height": 0
        },
        "id": "DvjNNmTfvBgZ",
        "outputId": "d983d386-1d1b-44c8-c6b5-d8d54c396a3c"
      },
      "source": [
        "# good correlation\n",
        "train[['bot', 'outcome']].corr()"
      ],
      "execution_count": 25,
      "outputs": [
        {
          "output_type": "execute_result",
          "data": {
            "text/html": [
              "<div>\n",
              "<style scoped>\n",
              "    .dataframe tbody tr th:only-of-type {\n",
              "        vertical-align: middle;\n",
              "    }\n",
              "\n",
              "    .dataframe tbody tr th {\n",
              "        vertical-align: top;\n",
              "    }\n",
              "\n",
              "    .dataframe thead th {\n",
              "        text-align: right;\n",
              "    }\n",
              "</style>\n",
              "<table border=\"1\" class=\"dataframe\">\n",
              "  <thead>\n",
              "    <tr style=\"text-align: right;\">\n",
              "      <th></th>\n",
              "      <th>bot</th>\n",
              "      <th>outcome</th>\n",
              "    </tr>\n",
              "  </thead>\n",
              "  <tbody>\n",
              "    <tr>\n",
              "      <th>bot</th>\n",
              "      <td>1.000000</td>\n",
              "      <td>-0.253514</td>\n",
              "    </tr>\n",
              "    <tr>\n",
              "      <th>outcome</th>\n",
              "      <td>-0.253514</td>\n",
              "      <td>1.000000</td>\n",
              "    </tr>\n",
              "  </tbody>\n",
              "</table>\n",
              "</div>"
            ],
            "text/plain": [
              "              bot   outcome\n",
              "bot      1.000000 -0.253514\n",
              "outcome -0.253514  1.000000"
            ]
          },
          "metadata": {
            "tags": []
          },
          "execution_count": 25
        }
      ]
    },
    {
      "cell_type": "markdown",
      "metadata": {
        "id": "mDrPPwRWvBgZ"
      },
      "source": [
        "### 2.1.2 Activity Date and Frequency"
      ]
    },
    {
      "cell_type": "markdown",
      "metadata": {
        "id": "Dun0IGZevBga"
      },
      "source": [
        "**Will active new users have more business value? --Seems no.**\n",
        "\n",
        "A new hypothesis based on 'date_diff' is that people performed activities within the **first day, first week, or first month** since they first appeared on this platform, is a sign of more interests on the platform. Therefore, they may have more business values. \n",
        "\n",
        "The results show that people come back to perform activities within the first week and month do have more business values, but with a weak correlation."
      ]
    },
    {
      "cell_type": "code",
      "metadata": {
        "id": "Xj3PFsmSvBga"
      },
      "source": [
        "# create three datasets that contains first day, week, and month user behavior, respectively\n",
        "first_day_act = train[(train['date_diff'] == 0) & ~(train['bot'])]\n",
        "first_week_act = train[(train['date_diff'] <= 7) & ~(train['bot'])]\n",
        "first_month_act = train[(train['date_diff'] <= 30) & ~(train['bot'])]"
      ],
      "execution_count": 26,
      "outputs": []
    },
    {
      "cell_type": "code",
      "metadata": {
        "id": "MXzLZupRvBga"
      },
      "source": [
        "# create three new columns to identify is this user performed activities within the first day, week, or month\n",
        "# since this user first appeared\n",
        "# first day\n",
        "first_day_user_lst = first_day_act['people_id'].unique()\n",
        "train['first_day_user'] = train['people_id'].isin(first_day_user_lst)\n",
        "\n",
        "# first week\n",
        "first_week_user_lst = first_week_act['people_id'].unique()\n",
        "train['first_week_user'] = train['people_id'].isin(first_week_user_lst)\n",
        "\n",
        "# first month\n",
        "first_month_user_lst = first_month_act['people_id'].unique()\n",
        "train['first_month_user'] = train['people_id'].isin(first_month_user_lst)"
      ],
      "execution_count": 27,
      "outputs": []
    },
    {
      "cell_type": "code",
      "metadata": {
        "scrolled": true,
        "colab": {
          "base_uri": "https://localhost:8080/"
        },
        "id": "MC0T48N7vBga",
        "outputId": "804643fc-8876-4948-c132-2d862cf8d95e"
      },
      "source": [
        "# calculate their correlation with outcome\n",
        "time_lst = ['day', 'week', 'month']\n",
        "\n",
        "for i in time_lst:\n",
        "    time_range = 'first_' + i + '_user'\n",
        "    print('Correlation of ', time_range, ' with Outcome: ', train[[time_range, 'outcome']].corr().iloc[1,0].round(4))"
      ],
      "execution_count": 28,
      "outputs": [
        {
          "output_type": "stream",
          "text": [
            "Correlation of  first_day_user  with Outcome:  -0.0313\n",
            "Correlation of  first_week_user  with Outcome:  0.0211\n",
            "Correlation of  first_month_user  with Outcome:  0.0368\n"
          ],
          "name": "stdout"
        }
      ]
    },
    {
      "cell_type": "code",
      "metadata": {
        "scrolled": true,
        "colab": {
          "base_uri": "https://localhost:8080/",
          "height": 0
        },
        "id": "VpVPd9msvBga",
        "outputId": "2e03c36e-cdd2-4d6c-d558-32f42c78f1b5"
      },
      "source": [
        "time_lst = ['Day', 'Week', 'Month']\n",
        "fig, axes = plt.subplots(1, 3, figsize=(20, 8))\n",
        "\n",
        "sns.countplot(data=train[~train['bot']], x='first_day_user', hue='outcome', ax=axes[0])\n",
        "sns.countplot(data=train[~train['bot']], x='first_week_user', hue='outcome', ax=axes[1])\n",
        "sns.countplot(data=train[~train['bot']], x='first_month_user', hue='outcome', ax=axes[2])\n",
        "\n",
        "for i in range(3):\n",
        "    axes[i].set_xlabel('First ' + time_lst[i] + ' User', fontsize=16)\n",
        "    axes[i].set_ylabel('Count', fontsize=16)\n",
        "    \n",
        "plt.suptitle('If the first day, week, or month user could have more business values', fontsize=20)\n",
        "plt.tight_layout()"
      ],
      "execution_count": 29,
      "outputs": [
        {
          "output_type": "display_data",
          "data": {
            "image/png": "[encoded data removed]",
            "text/plain": [
              "<Figure size 1440x576 with 3 Axes>"
            ]
          },
          "metadata": {
            "tags": [],
            "needs_background": "light"
          }
        }
      ]
    },
    {
      "cell_type": "markdown",
      "metadata": {
        "id": "dHggh_50vBgb"
      },
      "source": [
        "**Will frequent people(user) have more business values? Emmm, still no.**\n",
        "\n",
        "The correlation result showed that the total number of activities per person did have a positive effect, but there is only a weak correlation."
      ]
    },
    {
      "cell_type": "code",
      "metadata": {
        "colab": {
          "base_uri": "https://localhost:8080/",
          "height": 0
        },
        "id": "put-wWu_vBgb",
        "outputId": "c253d951-e0da-49fa-9b5a-146337570357"
      },
      "source": [
        "# create a new table to summarize the number of activities each people has performed in total, and their results\n",
        "activity_stats = train[~train['bot']].groupby('people_id').agg({'activity_id':'count', 'outcome':'mean'})\n",
        "activity_stats.columns = ['total_cnt_activity', 'mean_outcome']\n",
        "activity_stats.head(10)"
      ],
      "execution_count": 30,
      "outputs": [
        {
          "output_type": "execute_result",
          "data": {
            "text/html": [
              "<div>\n",
              "<style scoped>\n",
              "    .dataframe tbody tr th:only-of-type {\n",
              "        vertical-align: middle;\n",
              "    }\n",
              "\n",
              "    .dataframe tbody tr th {\n",
              "        vertical-align: top;\n",
              "    }\n",
              "\n",
              "    .dataframe thead th {\n",
              "        text-align: right;\n",
              "    }\n",
              "</style>\n",
              "<table border=\"1\" class=\"dataframe\">\n",
              "  <thead>\n",
              "    <tr style=\"text-align: right;\">\n",
              "      <th></th>\n",
              "      <th>total_cnt_activity</th>\n",
              "      <th>mean_outcome</th>\n",
              "    </tr>\n",
              "    <tr>\n",
              "      <th>people_id</th>\n",
              "      <th></th>\n",
              "      <th></th>\n",
              "    </tr>\n",
              "  </thead>\n",
              "  <tbody>\n",
              "    <tr>\n",
              "      <th>ppl_100</th>\n",
              "      <td>6</td>\n",
              "      <td>0.0</td>\n",
              "    </tr>\n",
              "    <tr>\n",
              "      <th>ppl_100002</th>\n",
              "      <td>2</td>\n",
              "      <td>1.0</td>\n",
              "    </tr>\n",
              "    <tr>\n",
              "      <th>ppl_100003</th>\n",
              "      <td>34</td>\n",
              "      <td>1.0</td>\n",
              "    </tr>\n",
              "    <tr>\n",
              "      <th>ppl_100006</th>\n",
              "      <td>3</td>\n",
              "      <td>1.0</td>\n",
              "    </tr>\n",
              "    <tr>\n",
              "      <th>ppl_100013</th>\n",
              "      <td>5</td>\n",
              "      <td>1.0</td>\n",
              "    </tr>\n",
              "    <tr>\n",
              "      <th>ppl_100019</th>\n",
              "      <td>2</td>\n",
              "      <td>1.0</td>\n",
              "    </tr>\n",
              "    <tr>\n",
              "      <th>ppl_100025</th>\n",
              "      <td>46</td>\n",
              "      <td>0.0</td>\n",
              "    </tr>\n",
              "    <tr>\n",
              "      <th>ppl_100028</th>\n",
              "      <td>3</td>\n",
              "      <td>0.0</td>\n",
              "    </tr>\n",
              "    <tr>\n",
              "      <th>ppl_100029</th>\n",
              "      <td>1</td>\n",
              "      <td>0.0</td>\n",
              "    </tr>\n",
              "    <tr>\n",
              "      <th>ppl_100032</th>\n",
              "      <td>3</td>\n",
              "      <td>0.0</td>\n",
              "    </tr>\n",
              "  </tbody>\n",
              "</table>\n",
              "</div>"
            ],
            "text/plain": [
              "            total_cnt_activity  mean_outcome\n",
              "people_id                                   \n",
              "ppl_100                      6           0.0\n",
              "ppl_100002                   2           1.0\n",
              "ppl_100003                  34           1.0\n",
              "ppl_100006                   3           1.0\n",
              "ppl_100013                   5           1.0\n",
              "ppl_100019                   2           1.0\n",
              "ppl_100025                  46           0.0\n",
              "ppl_100028                   3           0.0\n",
              "ppl_100029                   1           0.0\n",
              "ppl_100032                   3           0.0"
            ]
          },
          "metadata": {
            "tags": []
          },
          "execution_count": 30
        }
      ]
    },
    {
      "cell_type": "code",
      "metadata": {
        "colab": {
          "base_uri": "https://localhost:8080/",
          "height": 0
        },
        "id": "p982x4U6vBgb",
        "outputId": "d12a7279-b0ba-4031-f3ff-4284dbc52b07"
      },
      "source": [
        "activity_stats[['total_cnt_activity', 'mean_outcome']].corr().round(4)"
      ],
      "execution_count": 31,
      "outputs": [
        {
          "output_type": "execute_result",
          "data": {
            "text/html": [
              "<div>\n",
              "<style scoped>\n",
              "    .dataframe tbody tr th:only-of-type {\n",
              "        vertical-align: middle;\n",
              "    }\n",
              "\n",
              "    .dataframe tbody tr th {\n",
              "        vertical-align: top;\n",
              "    }\n",
              "\n",
              "    .dataframe thead th {\n",
              "        text-align: right;\n",
              "    }\n",
              "</style>\n",
              "<table border=\"1\" class=\"dataframe\">\n",
              "  <thead>\n",
              "    <tr style=\"text-align: right;\">\n",
              "      <th></th>\n",
              "      <th>total_cnt_activity</th>\n",
              "      <th>mean_outcome</th>\n",
              "    </tr>\n",
              "  </thead>\n",
              "  <tbody>\n",
              "    <tr>\n",
              "      <th>total_cnt_activity</th>\n",
              "      <td>1.0000</td>\n",
              "      <td>0.0452</td>\n",
              "    </tr>\n",
              "    <tr>\n",
              "      <th>mean_outcome</th>\n",
              "      <td>0.0452</td>\n",
              "      <td>1.0000</td>\n",
              "    </tr>\n",
              "  </tbody>\n",
              "</table>\n",
              "</div>"
            ],
            "text/plain": [
              "                    total_cnt_activity  mean_outcome\n",
              "total_cnt_activity              1.0000        0.0452\n",
              "mean_outcome                    0.0452        1.0000"
            ]
          },
          "metadata": {
            "tags": []
          },
          "execution_count": 31
        }
      ]
    },
    {
      "cell_type": "markdown",
      "metadata": {
        "id": "Dr8c24y7vBgb"
      },
      "source": [
        "**Is there a time series pattern of activities that have business values?**\n",
        "\n",
        "To answer this question, I calculated the their correlation with the outcome, but only found a weak correlation. \n",
        "\n",
        "The figures below showed that in certain months, i.e.April, May, Aug, Sep, Oct, the activities tend to have no business values. In the other months, there is no big differences. For days in a week, there is no obvious pattern. For days in a month, in certain days like 18th, 19th, 20th, 22nd, 23rd, the activities tend to have less business values.\n",
        "\n",
        "I will still include them in the following Random Forest modeling to see if those parameters is important or not."
      ]
    },
    {
      "cell_type": "code",
      "metadata": {
        "scrolled": true,
        "colab": {
          "base_uri": "https://localhost:8080/"
        },
        "id": "9RjhPty-vBgb",
        "outputId": "519350ee-38f7-4809-d716-a35c1453aad6"
      },
      "source": [
        "# transform date data into an appropriate data type\n",
        "train['month'] = train['date'].dt.month\n",
        "train['week'] = train['date'].dt.isocalendar().week\n",
        "train['day_of_week'] = train['date'].dt.dayofweek\n",
        "train['day'] = train['date'].dt.day\n",
        "\n",
        "train[['date','month', 'week', 'day', 'day_of_week','outcome']].corr()['outcome']"
      ],
      "execution_count": 32,
      "outputs": [
        {
          "output_type": "execute_result",
          "data": {
            "text/plain": [
              "month         -0.059040\n",
              "week          -0.062925\n",
              "day           -0.052264\n",
              "day_of_week    0.006306\n",
              "outcome        1.000000\n",
              "Name: outcome, dtype: float64"
            ]
          },
          "metadata": {
            "tags": []
          },
          "execution_count": 32
        }
      ]
    },
    {
      "cell_type": "code",
      "metadata": {
        "colab": {
          "base_uri": "https://localhost:8080/",
          "height": 0
        },
        "id": "1HAnoaRkvBgb",
        "outputId": "f649bcd3-df26-4845-b704-52c87e0a4432"
      },
      "source": [
        "fig, axes = plt.subplots(3, 1, figsize=(15, 15))\n",
        "\n",
        "sns.countplot(data=train, x='month', hue='outcome', ax=axes[0])\n",
        "axes[0].set(xlabel='Month', ylabel='Count')\n",
        "\n",
        "sns.countplot(data=train, x='day_of_week', hue='outcome', ax=axes[1])\n",
        "axes[1].set(xlabel='Day of a Week', ylabel='Count')\n",
        "\n",
        "sns.countplot(data=train, x='day', hue='outcome', ax=axes[2])\n",
        "axes[2].set(xlabel='Day in a Month', ylabel='Count')\n",
        "\n",
        "plt.suptitle('Time Series Patterns of Business Values')\n",
        "plt.tight_layout()"
      ],
      "execution_count": 33,
      "outputs": [
        {
          "output_type": "display_data",
          "data": {
            "image/png": "[encoded data removed]",
            "text/plain": [
              "<Figure size 1080x1080 with 3 Axes>"
            ]
          },
          "metadata": {
            "tags": [],
            "needs_background": "light"
          }
        }
      ]
    },
    {
      "cell_type": "markdown",
      "metadata": {
        "id": "2VmXwO_tvBgc"
      },
      "source": [
        "### 2.1.3 People Groups"
      ]
    },
    {
      "cell_type": "markdown",
      "metadata": {
        "id": "I6JkIPJLvBgc"
      },
      "source": [
        "All the 'people_id' in this dataset are grouped into 29,899 groups.I found that among certain groups, the total number of activities performed equals to the sum of outcomes, which means all the activity that performed by the people that belongs to this group have positive business values. On the other hand, for some groups, none of the activities in those groups have positive values. I conducted the analysis step by step in the following."
      ]
    },
    {
      "cell_type": "code",
      "metadata": {
        "colab": {
          "base_uri": "https://localhost:8080/",
          "height": 0
        },
        "id": "QkMIH07kvBgc",
        "outputId": "2f122368-7a53-4554-f5a2-f543a1f4722c"
      },
      "source": [
        "# create a summary table to summarize that, in each group, how many unique people, how many bot accounts\n",
        "# how many activities and what are the outcomes\n",
        "people_group = train.groupby('group_1_people').agg({'outcome':'sum', 'activity_id':'count',\\\n",
        "                                                    'people_id':'nunique', 'bot':'sum'})\n",
        "people_group.columns = ['sum_outcome', 'cnt_activity', 'cnt_people', 'cnt_bot']\n",
        "people_group.sort_values(by='sum_outcome', ascending=False)"
      ],
      "execution_count": 34,
      "outputs": [
        {
          "output_type": "execute_result",
          "data": {
            "text/html": [
              "<div>\n",
              "<style scoped>\n",
              "    .dataframe tbody tr th:only-of-type {\n",
              "        vertical-align: middle;\n",
              "    }\n",
              "\n",
              "    .dataframe tbody tr th {\n",
              "        vertical-align: top;\n",
              "    }\n",
              "\n",
              "    .dataframe thead th {\n",
              "        text-align: right;\n",
              "    }\n",
              "</style>\n",
              "<table border=\"1\" class=\"dataframe\">\n",
              "  <thead>\n",
              "    <tr style=\"text-align: right;\">\n",
              "      <th></th>\n",
              "      <th>sum_outcome</th>\n",
              "      <th>cnt_activity</th>\n",
              "      <th>cnt_people</th>\n",
              "      <th>cnt_bot</th>\n",
              "    </tr>\n",
              "    <tr>\n",
              "      <th>group_1_people</th>\n",
              "      <th></th>\n",
              "      <th></th>\n",
              "      <th></th>\n",
              "      <th></th>\n",
              "    </tr>\n",
              "  </thead>\n",
              "  <tbody>\n",
              "    <tr>\n",
              "      <th>group 667</th>\n",
              "      <td>15865</td>\n",
              "      <td>15865</td>\n",
              "      <td>1237</td>\n",
              "      <td>0</td>\n",
              "    </tr>\n",
              "    <tr>\n",
              "      <th>group 8386</th>\n",
              "      <td>7929</td>\n",
              "      <td>7929</td>\n",
              "      <td>819</td>\n",
              "      <td>0</td>\n",
              "    </tr>\n",
              "    <tr>\n",
              "      <th>group 20472</th>\n",
              "      <td>7052</td>\n",
              "      <td>7053</td>\n",
              "      <td>2</td>\n",
              "      <td>7052</td>\n",
              "    </tr>\n",
              "    <tr>\n",
              "      <th>group 9280</th>\n",
              "      <td>5492</td>\n",
              "      <td>5492</td>\n",
              "      <td>546</td>\n",
              "      <td>0</td>\n",
              "    </tr>\n",
              "    <tr>\n",
              "      <th>group 17899</th>\n",
              "      <td>4767</td>\n",
              "      <td>4767</td>\n",
              "      <td>339</td>\n",
              "      <td>0</td>\n",
              "    </tr>\n",
              "    <tr>\n",
              "      <th>...</th>\n",
              "      <td>...</td>\n",
              "      <td>...</td>\n",
              "      <td>...</td>\n",
              "      <td>...</td>\n",
              "    </tr>\n",
              "    <tr>\n",
              "      <th>group 29900</th>\n",
              "      <td>0</td>\n",
              "      <td>19</td>\n",
              "      <td>1</td>\n",
              "      <td>0</td>\n",
              "    </tr>\n",
              "    <tr>\n",
              "      <th>group 29911</th>\n",
              "      <td>0</td>\n",
              "      <td>3</td>\n",
              "      <td>1</td>\n",
              "      <td>0</td>\n",
              "    </tr>\n",
              "    <tr>\n",
              "      <th>group 29918</th>\n",
              "      <td>0</td>\n",
              "      <td>21</td>\n",
              "      <td>1</td>\n",
              "      <td>0</td>\n",
              "    </tr>\n",
              "    <tr>\n",
              "      <th>group 29919</th>\n",
              "      <td>0</td>\n",
              "      <td>15</td>\n",
              "      <td>1</td>\n",
              "      <td>0</td>\n",
              "    </tr>\n",
              "    <tr>\n",
              "      <th>group 9999</th>\n",
              "      <td>0</td>\n",
              "      <td>8</td>\n",
              "      <td>2</td>\n",
              "      <td>0</td>\n",
              "    </tr>\n",
              "  </tbody>\n",
              "</table>\n",
              "<p>29899 rows × 4 columns</p>\n",
              "</div>"
            ],
            "text/plain": [
              "                sum_outcome  cnt_activity  cnt_people  cnt_bot\n",
              "group_1_people                                                \n",
              "group 667             15865         15865        1237        0\n",
              "group 8386             7929          7929         819        0\n",
              "group 20472            7052          7053           2     7052\n",
              "group 9280             5492          5492         546        0\n",
              "group 17899            4767          4767         339        0\n",
              "...                     ...           ...         ...      ...\n",
              "group 29900               0            19           1        0\n",
              "group 29911               0             3           1        0\n",
              "group 29918               0            21           1        0\n",
              "group 29919               0            15           1        0\n",
              "group 9999                0             8           2        0\n",
              "\n",
              "[29899 rows x 4 columns]"
            ]
          },
          "metadata": {
            "tags": []
          },
          "execution_count": 34
        }
      ]
    },
    {
      "cell_type": "code",
      "metadata": {
        "id": "UPRNGfzkvBgc"
      },
      "source": [
        "# for groups with sum_outcome = cnt_activity, it means all the results in this group is positive\n",
        "#I mark those as positive groups\n",
        "people_group[people_group['sum_outcome'] == people_group['cnt_activity']].describe(percentiles=[0.25, 0.5, 0.75, 0.9])\n",
        "positive_groups = people_group[people_group['sum_outcome'] == people_group['cnt_activity']].index\n",
        "\n",
        "train['positive_group'] = train['group_1_people'].isin(positive_groups)"
      ],
      "execution_count": 35,
      "outputs": []
    },
    {
      "cell_type": "code",
      "metadata": {
        "id": "wbyrdKZjvBgc"
      },
      "source": [
        "# use the same method to mark negative groups \n",
        "negative_groups = people_group[people_group['sum_outcome'] == 0].index\n",
        "\n",
        "train['negative_group'] = train['group_1_people'].isin(negative_groups)"
      ],
      "execution_count": 36,
      "outputs": []
    },
    {
      "cell_type": "code",
      "metadata": {
        "colab": {
          "base_uri": "https://localhost:8080/"
        },
        "id": "xzXCPiCRvBgd",
        "outputId": "bb8fce8a-e6d1-4755-b09f-21adaa7e747b"
      },
      "source": [
        "# to test if the 'bot' column that created before is duplicate with groups\n",
        "# the result shows that in nagative groups, only 0.0098 percent of people_id in the negative_group are identified as rob\n",
        "# therefore, those two columns are not duplicated.\n",
        "train[(train['bot']) & (train['negative_group'])]['people_id'].nunique()/train[train['negative_group']]['people_id'].nunique() *100"
      ],
      "execution_count": 37,
      "outputs": [
        {
          "output_type": "execute_result",
          "data": {
            "text/plain": [
              "0.009886307464162135"
            ]
          },
          "metadata": {
            "tags": []
          },
          "execution_count": 37
        }
      ]
    },
    {
      "cell_type": "markdown",
      "metadata": {
        "id": "7npkwPjBvBgd"
      },
      "source": [
        "### 2.1.4 People Characteristics"
      ]
    },
    {
      "cell_type": "markdown",
      "metadata": {
        "id": "1rJO2HJRvBgd"
      },
      "source": [
        "People characteristics are complicated. There are 38 different kinds of characters. Among them, 10 characters are object data, and 28 of them are boolean data.\n",
        "\n",
        "I use Label Encoder to transform them into integers. I did not use One Hot Encoder because one hot encoder will created too many columns. \n",
        "\n",
        "The correlation results showed that most of the people char are correlated with the outcome. I will use them all in the random forest model to test if a feature is important."
      ]
    },
    {
      "cell_type": "code",
      "metadata": {
        "colab": {
          "base_uri": "https://localhost:8080/"
        },
        "id": "2qBdPYFUvBgd",
        "outputId": "1d493b98-60bc-4de9-e29b-4de4b949602b"
      },
      "source": [
        "cat_char_people = []\n",
        "\n",
        "for i in range(1, 10):\n",
        "    cat_char_people.append('char_' + str(i) + '_people')\n",
        "\n",
        "cat_char_people.append('char_38_people')\n",
        "\n",
        "boo_char_people = []\n",
        "\n",
        "for i in range(10, 38):\n",
        "    boo_char_people.append('char_' + str(i) + '_people')\n",
        "    \n",
        "print('car_char_people: ', cat_char_people,'\\n','\\n' ,'boo_char_people: ',boo_char_people)"
      ],
      "execution_count": 38,
      "outputs": [
        {
          "output_type": "stream",
          "text": [
            "car_char_people:  ['char_1_people', 'char_2_people', 'char_3_people', 'char_4_people', 'char_5_people', 'char_6_people', 'char_7_people', 'char_8_people', 'char_9_people', 'char_38_people'] \n",
            " \n",
            " boo_char_people:  ['char_10_people', 'char_11_people', 'char_12_people', 'char_13_people', 'char_14_people', 'char_15_people', 'char_16_people', 'char_17_people', 'char_18_people', 'char_19_people', 'char_20_people', 'char_21_people', 'char_22_people', 'char_23_people', 'char_24_people', 'char_25_people', 'char_26_people', 'char_27_people', 'char_28_people', 'char_29_people', 'char_30_people', 'char_31_people', 'char_32_people', 'char_33_people', 'char_34_people', 'char_35_people', 'char_36_people', 'char_37_people']\n"
          ],
          "name": "stdout"
        }
      ]
    },
    {
      "cell_type": "code",
      "metadata": {
        "id": "RzXMx7bNvBge"
      },
      "source": [
        "le = LabelEncoder()\n",
        "people_char = []\n",
        "\n",
        "for i in range(1, 39):\n",
        "    col = 'char_' + str(i) + '_people'\n",
        "    people_char.append(col)\n",
        "    train[col] = le.fit_transform(train[col])"
      ],
      "execution_count": 39,
      "outputs": []
    },
    {
      "cell_type": "code",
      "metadata": {
        "scrolled": true,
        "colab": {
          "base_uri": "https://localhost:8080/"
        },
        "id": "o9gnuIgKvBge",
        "outputId": "7982a3be-8411-42b5-eab2-c330e1fe7a09"
      },
      "source": [
        "train[people_char].info()"
      ],
      "execution_count": 40,
      "outputs": [
        {
          "output_type": "stream",
          "text": [
            "<class 'pandas.core.frame.DataFrame'>\n",
            "Int64Index: 2197291 entries, 0 to 2197290\n",
            "Data columns (total 38 columns):\n",
            " #   Column          Dtype\n",
            "---  ------          -----\n",
            " 0   char_1_people   int64\n",
            " 1   char_2_people   int64\n",
            " 2   char_3_people   int64\n",
            " 3   char_4_people   int64\n",
            " 4   char_5_people   int64\n",
            " 5   char_6_people   int64\n",
            " 6   char_7_people   int64\n",
            " 7   char_8_people   int64\n",
            " 8   char_9_people   int64\n",
            " 9   char_10_people  int64\n",
            " 10  char_11_people  int64\n",
            " 11  char_12_people  int64\n",
            " 12  char_13_people  int64\n",
            " 13  char_14_people  int64\n",
            " 14  char_15_people  int64\n",
            " 15  char_16_people  int64\n",
            " 16  char_17_people  int64\n",
            " 17  char_18_people  int64\n",
            " 18  char_19_people  int64\n",
            " 19  char_20_people  int64\n",
            " 20  char_21_people  int64\n",
            " 21  char_22_people  int64\n",
            " 22  char_23_people  int64\n",
            " 23  char_24_people  int64\n",
            " 24  char_25_people  int64\n",
            " 25  char_26_people  int64\n",
            " 26  char_27_people  int64\n",
            " 27  char_28_people  int64\n",
            " 28  char_29_people  int64\n",
            " 29  char_30_people  int64\n",
            " 30  char_31_people  int64\n",
            " 31  char_32_people  int64\n",
            " 32  char_33_people  int64\n",
            " 33  char_34_people  int64\n",
            " 34  char_35_people  int64\n",
            " 35  char_36_people  int64\n",
            " 36  char_37_people  int64\n",
            " 37  char_38_people  int64\n",
            "dtypes: int64(38)\n",
            "memory usage: 733.8 MB\n"
          ],
          "name": "stdout"
        }
      ]
    },
    {
      "cell_type": "code",
      "metadata": {
        "scrolled": true,
        "colab": {
          "base_uri": "https://localhost:8080/"
        },
        "id": "sBI9MAMFvBge",
        "outputId": "0e035ff5-3973-4e74-f144-467ec6155cf3"
      },
      "source": [
        "print('The correlation between people characteristics and outcome:')\n",
        "train[people_char + ['outcome']].corr()['outcome'].round(3)"
      ],
      "execution_count": 41,
      "outputs": [
        {
          "output_type": "stream",
          "text": [
            "The correlation between people characteristics and outcome:\n"
          ],
          "name": "stdout"
        },
        {
          "output_type": "execute_result",
          "data": {
            "text/plain": [
              "char_1_people    -0.160\n",
              "char_2_people     0.352\n",
              "char_3_people     0.039\n",
              "char_4_people     0.003\n",
              "char_5_people    -0.081\n",
              "char_6_people    -0.234\n",
              "char_7_people    -0.047\n",
              "char_8_people    -0.058\n",
              "char_9_people     0.041\n",
              "char_10_people    0.269\n",
              "char_11_people    0.226\n",
              "char_12_people    0.225\n",
              "char_13_people    0.322\n",
              "char_14_people    0.248\n",
              "char_15_people    0.264\n",
              "char_16_people    0.279\n",
              "char_17_people    0.287\n",
              "char_18_people    0.211\n",
              "char_19_people    0.279\n",
              "char_20_people    0.271\n",
              "char_21_people    0.279\n",
              "char_22_people    0.286\n",
              "char_23_people    0.271\n",
              "char_24_people    0.221\n",
              "char_25_people    0.289\n",
              "char_26_people    0.173\n",
              "char_27_people    0.235\n",
              "char_28_people    0.278\n",
              "char_29_people    0.188\n",
              "char_30_people    0.211\n",
              "char_31_people    0.254\n",
              "char_32_people    0.279\n",
              "char_33_people    0.213\n",
              "char_34_people    0.314\n",
              "char_35_people    0.215\n",
              "char_36_people    0.316\n",
              "char_37_people    0.289\n",
              "char_38_people    0.677\n",
              "outcome           1.000\n",
              "Name: outcome, dtype: float64"
            ]
          },
          "metadata": {
            "tags": []
          },
          "execution_count": 41
        }
      ]
    },
    {
      "cell_type": "markdown",
      "metadata": {
        "id": "AyRSpbgFvBge"
      },
      "source": [
        "## 2.2 Activity Characters"
      ]
    },
    {
      "cell_type": "markdown",
      "metadata": {
        "id": "ThSHFbQzvBge"
      },
      "source": [
        "### 2.2.1 Category"
      ]
    },
    {
      "cell_type": "markdown",
      "metadata": {
        "id": "oxAndCpbvBge"
      },
      "source": [
        "Overall, there are seven activity types. Activity type 6 and 7 have been less performed when compared with the others. After excluding the bot results, there is no evidents shows a specific type of activity can lead to a negative or positive outcome."
      ]
    },
    {
      "cell_type": "code",
      "metadata": {
        "colab": {
          "base_uri": "https://localhost:8080/"
        },
        "id": "UWDZymiyvBgf",
        "outputId": "fb29c29f-fbcc-4a2b-e9da-e60159d72d79"
      },
      "source": [
        "act_train['activity_category'].unique()"
      ],
      "execution_count": 42,
      "outputs": [
        {
          "output_type": "execute_result",
          "data": {
            "text/plain": [
              "array(['type 4', 'type 2', 'type 3', 'type 5', 'type 1', 'type 7',\n",
              "       'type 6'], dtype=object)"
            ]
          },
          "metadata": {
            "tags": []
          },
          "execution_count": 42
        }
      ]
    },
    {
      "cell_type": "code",
      "metadata": {
        "colab": {
          "base_uri": "https://localhost:8080/"
        },
        "id": "gN_l-1PhvBgf",
        "outputId": "50ff175e-0a3d-4e3b-afb8-2d36c1b6d0b0"
      },
      "source": [
        "#plot a figure here\n",
        "train['activity_category'].value_counts()"
      ],
      "execution_count": 43,
      "outputs": [
        {
          "output_type": "execute_result",
          "data": {
            "text/plain": [
              "type 2    904683\n",
              "type 5    490710\n",
              "type 3    429408\n",
              "type 4    207465\n",
              "type 1    157615\n",
              "type 6      4253\n",
              "type 7      3157\n",
              "Name: activity_category, dtype: int64"
            ]
          },
          "metadata": {
            "tags": []
          },
          "execution_count": 43
        }
      ]
    },
    {
      "cell_type": "code",
      "metadata": {
        "colab": {
          "base_uri": "https://localhost:8080/"
        },
        "id": "3IAOqjKPvBgf",
        "outputId": "2d1ec7c5-6c43-48a9-af22-72f1fef17cd3"
      },
      "source": [
        "# most of the bots performed type 3 activity\n",
        "train[train['bot']]['activity_category'].value_counts()"
      ],
      "execution_count": 44,
      "outputs": [
        {
          "output_type": "execute_result",
          "data": {
            "text/plain": [
              "type 3    196759\n",
              "type 4       466\n",
              "type 2       280\n",
              "type 5        21\n",
              "type 1         9\n",
              "type 7         1\n",
              "Name: activity_category, dtype: int64"
            ]
          },
          "metadata": {
            "tags": []
          },
          "execution_count": 44
        }
      ]
    },
    {
      "cell_type": "code",
      "metadata": {
        "colab": {
          "base_uri": "https://localhost:8080/",
          "height": 0
        },
        "id": "kvZ7a_Z0vBgf",
        "outputId": "d3891a61-a440-400c-d53e-6c51b7a2bec6"
      },
      "source": [
        "fig, axes = plt.subplots()\n",
        "sns.countplot(data=train[~train['bot']], x='outcome', hue='activity_category')\n",
        "\n",
        "plt.legend(loc='upper right', bbox_to_anchor=(1.3, 0.8))"
      ],
      "execution_count": 45,
      "outputs": [
        {
          "output_type": "execute_result",
          "data": {
            "text/plain": [
              "<matplotlib.legend.Legend at 0x7f5ffa84aa50>"
            ]
          },
          "metadata": {
            "tags": []
          },
          "execution_count": 45
        },
        {
          "output_type": "display_data",
          "data": {
            "image/png": "[encoded data removed]",
            "text/plain": [
              "<Figure size 432x288 with 1 Axes>"
            ]
          },
          "metadata": {
            "tags": [],
            "needs_background": "light"
          }
        }
      ]
    },
    {
      "cell_type": "markdown",
      "metadata": {
        "id": "S4bR4tkyvBgf"
      },
      "source": [
        "### 2.2.2 Activity Characters"
      ]
    },
    {
      "cell_type": "markdown",
      "metadata": {
        "id": "reEYRFZivBgg"
      },
      "source": [
        "There are 6515 types of char_10_act. It can be inferred that char_10_act is an ensemble char, which contains information with multiple contexts.\n",
        "\n",
        "It is found that 'type 1' activity does not have 'char_10_act'. For the other types of activities, they don't have chars 1-9. \n",
        "\n",
        "All features of activity characters are object data type so far."
      ]
    },
    {
      "cell_type": "code",
      "metadata": {
        "colab": {
          "base_uri": "https://localhost:8080/"
        },
        "id": "f8Bsu1LuvBgg",
        "outputId": "13c22d3d-5661-4a5a-f8fd-57c26e55c43e"
      },
      "source": [
        "# I did not see any clear association between a act_char and the outcome\n",
        "# I will impute the data, label the missing values, \n",
        "# and calculate the correlations\n",
        "for i in range(1, 11):\n",
        "    char = 'char_' + str(i) + '_act'\n",
        "    temp = train[train['activity_category'] == 'type 1'].groupby(char).\\\n",
        "    agg({'outcome':'sum', 'activity_id':'count'})\n",
        "    temp.columns = ['sum_outcome', 'cnt_activity']\n",
        "    print(temp)"
      ],
      "execution_count": 46,
      "outputs": [
        {
          "output_type": "stream",
          "text": [
            "            sum_outcome  cnt_activity\n",
            "char_1_act                           \n",
            "type 1             5297         14938\n",
            "type 10            2849          7795\n",
            "type 11             759          2333\n",
            "type 12            6204         14917\n",
            "type 13             554          1586\n",
            "type 14             454           990\n",
            "type 15             328          1284\n",
            "type 16             429          1229\n",
            "type 17             539          1778\n",
            "type 18              14            57\n",
            "type 19             221           491\n",
            "type 2            17422         38030\n",
            "type 20             174           434\n",
            "type 21               0             5\n",
            "type 22              29           211\n",
            "type 23            1294          2420\n",
            "type 24             186           641\n",
            "type 25             256           694\n",
            "type 26             825          2220\n",
            "type 27             118           199\n",
            "type 28             200           706\n",
            "type 29             940          1233\n",
            "type 3             5607         12372\n",
            "type 30             232           653\n",
            "type 31               5            54\n",
            "type 32              93           146\n",
            "type 33              20            60\n",
            "type 34              28            66\n",
            "type 35              17           180\n",
            "type 36             166           397\n",
            "type 37               3            10\n",
            "type 38               7            12\n",
            "type 39              29            63\n",
            "type 4              470          1329\n",
            "type 40             114           214\n",
            "type 41              96           278\n",
            "type 42               2             4\n",
            "type 43               4            11\n",
            "type 44               0             8\n",
            "type 45               0             1\n",
            "type 46               2             6\n",
            "type 47               0             2\n",
            "type 48               0             3\n",
            "type 49               1             6\n",
            "type 5            14402         34509\n",
            "type 50               2             5\n",
            "type 52               2             3\n",
            "type 6             1080          2385\n",
            "type 7             2204          7312\n",
            "type 8              655          2110\n",
            "type 9              498          1225\n",
            "            sum_outcome  cnt_activity\n",
            "char_2_act                           \n",
            "type 1             7524         21616\n",
            "type 10            3395          6932\n",
            "type 11             103           234\n",
            "type 12             748          3239\n",
            "type 13             632          1851\n",
            "type 14            1214          2807\n",
            "type 15             219           797\n",
            "type 16            2771          7551\n",
            "type 17             380          1059\n",
            "type 18             291           583\n",
            "type 19             814          1311\n",
            "type 2            21111         50524\n",
            "type 20              63           326\n",
            "type 21              16            52\n",
            "type 22              44           112\n",
            "type 23              17            73\n",
            "type 24              47            77\n",
            "type 25              64            95\n",
            "type 26              96           272\n",
            "type 27              12            35\n",
            "type 28              10            17\n",
            "type 29              47           161\n",
            "type 3             3549          9810\n",
            "type 30               4             7\n",
            "type 31               4             7\n",
            "type 32               0             4\n",
            "type 4              490           781\n",
            "type 5            15233         31794\n",
            "type 6             2190          5293\n",
            "type 7              752          2311\n",
            "type 8             2143          5306\n",
            "type 9              848          2578\n",
            "            sum_outcome  cnt_activity\n",
            "char_3_act                           \n",
            "type 1            14980         38224\n",
            "type 10               7            31\n",
            "type 11               2             5\n",
            "type 2             2489          6577\n",
            "type 3             7837         19637\n",
            "type 4             8295         20466\n",
            "type 5            16327         35488\n",
            "type 6             8054         19631\n",
            "type 7             3252          9755\n",
            "type 8             3047          6473\n",
            "type 9              541          1328\n",
            "            sum_outcome  cnt_activity\n",
            "char_4_act                           \n",
            "type 1            10567         27979\n",
            "type 2             3775          9316\n",
            "type 3            41524         98131\n",
            "type 4             6607         13730\n",
            "type 5             1509          5520\n",
            "type 6              846          2929\n",
            "type 7                3            10\n",
            "            sum_outcome  cnt_activity\n",
            "char_5_act                           \n",
            "type 1            21674         49214\n",
            "type 2             7876         26982\n",
            "type 3             2762          6013\n",
            "type 4              694          1995\n",
            "type 5             2061          5421\n",
            "type 6            29764         67989\n",
            "type 7                0             1\n",
            "            sum_outcome  cnt_activity\n",
            "char_6_act                           \n",
            "type 1            21140         48658\n",
            "type 2            22687         61026\n",
            "type 3            20304         46124\n",
            "type 4              536          1241\n",
            "type 5              164           566\n",
            "            sum_outcome  cnt_activity\n",
            "char_7_act                           \n",
            "type 1            22445         52548\n",
            "type 2            13449         32199\n",
            "type 3            16179         42968\n",
            "type 4             3825          8751\n",
            "type 5             3290          8104\n",
            "type 6             4527         10604\n",
            "type 7              826          1934\n",
            "type 8              290           507\n",
            "            sum_outcome  cnt_activity\n",
            "char_8_act                           \n",
            "type 1             4067         11621\n",
            "type 10            1251          3897\n",
            "type 11            1096          3099\n",
            "type 12             735          1471\n",
            "type 13            1298          2390\n",
            "type 14             636          2337\n",
            "type 15             778          1511\n",
            "type 16             224           893\n",
            "type 17              43           237\n",
            "type 18             111           147\n",
            "type 2             1757          4131\n",
            "type 3             1584          4909\n",
            "type 4            32214         77460\n",
            "type 5             5479         12396\n",
            "type 6             5017         10322\n",
            "type 7             2696          7737\n",
            "type 8             2835          6657\n",
            "type 9             3010          6400\n",
            "            sum_outcome  cnt_activity\n",
            "char_9_act                           \n",
            "type 1             9467         24765\n",
            "type 10            2450          6878\n",
            "type 11             100           455\n",
            "type 12            2947          6833\n",
            "type 13            2310          4622\n",
            "type 14             846          2545\n",
            "type 15            2235          6770\n",
            "type 16            2328          5037\n",
            "type 17            3031          7827\n",
            "type 18             500          1341\n",
            "type 19             124           267\n",
            "type 2             4742         13488\n",
            "type 3             2580          5958\n",
            "type 4             2775          8325\n",
            "type 5             4689         11021\n",
            "type 6             5313         12824\n",
            "type 7             2677          6031\n",
            "type 8            15233         31794\n",
            "type 9              484           834\n",
            "Empty DataFrame\n",
            "Columns: [sum_outcome, cnt_activity]\n",
            "Index: []\n"
          ],
          "name": "stdout"
        }
      ]
    },
    {
      "cell_type": "code",
      "metadata": {
        "id": "KMt05XwMvBgg"
      },
      "source": [
        "# impute the data from each char\n",
        "char_act = []\n",
        "char_act_new = []\n",
        "\n",
        "for i in range(1, 11):\n",
        "    char = har = 'char_' + str(i) + '_act'\n",
        "    train[char + '_new'] = train[char].str.split().str[1]\n",
        "    char_act.append(char)\n",
        "    char_act_new.append(char + '_new')"
      ],
      "execution_count": 47,
      "outputs": []
    },
    {
      "cell_type": "code",
      "metadata": {
        "id": "BlOqtyDlvBgg"
      },
      "source": [
        "# fill NA value with 0\n",
        "train[char_act_new] = train[char_act_new].fillna(0, axis=1).astype('int64')"
      ],
      "execution_count": 48,
      "outputs": []
    },
    {
      "cell_type": "code",
      "metadata": {
        "colab": {
          "base_uri": "https://localhost:8080/"
        },
        "id": "Qu7kPcQ-vBgg",
        "outputId": "06960cae-080f-4f73-e99e-6df2d8a5f69f"
      },
      "source": [
        "print('The correlation between activity characteristics and outcome:')\n",
        "train[char_act_new + ['outcome']].corr()['outcome'].round(3)"
      ],
      "execution_count": 49,
      "outputs": [
        {
          "output_type": "stream",
          "text": [
            "The correlation between activity characteristics and outcome:\n"
          ],
          "name": "stdout"
        },
        {
          "output_type": "execute_result",
          "data": {
            "text/plain": [
              "char_1_act_new    -0.015\n",
              "char_2_act_new    -0.013\n",
              "char_3_act_new    -0.013\n",
              "char_4_act_new    -0.017\n",
              "char_5_act_new    -0.011\n",
              "char_6_act_new    -0.017\n",
              "char_7_act_new    -0.016\n",
              "char_8_act_new    -0.014\n",
              "char_9_act_new    -0.012\n",
              "char_10_act_new    0.028\n",
              "outcome            1.000\n",
              "Name: outcome, dtype: float64"
            ]
          },
          "metadata": {
            "tags": []
          },
          "execution_count": 49
        }
      ]
    },
    {
      "cell_type": "markdown",
      "metadata": {
        "id": "7g1s14GdvBgg"
      },
      "source": [
        "# 3. Feature Engineering"
      ]
    },
    {
      "cell_type": "markdown",
      "metadata": {
        "id": "fo3L_dIRvBgg"
      },
      "source": [
        "Through the exploratory analysis. I have created new features,encode categorical features and filled missing values. In this section, I will deal with outliers, encode left categorical features,and use same methods to process the 'test' dataset."
      ]
    },
    {
      "cell_type": "code",
      "metadata": {
        "id": "SkAk0wwSvBgh"
      },
      "source": [
        "train['activity_category_new'] = train['activity_category'].str.split().str[1]\n",
        "train['group_1_people_new'] = train['group_1_people'].str.split().str[1]"
      ],
      "execution_count": 50,
      "outputs": []
    },
    {
      "cell_type": "code",
      "metadata": {
        "id": "3-yXfEYwvBgh"
      },
      "source": [
        "drop_features = ['people_id', 'activity_id', 'date', 'date_people', 'activity_category', 'group_1_people'] + char_act \n",
        "final_train = train.drop(drop_features, axis=1)"
      ],
      "execution_count": 51,
      "outputs": []
    },
    {
      "cell_type": "markdown",
      "metadata": {
        "id": "PqBmuqTGvBgh"
      },
      "source": [
        "## Preprocessing Test Data"
      ]
    },
    {
      "cell_type": "code",
      "metadata": {
        "id": "iHR3iJvivBgh"
      },
      "source": [
        "# import dataset\n",
        "act_test = pd.read_csv('https://media.githubusercontent.com/media/tkkkkkz/Data_Science_Projects/main/Predicting%20Red%20Hat%20Business%20Value/Data/act_test.csv')"
      ],
      "execution_count": 52,
      "outputs": []
    },
    {
      "cell_type": "code",
      "metadata": {
        "colab": {
          "base_uri": "https://localhost:8080/"
        },
        "id": "IcSar-jtvBgh",
        "outputId": "1c67bea7-2e29-48dd-ea2e-580c2e489b77"
      },
      "source": [
        "act_test.info()"
      ],
      "execution_count": 53,
      "outputs": [
        {
          "output_type": "stream",
          "text": [
            "<class 'pandas.core.frame.DataFrame'>\n",
            "RangeIndex: 498687 entries, 0 to 498686\n",
            "Data columns (total 14 columns):\n",
            " #   Column             Non-Null Count   Dtype \n",
            "---  ------             --------------   ----- \n",
            " 0   people_id          498687 non-null  object\n",
            " 1   activity_id        498687 non-null  object\n",
            " 2   date               498687 non-null  object\n",
            " 3   activity_category  498687 non-null  object\n",
            " 4   char_1             40092 non-null   object\n",
            " 5   char_2             40092 non-null   object\n",
            " 6   char_3             40092 non-null   object\n",
            " 7   char_4             40092 non-null   object\n",
            " 8   char_5             40092 non-null   object\n",
            " 9   char_6             40092 non-null   object\n",
            " 10  char_7             40092 non-null   object\n",
            " 11  char_8             40092 non-null   object\n",
            " 12  char_9             40092 non-null   object\n",
            " 13  char_10            458595 non-null  object\n",
            "dtypes: object(14)\n",
            "memory usage: 53.3+ MB\n"
          ],
          "name": "stdout"
        }
      ]
    },
    {
      "cell_type": "code",
      "metadata": {
        "id": "fK-NIHG0vBgh"
      },
      "source": [
        "# mark columns in the test dataset to avoid duplicate feature names after merging with people\n",
        "test_new_columns = []\n",
        "\n",
        "for column in act_test.columns:\n",
        "    if 'char' in column:\n",
        "        column += '_act'\n",
        "    test_new_columns.append(column)\n",
        "\n",
        "act_test.columns = test_new_columns"
      ],
      "execution_count": 54,
      "outputs": []
    },
    {
      "cell_type": "code",
      "metadata": {
        "id": "GVYx4JdcvBgh"
      },
      "source": [
        "test = pd.merge(act_test, people, how='left',on='people_id')\n",
        "\n",
        "# transform data types of 'date'\n",
        "test['date'] = pd.to_datetime(test['date'])\n",
        "test['date_people'] = pd.to_datetime(test['date_people'])\n",
        "\n",
        "# create a new feature, date_diff\n",
        "test['date_diff'] = test['date'] - test['date_people']\n",
        "test['date_diff'] = test['date_diff']/np.timedelta64 (1, 'D')\n",
        "\n",
        "# create new features that related with date\n",
        "test['month'] = test['date'].dt.month\n",
        "test['week'] = test['date'].dt.isocalendar().week\n",
        "test['day_of_week'] = test['date'].dt.dayofweek\n",
        "test['day'] = test['date'].dt.day"
      ],
      "execution_count": 55,
      "outputs": []
    },
    {
      "cell_type": "code",
      "metadata": {
        "id": "gSGxhgQyvBgi"
      },
      "source": [
        "# create a frequency table to identify bots in the test dataset\n",
        "freq_test = test.groupby(['people_id', 'date_diff'])['activity_id'].agg(['count'])\n",
        "bot_id_test = freq_test[freq_test['count']>200].index.get_level_values(0).unique()\n",
        "bot_id_test = pd.Series(bot_id_test)\n",
        "\n",
        "test['bot'] = test['people_id'].isin(bot_id_test)"
      ],
      "execution_count": 56,
      "outputs": []
    },
    {
      "cell_type": "code",
      "metadata": {
        "id": "kY6Q1K4BvBgi"
      },
      "source": [
        "# create three features to mark if the user has used the product within the first day, week, or month\n",
        "first_day_act_test = test[(test['date_diff'] <= 1) & ~(test['bot'])]\n",
        "first_day_user_lst_test = first_day_act_test['people_id'].unique()\n",
        "test['first_day_user'] = test['people_id'].isin(first_day_user_lst_test)\n",
        "\n",
        "\n",
        "first_week_act_test = test[(test['date_diff'] <= 7) & ~(test['bot'])]\n",
        "first_week_user_lst_test = first_week_act_test['people_id'].unique()\n",
        "test['first_week_user'] = test['people_id'].isin(first_week_user_lst_test)\n",
        "\n",
        "\n",
        "first_month_act_test = test[(test['date_diff'] <= 30) & ~(test['bot'])]\n",
        "first_month_user_lst_test = first_month_act_test['people_id'].unique()\n",
        "test['first_month_user'] = test['people_id'].isin(first_month_user_lst_test)"
      ],
      "execution_count": 57,
      "outputs": []
    },
    {
      "cell_type": "code",
      "metadata": {
        "id": "lfL6604WvBgi"
      },
      "source": [
        "char_act_test = []\n",
        "char_act_new_test = []\n",
        "\n",
        "for i in range(1, 11):\n",
        "    char = 'char_' + str(i) + '_act'\n",
        "    test[char + '_new'] = test[char].str.split().str[1]\n",
        "    char_act_test.append(char)\n",
        "    char_act_new_test.append(char + '_new')\n",
        "    \n",
        "test[char_act_new_test] = test[char_act_new_test].fillna(0, axis=1).astype('int64')\n",
        "\n",
        "# create new features\n",
        "test['positive_group'] = test['group_1_people'].isin(positive_groups)\n",
        "test['negative_group'] = test['group_1_people'].isin(negative_groups)"
      ],
      "execution_count": 58,
      "outputs": []
    },
    {
      "cell_type": "code",
      "metadata": {
        "id": "eUdo_G5fvBgi"
      },
      "source": [
        "le = LabelEncoder()\n",
        "people_char_test = []\n",
        "\n",
        "for i in range(1, 39):\n",
        "    col = 'char_' + str(i) + '_people'\n",
        "    people_char_test.append(col)\n",
        "    test[col] = le.fit_transform(test[col])"
      ],
      "execution_count": 59,
      "outputs": []
    },
    {
      "cell_type": "code",
      "metadata": {
        "id": "3JxFQ8jsvBgi"
      },
      "source": [
        "test['activity_category_new'] = test['activity_category'].str.split().str[1]\n",
        "test['group_1_people_new'] = test['group_1_people'].str.split().str[1]"
      ],
      "execution_count": 60,
      "outputs": []
    },
    {
      "cell_type": "markdown",
      "metadata": {
        "id": "6x9pXOw0vBgi"
      },
      "source": [
        "# 4. Model Training"
      ]
    },
    {
      "cell_type": "markdown",
      "metadata": {
        "id": "XZteIjuBvBgi"
      },
      "source": [
        "I will start with a simple random forest model. The model can help to determine: \n",
        "\n",
        "* if a random forest model can be useful in this model building\n",
        "* which features are more important, which are less important that can be delete from the model\n",
        "\n",
        "After a first model training, I will adjust the train dataset based on random forest results. Next, I will use a GridSearchCV to build a better and more robust model. "
      ]
    },
    {
      "cell_type": "markdown",
      "metadata": {
        "id": "sQtiTPKjvBgj"
      },
      "source": [
        "### 4.1 Feature Importances"
      ]
    },
    {
      "cell_type": "code",
      "metadata": {
        "id": "s-44CETyvBgj"
      },
      "source": [
        "x = final_train.drop('outcome', axis=1)\n",
        "y= final_train['outcome']\n",
        "\n",
        "x_train, x_test, y_train, y_test = train_test_split(x, y, test_size=0.3, random_state=101)"
      ],
      "execution_count": 61,
      "outputs": []
    },
    {
      "cell_type": "code",
      "metadata": {
        "colab": {
          "base_uri": "https://localhost:8080/"
        },
        "id": "2VkpSu4TvBgj",
        "outputId": "4654b6b9-ad33-4305-ceaa-ae81482cacaf"
      },
      "source": [
        "# build a model and fit the model\n",
        "rf = RandomForestClassifier()\n",
        "rf.fit(x_train, y_train)\n",
        "\n",
        "y_pred = rf.predict(x_test)\n",
        "print('The auc score is: ', roc_auc_score(y_test, y_pred).round(4))"
      ],
      "execution_count": 62,
      "outputs": [
        {
          "output_type": "stream",
          "text": [
            "The auc score is:  0.9967\n"
          ],
          "name": "stdout"
        }
      ]
    },
    {
      "cell_type": "code",
      "metadata": {
        "colab": {
          "base_uri": "https://localhost:8080/",
          "height": 833
        },
        "id": "DTqrLx1rvBgj",
        "outputId": "f5fc7cb6-08a3-4cba-d01a-41441647c3e9"
      },
      "source": [
        "# Less important features, they will be excluded from the further model building\n",
        "features_importance = pd.concat([pd.Series(x_train.columns), pd.Series(rf.feature_importances_)], axis=1).sort_values(by=1, ascending=False)\n",
        "features_importance.tail(25)"
      ],
      "execution_count": 63,
      "outputs": [
        {
          "output_type": "execute_result",
          "data": {
            "text/html": [
              "<div>\n",
              "<style scoped>\n",
              "    .dataframe tbody tr th:only-of-type {\n",
              "        vertical-align: middle;\n",
              "    }\n",
              "\n",
              "    .dataframe tbody tr th {\n",
              "        vertical-align: top;\n",
              "    }\n",
              "\n",
              "    .dataframe thead th {\n",
              "        text-align: right;\n",
              "    }\n",
              "</style>\n",
              "<table border=\"1\" class=\"dataframe\">\n",
              "  <thead>\n",
              "    <tr style=\"text-align: right;\">\n",
              "      <th></th>\n",
              "      <th>0</th>\n",
              "      <th>1</th>\n",
              "    </tr>\n",
              "  </thead>\n",
              "  <tbody>\n",
              "    <tr>\n",
              "      <th>13</th>\n",
              "      <td>char_14_people</td>\n",
              "      <td>0.001808</td>\n",
              "    </tr>\n",
              "    <tr>\n",
              "      <th>42</th>\n",
              "      <td>first_month_user</td>\n",
              "      <td>0.001757</td>\n",
              "    </tr>\n",
              "    <tr>\n",
              "      <th>15</th>\n",
              "      <td>char_16_people</td>\n",
              "      <td>0.001742</td>\n",
              "    </tr>\n",
              "    <tr>\n",
              "      <th>14</th>\n",
              "      <td>char_15_people</td>\n",
              "      <td>0.001648</td>\n",
              "    </tr>\n",
              "    <tr>\n",
              "      <th>41</th>\n",
              "      <td>first_week_user</td>\n",
              "      <td>0.001608</td>\n",
              "    </tr>\n",
              "    <tr>\n",
              "      <th>11</th>\n",
              "      <td>char_12_people</td>\n",
              "      <td>0.001604</td>\n",
              "    </tr>\n",
              "    <tr>\n",
              "      <th>34</th>\n",
              "      <td>char_35_people</td>\n",
              "      <td>0.001600</td>\n",
              "    </tr>\n",
              "    <tr>\n",
              "      <th>26</th>\n",
              "      <td>char_27_people</td>\n",
              "      <td>0.001508</td>\n",
              "    </tr>\n",
              "    <tr>\n",
              "      <th>10</th>\n",
              "      <td>char_11_people</td>\n",
              "      <td>0.001504</td>\n",
              "    </tr>\n",
              "    <tr>\n",
              "      <th>23</th>\n",
              "      <td>char_24_people</td>\n",
              "      <td>0.001443</td>\n",
              "    </tr>\n",
              "    <tr>\n",
              "      <th>40</th>\n",
              "      <td>first_day_user</td>\n",
              "      <td>0.001428</td>\n",
              "    </tr>\n",
              "    <tr>\n",
              "      <th>17</th>\n",
              "      <td>char_18_people</td>\n",
              "      <td>0.001067</td>\n",
              "    </tr>\n",
              "    <tr>\n",
              "      <th>28</th>\n",
              "      <td>char_29_people</td>\n",
              "      <td>0.000976</td>\n",
              "    </tr>\n",
              "    <tr>\n",
              "      <th>32</th>\n",
              "      <td>char_33_people</td>\n",
              "      <td>0.000974</td>\n",
              "    </tr>\n",
              "    <tr>\n",
              "      <th>25</th>\n",
              "      <td>char_26_people</td>\n",
              "      <td>0.000956</td>\n",
              "    </tr>\n",
              "    <tr>\n",
              "      <th>29</th>\n",
              "      <td>char_30_people</td>\n",
              "      <td>0.000945</td>\n",
              "    </tr>\n",
              "    <tr>\n",
              "      <th>57</th>\n",
              "      <td>char_9_act_new</td>\n",
              "      <td>0.000405</td>\n",
              "    </tr>\n",
              "    <tr>\n",
              "      <th>49</th>\n",
              "      <td>char_1_act_new</td>\n",
              "      <td>0.000388</td>\n",
              "    </tr>\n",
              "    <tr>\n",
              "      <th>50</th>\n",
              "      <td>char_2_act_new</td>\n",
              "      <td>0.000363</td>\n",
              "    </tr>\n",
              "    <tr>\n",
              "      <th>51</th>\n",
              "      <td>char_3_act_new</td>\n",
              "      <td>0.000358</td>\n",
              "    </tr>\n",
              "    <tr>\n",
              "      <th>55</th>\n",
              "      <td>char_7_act_new</td>\n",
              "      <td>0.000345</td>\n",
              "    </tr>\n",
              "    <tr>\n",
              "      <th>56</th>\n",
              "      <td>char_8_act_new</td>\n",
              "      <td>0.000328</td>\n",
              "    </tr>\n",
              "    <tr>\n",
              "      <th>53</th>\n",
              "      <td>char_5_act_new</td>\n",
              "      <td>0.000287</td>\n",
              "    </tr>\n",
              "    <tr>\n",
              "      <th>54</th>\n",
              "      <td>char_6_act_new</td>\n",
              "      <td>0.000278</td>\n",
              "    </tr>\n",
              "    <tr>\n",
              "      <th>52</th>\n",
              "      <td>char_4_act_new</td>\n",
              "      <td>0.000257</td>\n",
              "    </tr>\n",
              "  </tbody>\n",
              "</table>\n",
              "</div>"
            ],
            "text/plain": [
              "                   0         1\n",
              "13    char_14_people  0.001808\n",
              "42  first_month_user  0.001757\n",
              "15    char_16_people  0.001742\n",
              "14    char_15_people  0.001648\n",
              "41   first_week_user  0.001608\n",
              "11    char_12_people  0.001604\n",
              "34    char_35_people  0.001600\n",
              "26    char_27_people  0.001508\n",
              "10    char_11_people  0.001504\n",
              "23    char_24_people  0.001443\n",
              "40    first_day_user  0.001428\n",
              "17    char_18_people  0.001067\n",
              "28    char_29_people  0.000976\n",
              "32    char_33_people  0.000974\n",
              "25    char_26_people  0.000956\n",
              "29    char_30_people  0.000945\n",
              "57    char_9_act_new  0.000405\n",
              "49    char_1_act_new  0.000388\n",
              "50    char_2_act_new  0.000363\n",
              "51    char_3_act_new  0.000358\n",
              "55    char_7_act_new  0.000345\n",
              "56    char_8_act_new  0.000328\n",
              "53    char_5_act_new  0.000287\n",
              "54    char_6_act_new  0.000278\n",
              "52    char_4_act_new  0.000257"
            ]
          },
          "metadata": {
            "tags": []
          },
          "execution_count": 63
        }
      ]
    },
    {
      "cell_type": "markdown",
      "metadata": {
        "id": "DBQN4sjvvBgj"
      },
      "source": [
        "### 4.2 Random Forest"
      ]
    },
    {
      "cell_type": "markdown",
      "metadata": {
        "id": "jWQ_jOdRvBgj"
      },
      "source": [
        "After exclude 25 less important features, I will use remained features to build a second random forest model."
      ]
    },
    {
      "cell_type": "code",
      "metadata": {
        "id": "ZNHvsdY-vBgj"
      },
      "source": [
        "# based on the previous feature importances, I dropped the last 25 less importance features\n",
        "drop_features_2 = np.array(features_importance.tail(25).iloc[:,0])\n",
        "final_train_2 = final_train.drop(drop_features_2, axis=1)"
      ],
      "execution_count": 64,
      "outputs": []
    },
    {
      "cell_type": "code",
      "metadata": {
        "id": "iVbyG6-GvBgj"
      },
      "source": [
        "x = final_train_2.drop('outcome', axis=1)\n",
        "y = final_train_2['outcome']\n",
        "x_train, x_test, y_train, y_test = train_test_split(x, y, test_size=0.33, random_state=42)"
      ],
      "execution_count": 65,
      "outputs": []
    },
    {
      "cell_type": "markdown",
      "metadata": {
        "id": "Oy65pL9ovBgk"
      },
      "source": [
        "**Note: since there are more than 2 million entries in this dataset, to avoid taking too much computational costs, I only tune two hyperparameters and test only two options for each parameters.Furthermore, I only used a 3-fold cross validation. **"
      ]
    },
    {
      "cell_type": "code",
      "metadata": {
        "id": "PX2hq6JevBgk"
      },
      "source": [
        "n_estimators = [20, 50]\n",
        "min_samples_split = [2, 10]\n",
        "param_grid = {'n_estimators': n_estimators, 'min_samples_split': min_samples_split}\n",
        "\n",
        "rf_2 = RandomForestClassifier()\n",
        "grid_model = GridSearchCV(rf_2, param_grid, cv=3)"
      ],
      "execution_count": 66,
      "outputs": []
    },
    {
      "cell_type": "code",
      "metadata": {
        "colab": {
          "base_uri": "https://localhost:8080/"
        },
        "id": "vYuqqS_tvBgk",
        "outputId": "c5d5404a-4f4f-4983-f795-9c04245c69a6"
      },
      "source": [
        "grid_model.fit(x_train, y_train)\n",
        "\n",
        "y_pred_2 = grid_model.predict(x_test)\n",
        "print('The auc score is: ', roc_auc_score(y_test, y_pred_2))"
      ],
      "execution_count": 67,
      "outputs": [
        {
          "output_type": "stream",
          "text": [
            "The auc score is:  0.9968153856380598\n"
          ],
          "name": "stdout"
        }
      ]
    },
    {
      "cell_type": "code",
      "metadata": {
        "colab": {
          "base_uri": "https://localhost:8080/",
          "height": 1000
        },
        "id": "Vn3ezhxjvBgk",
        "outputId": "4dfdc6f7-2211-45f4-a3b7-8f9c756b5ddb"
      },
      "source": [
        "# feature importances\n",
        "pd.concat([pd.Series(x_train.columns), pd.Series(grid_model.best_estimator_.feature_importances_)], axis=1).sort_values(by=1,ascending=False)"
      ],
      "execution_count": 72,
      "outputs": [
        {
          "output_type": "execute_result",
          "data": {
            "text/html": [
              "<div>\n",
              "<style scoped>\n",
              "    .dataframe tbody tr th:only-of-type {\n",
              "        vertical-align: middle;\n",
              "    }\n",
              "\n",
              "    .dataframe tbody tr th {\n",
              "        vertical-align: top;\n",
              "    }\n",
              "\n",
              "    .dataframe thead th {\n",
              "        text-align: right;\n",
              "    }\n",
              "</style>\n",
              "<table border=\"1\" class=\"dataframe\">\n",
              "  <thead>\n",
              "    <tr style=\"text-align: right;\">\n",
              "      <th></th>\n",
              "      <th>0</th>\n",
              "      <th>1</th>\n",
              "    </tr>\n",
              "  </thead>\n",
              "  <tbody>\n",
              "    <tr>\n",
              "      <th>32</th>\n",
              "      <td>negative_group</td>\n",
              "      <td>0.273723</td>\n",
              "    </tr>\n",
              "    <tr>\n",
              "      <th>31</th>\n",
              "      <td>positive_group</td>\n",
              "      <td>0.258632</td>\n",
              "    </tr>\n",
              "    <tr>\n",
              "      <th>24</th>\n",
              "      <td>char_38_people</td>\n",
              "      <td>0.150874</td>\n",
              "    </tr>\n",
              "    <tr>\n",
              "      <th>35</th>\n",
              "      <td>group_1_people_new</td>\n",
              "      <td>0.067951</td>\n",
              "    </tr>\n",
              "    <tr>\n",
              "      <th>1</th>\n",
              "      <td>char_2_people</td>\n",
              "      <td>0.060417</td>\n",
              "    </tr>\n",
              "    <tr>\n",
              "      <th>25</th>\n",
              "      <td>date_diff</td>\n",
              "      <td>0.020090</td>\n",
              "    </tr>\n",
              "    <tr>\n",
              "      <th>7</th>\n",
              "      <td>char_8_people</td>\n",
              "      <td>0.019459</td>\n",
              "    </tr>\n",
              "    <tr>\n",
              "      <th>6</th>\n",
              "      <td>char_7_people</td>\n",
              "      <td>0.013708</td>\n",
              "    </tr>\n",
              "    <tr>\n",
              "      <th>28</th>\n",
              "      <td>week</td>\n",
              "      <td>0.013040</td>\n",
              "    </tr>\n",
              "    <tr>\n",
              "      <th>27</th>\n",
              "      <td>month</td>\n",
              "      <td>0.010214</td>\n",
              "    </tr>\n",
              "    <tr>\n",
              "      <th>2</th>\n",
              "      <td>char_3_people</td>\n",
              "      <td>0.009849</td>\n",
              "    </tr>\n",
              "    <tr>\n",
              "      <th>22</th>\n",
              "      <td>char_36_people</td>\n",
              "      <td>0.009618</td>\n",
              "    </tr>\n",
              "    <tr>\n",
              "      <th>3</th>\n",
              "      <td>char_4_people</td>\n",
              "      <td>0.008158</td>\n",
              "    </tr>\n",
              "    <tr>\n",
              "      <th>4</th>\n",
              "      <td>char_5_people</td>\n",
              "      <td>0.007607</td>\n",
              "    </tr>\n",
              "    <tr>\n",
              "      <th>5</th>\n",
              "      <td>char_6_people</td>\n",
              "      <td>0.007499</td>\n",
              "    </tr>\n",
              "    <tr>\n",
              "      <th>30</th>\n",
              "      <td>day</td>\n",
              "      <td>0.007084</td>\n",
              "    </tr>\n",
              "    <tr>\n",
              "      <th>8</th>\n",
              "      <td>char_9_people</td>\n",
              "      <td>0.006568</td>\n",
              "    </tr>\n",
              "    <tr>\n",
              "      <th>26</th>\n",
              "      <td>bot</td>\n",
              "      <td>0.006135</td>\n",
              "    </tr>\n",
              "    <tr>\n",
              "      <th>33</th>\n",
              "      <td>char_10_act_new</td>\n",
              "      <td>0.005925</td>\n",
              "    </tr>\n",
              "    <tr>\n",
              "      <th>17</th>\n",
              "      <td>char_25_people</td>\n",
              "      <td>0.005657</td>\n",
              "    </tr>\n",
              "    <tr>\n",
              "      <th>21</th>\n",
              "      <td>char_34_people</td>\n",
              "      <td>0.004483</td>\n",
              "    </tr>\n",
              "    <tr>\n",
              "      <th>10</th>\n",
              "      <td>char_13_people</td>\n",
              "      <td>0.004436</td>\n",
              "    </tr>\n",
              "    <tr>\n",
              "      <th>20</th>\n",
              "      <td>char_32_people</td>\n",
              "      <td>0.004363</td>\n",
              "    </tr>\n",
              "    <tr>\n",
              "      <th>29</th>\n",
              "      <td>day_of_week</td>\n",
              "      <td>0.003755</td>\n",
              "    </tr>\n",
              "    <tr>\n",
              "      <th>34</th>\n",
              "      <td>activity_category_new</td>\n",
              "      <td>0.003718</td>\n",
              "    </tr>\n",
              "    <tr>\n",
              "      <th>0</th>\n",
              "      <td>char_1_people</td>\n",
              "      <td>0.003209</td>\n",
              "    </tr>\n",
              "    <tr>\n",
              "      <th>18</th>\n",
              "      <td>char_28_people</td>\n",
              "      <td>0.002716</td>\n",
              "    </tr>\n",
              "    <tr>\n",
              "      <th>19</th>\n",
              "      <td>char_31_people</td>\n",
              "      <td>0.002099</td>\n",
              "    </tr>\n",
              "    <tr>\n",
              "      <th>11</th>\n",
              "      <td>char_17_people</td>\n",
              "      <td>0.001521</td>\n",
              "    </tr>\n",
              "    <tr>\n",
              "      <th>9</th>\n",
              "      <td>char_10_people</td>\n",
              "      <td>0.001448</td>\n",
              "    </tr>\n",
              "    <tr>\n",
              "      <th>13</th>\n",
              "      <td>char_20_people</td>\n",
              "      <td>0.001376</td>\n",
              "    </tr>\n",
              "    <tr>\n",
              "      <th>16</th>\n",
              "      <td>char_23_people</td>\n",
              "      <td>0.001124</td>\n",
              "    </tr>\n",
              "    <tr>\n",
              "      <th>12</th>\n",
              "      <td>char_19_people</td>\n",
              "      <td>0.001090</td>\n",
              "    </tr>\n",
              "    <tr>\n",
              "      <th>15</th>\n",
              "      <td>char_22_people</td>\n",
              "      <td>0.000975</td>\n",
              "    </tr>\n",
              "    <tr>\n",
              "      <th>14</th>\n",
              "      <td>char_21_people</td>\n",
              "      <td>0.000763</td>\n",
              "    </tr>\n",
              "    <tr>\n",
              "      <th>23</th>\n",
              "      <td>char_37_people</td>\n",
              "      <td>0.000714</td>\n",
              "    </tr>\n",
              "  </tbody>\n",
              "</table>\n",
              "</div>"
            ],
            "text/plain": [
              "                        0         1\n",
              "32         negative_group  0.273723\n",
              "31         positive_group  0.258632\n",
              "24         char_38_people  0.150874\n",
              "35     group_1_people_new  0.067951\n",
              "1           char_2_people  0.060417\n",
              "25              date_diff  0.020090\n",
              "7           char_8_people  0.019459\n",
              "6           char_7_people  0.013708\n",
              "28                   week  0.013040\n",
              "27                  month  0.010214\n",
              "2           char_3_people  0.009849\n",
              "22         char_36_people  0.009618\n",
              "3           char_4_people  0.008158\n",
              "4           char_5_people  0.007607\n",
              "5           char_6_people  0.007499\n",
              "30                    day  0.007084\n",
              "8           char_9_people  0.006568\n",
              "26                    bot  0.006135\n",
              "33        char_10_act_new  0.005925\n",
              "17         char_25_people  0.005657\n",
              "21         char_34_people  0.004483\n",
              "10         char_13_people  0.004436\n",
              "20         char_32_people  0.004363\n",
              "29            day_of_week  0.003755\n",
              "34  activity_category_new  0.003718\n",
              "0           char_1_people  0.003209\n",
              "18         char_28_people  0.002716\n",
              "19         char_31_people  0.002099\n",
              "11         char_17_people  0.001521\n",
              "9          char_10_people  0.001448\n",
              "13         char_20_people  0.001376\n",
              "16         char_23_people  0.001124\n",
              "12         char_19_people  0.001090\n",
              "15         char_22_people  0.000975\n",
              "14         char_21_people  0.000763\n",
              "23         char_37_people  0.000714"
            ]
          },
          "metadata": {
            "tags": []
          },
          "execution_count": 72
        }
      ]
    },
    {
      "cell_type": "markdown",
      "metadata": {
        "id": "CWmk2VTrvBgk"
      },
      "source": [
        "# 5. Model Deployment"
      ]
    },
    {
      "cell_type": "code",
      "metadata": {
        "id": "SAQV7pDTvBgk"
      },
      "source": [
        "drop_features_test = ['people_id', 'activity_id', 'date', 'date_people', 'activity_category', 'group_1_people']\\\n",
        "                + char_act_test + list(drop_features_2)\n",
        "final_test = test.drop(drop_features_test, axis=1)"
      ],
      "execution_count": 73,
      "outputs": []
    },
    {
      "cell_type": "code",
      "metadata": {
        "id": "r1DBe0p_vBgk"
      },
      "source": [
        "final_test_predict = grid_model.predict(final_test)"
      ],
      "execution_count": 74,
      "outputs": []
    },
    {
      "cell_type": "code",
      "metadata": {
        "id": "47BXWl_evBgl"
      },
      "source": [
        "final_submission = pd.concat([test['activity_id'],pd.Series(final_test_predict)], axis=1)"
      ],
      "execution_count": 75,
      "outputs": []
    },
    {
      "cell_type": "code",
      "metadata": {
        "id": "h_nFuGAOvBgl"
      },
      "source": [
        "submission = final_submission.to_csv('submission.csv', header=['activity_id', 'outcome'], index=False)"
      ],
      "execution_count": 76,
      "outputs": []
    },
    {
      "cell_type": "markdown",
      "metadata": {
        "id": "Cj-64eOhvBgl"
      },
      "source": [
        "### Conclusions\n",
        "This project is to predict if a user has business value based on the user behaviors data that was collected previously. The dataset is balanced. \n",
        "\n",
        "During the exploratory analysis, I found that there are bot traffic among the user activities, which indicates highly frequent activities in a single day but present no business values at all. Based on the bots' behaviors, I added a new boolean feature 'bot'. Moreover, I also found the frequency and date of a activity has poor correlations with the outcome. \n",
        "\n",
        "In terms of modeling, I used a default Random Forest model to help to identify feature importances. After dropping less important features, I used a Random Forest combining with Grid Search and Cross Validation to achieve the best prediction."
      ]
    },
    {
      "cell_type": "code",
      "metadata": {
        "id": "aYv8Ei_OvBgm"
      },
      "source": [
        ""
      ],
      "execution_count": null,
      "outputs": []
    }
  ]
}
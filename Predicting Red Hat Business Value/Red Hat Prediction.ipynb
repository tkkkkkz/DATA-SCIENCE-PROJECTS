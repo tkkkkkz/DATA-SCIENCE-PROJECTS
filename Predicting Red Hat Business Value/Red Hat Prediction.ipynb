{
 "cells": [
  {
   "cell_type": "markdown",
   "metadata": {},
   "source": [
    "# Red Hat Business Value Prediction"
   ]
  },
  {
   "cell_type": "markdown",
   "metadata": {
    "toc": true
   },
   "source": [
    "<h1>Table of Contents<span class=\"tocSkip\"></span></h1>\n",
    "<div class=\"toc\"><ul class=\"toc-item\"><li><span><a href=\"#Red-Hat-Business-Value-Prediction\" data-toc-modified-id=\"Red-Hat-Business-Value-Prediction-1\">Red Hat Business Value Prediction</a></span><ul class=\"toc-item\"><li><span><a href=\"#Overview\" data-toc-modified-id=\"Overview-1.1\">Overview</a></span></li></ul></li><li><span><a href=\"#1.-Data-Import\" data-toc-modified-id=\"1.-Data-Import-2\">1. Data Import</a></span></li><li><span><a href=\"#2.-Exploratory-Data-Analysis\" data-toc-modified-id=\"2.-Exploratory-Data-Analysis-3\">2. Exploratory Data Analysis</a></span><ul class=\"toc-item\"><li><span><a href=\"#2.1-People-Characters\" data-toc-modified-id=\"2.1-People-Characters-3.1\">2.1 People Characters</a></span><ul class=\"toc-item\"><li><span><a href=\"#2.1.1-Bot-Traffic\" data-toc-modified-id=\"2.1.1-Bot-Traffic-3.1.1\">2.1.1 Bot Traffic</a></span></li><li><span><a href=\"#2.1.2-Activity-Date-and-Frequency\" data-toc-modified-id=\"2.1.2-Activity-Date-and-Frequency-3.1.2\">2.1.2 Activity Date and Frequency</a></span></li><li><span><a href=\"#2.1.3-People-Groups\" data-toc-modified-id=\"2.1.3-People-Groups-3.1.3\">2.1.3 People Groups</a></span></li><li><span><a href=\"#2.1.4-People-Characteristics\" data-toc-modified-id=\"2.1.4-People-Characteristics-3.1.4\">2.1.4 People Characteristics</a></span></li></ul></li><li><span><a href=\"#2.2-Activity-Characters\" data-toc-modified-id=\"2.2-Activity-Characters-3.2\">2.2 Activity Characters</a></span><ul class=\"toc-item\"><li><span><a href=\"#2.2.1-Category\" data-toc-modified-id=\"2.2.1-Category-3.2.1\">2.2.1 Category</a></span></li><li><span><a href=\"#2.2.2-Activity-Characters\" data-toc-modified-id=\"2.2.2-Activity-Characters-3.2.2\">2.2.2 Activity Characters</a></span></li></ul></li></ul></li><li><span><a href=\"#3.-Feature-Engineering\" data-toc-modified-id=\"3.-Feature-Engineering-4\">3. Feature Engineering</a></span><ul class=\"toc-item\"><li><span><a href=\"#Preprocessing-Test-Data\" data-toc-modified-id=\"Preprocessing-Test-Data-4.1\">Preprocessing Test Data</a></span></li></ul></li><li><span><a href=\"#4.-Model-Training\" data-toc-modified-id=\"4.-Model-Training-5\">4. Model Training</a></span><ul class=\"toc-item\"><li><ul class=\"toc-item\"><li><span><a href=\"#4.1-Feature-Importances\" data-toc-modified-id=\"4.1-Feature-Importances-5.0.1\">4.1 Feature Importances</a></span></li><li><span><a href=\"#4.2-Random-Forest\" data-toc-modified-id=\"4.2-Random-Forest-5.0.2\">4.2 Random Forest</a></span></li></ul></li></ul></li><li><span><a href=\"#5.-Model-Deployment\" data-toc-modified-id=\"5.-Model-Deployment-6\">5. Model Deployment</a></span><ul class=\"toc-item\"><li><ul class=\"toc-item\"><li><span><a href=\"#Conclusions\" data-toc-modified-id=\"Conclusions-6.0.1\">Conclusions</a></span></li></ul></li></ul></li></ul></div>"
   ]
  },
  {
   "cell_type": "markdown",
   "metadata": {},
   "source": [
    "##  Overview\n",
    "Over time, Red Hat is able to gather a great deal of information about the behaviors of individuals who interacts with them. This project aims to build a model that uses user behavioral data to predict if an individual has business value. With the prediction model, the company will be able to more efficiently prioritize resources to generate more business and better serve their customers."
   ]
  },
  {
   "cell_type": "markdown",
   "metadata": {},
   "source": [
    "# 1. Data Import"
   ]
  },
  {
   "cell_type": "markdown",
   "metadata": {},
   "source": [
    "The dataset is provided by [kaggle](https://www.kaggle.com/c/predicting-red-hat-business-value/data). There are two datasets that will be used in the model training. \n",
    "\n",
    "* The **people** table contains all the characters of unique people that have performed activities over time. Each row represents a unique person who has a unique people_id. There are **38** characters of people in total. Moreover, there is also a 'group_1' feature. The information in this dataset are all about 'people' themselves. \n",
    "<br><br>\n",
    "* The **act_train** table contains the information of activities that 'people' performed. There is an 'activity_id' for each activity, which is unique. The main features of an activity are 'date', 'activity_category' and ten other anonymized characters. "
   ]
  },
  {
   "cell_type": "code",
   "execution_count": 1,
   "metadata": {},
   "outputs": [],
   "source": [
    "# data manipulation packages\n",
    "import pandas as pd\n",
    "import numpy as np\n",
    "\n",
    "# data visualization packages\n",
    "import seaborn as sns\n",
    "import matplotlib.pyplot as plt\n",
    "\n",
    "%matplotlib inline\n",
    "\n",
    "# machine learning packages\n",
    "from sklearn.model_selection import train_test_split\n",
    "from sklearn.model_selection import cross_val_score\n",
    "from sklearn.model_selection import GridSearchCV\n",
    "\n",
    "from sklearn.preprocessing import LabelEncoder\n",
    "\n",
    "from sklearn.ensemble import RandomForestClassifier\n",
    "from sklearn.metrics import accuracy_score, classification_report, auc, plot_roc_curve, roc_auc_score"
   ]
  },
  {
   "cell_type": "markdown",
   "metadata": {},
   "source": [
    "The **people** dataset is imported and its info is showed below."
   ]
  },
  {
   "cell_type": "code",
   "execution_count": 2,
   "metadata": {},
   "outputs": [],
   "source": [
    "people = pd.read_csv('https://media.githubusercontent.com/media/tkkkkkz/Data_Science_Projects/main/Predicting%20Red%20Hat%20Business%20Value/Data/people.csv')"
   ]
  },
  {
   "cell_type": "code",
   "execution_count": 3,
   "metadata": {},
   "outputs": [
    {
     "data": {
      "text/html": [
       "<div>\n",
       "<style scoped>\n",
       "    .dataframe tbody tr th:only-of-type {\n",
       "        vertical-align: middle;\n",
       "    }\n",
       "\n",
       "    .dataframe tbody tr th {\n",
       "        vertical-align: top;\n",
       "    }\n",
       "\n",
       "    .dataframe thead th {\n",
       "        text-align: right;\n",
       "    }\n",
       "</style>\n",
       "<table border=\"1\" class=\"dataframe\">\n",
       "  <thead>\n",
       "    <tr style=\"text-align: right;\">\n",
       "      <th></th>\n",
       "      <th>people_id</th>\n",
       "      <th>char_1</th>\n",
       "      <th>group_1</th>\n",
       "      <th>char_2</th>\n",
       "      <th>date</th>\n",
       "      <th>char_3</th>\n",
       "      <th>char_4</th>\n",
       "      <th>char_5</th>\n",
       "      <th>char_6</th>\n",
       "      <th>char_7</th>\n",
       "      <th>...</th>\n",
       "      <th>char_29</th>\n",
       "      <th>char_30</th>\n",
       "      <th>char_31</th>\n",
       "      <th>char_32</th>\n",
       "      <th>char_33</th>\n",
       "      <th>char_34</th>\n",
       "      <th>char_35</th>\n",
       "      <th>char_36</th>\n",
       "      <th>char_37</th>\n",
       "      <th>char_38</th>\n",
       "    </tr>\n",
       "  </thead>\n",
       "  <tbody>\n",
       "    <tr>\n",
       "      <th>0</th>\n",
       "      <td>ppl_100</td>\n",
       "      <td>type 2</td>\n",
       "      <td>group 17304</td>\n",
       "      <td>type 2</td>\n",
       "      <td>2021-06-29</td>\n",
       "      <td>type 5</td>\n",
       "      <td>type 5</td>\n",
       "      <td>type 5</td>\n",
       "      <td>type 3</td>\n",
       "      <td>type 11</td>\n",
       "      <td>...</td>\n",
       "      <td>False</td>\n",
       "      <td>True</td>\n",
       "      <td>True</td>\n",
       "      <td>False</td>\n",
       "      <td>False</td>\n",
       "      <td>True</td>\n",
       "      <td>True</td>\n",
       "      <td>True</td>\n",
       "      <td>False</td>\n",
       "      <td>36</td>\n",
       "    </tr>\n",
       "    <tr>\n",
       "      <th>1</th>\n",
       "      <td>ppl_100002</td>\n",
       "      <td>type 2</td>\n",
       "      <td>group 8688</td>\n",
       "      <td>type 3</td>\n",
       "      <td>2021-01-06</td>\n",
       "      <td>type 28</td>\n",
       "      <td>type 9</td>\n",
       "      <td>type 5</td>\n",
       "      <td>type 3</td>\n",
       "      <td>type 11</td>\n",
       "      <td>...</td>\n",
       "      <td>False</td>\n",
       "      <td>True</td>\n",
       "      <td>True</td>\n",
       "      <td>True</td>\n",
       "      <td>True</td>\n",
       "      <td>True</td>\n",
       "      <td>True</td>\n",
       "      <td>True</td>\n",
       "      <td>False</td>\n",
       "      <td>76</td>\n",
       "    </tr>\n",
       "    <tr>\n",
       "      <th>2</th>\n",
       "      <td>ppl_100003</td>\n",
       "      <td>type 2</td>\n",
       "      <td>group 33592</td>\n",
       "      <td>type 3</td>\n",
       "      <td>2022-06-10</td>\n",
       "      <td>type 4</td>\n",
       "      <td>type 8</td>\n",
       "      <td>type 5</td>\n",
       "      <td>type 2</td>\n",
       "      <td>type 5</td>\n",
       "      <td>...</td>\n",
       "      <td>False</td>\n",
       "      <td>False</td>\n",
       "      <td>True</td>\n",
       "      <td>True</td>\n",
       "      <td>True</td>\n",
       "      <td>True</td>\n",
       "      <td>False</td>\n",
       "      <td>True</td>\n",
       "      <td>True</td>\n",
       "      <td>99</td>\n",
       "    </tr>\n",
       "    <tr>\n",
       "      <th>3</th>\n",
       "      <td>ppl_100004</td>\n",
       "      <td>type 2</td>\n",
       "      <td>group 22593</td>\n",
       "      <td>type 3</td>\n",
       "      <td>2022-07-20</td>\n",
       "      <td>type 40</td>\n",
       "      <td>type 25</td>\n",
       "      <td>type 9</td>\n",
       "      <td>type 4</td>\n",
       "      <td>type 16</td>\n",
       "      <td>...</td>\n",
       "      <td>True</td>\n",
       "      <td>True</td>\n",
       "      <td>True</td>\n",
       "      <td>True</td>\n",
       "      <td>True</td>\n",
       "      <td>True</td>\n",
       "      <td>True</td>\n",
       "      <td>True</td>\n",
       "      <td>True</td>\n",
       "      <td>76</td>\n",
       "    </tr>\n",
       "    <tr>\n",
       "      <th>4</th>\n",
       "      <td>ppl_100006</td>\n",
       "      <td>type 2</td>\n",
       "      <td>group 6534</td>\n",
       "      <td>type 3</td>\n",
       "      <td>2022-07-27</td>\n",
       "      <td>type 40</td>\n",
       "      <td>type 25</td>\n",
       "      <td>type 9</td>\n",
       "      <td>type 3</td>\n",
       "      <td>type 8</td>\n",
       "      <td>...</td>\n",
       "      <td>False</td>\n",
       "      <td>False</td>\n",
       "      <td>True</td>\n",
       "      <td>False</td>\n",
       "      <td>False</td>\n",
       "      <td>False</td>\n",
       "      <td>True</td>\n",
       "      <td>True</td>\n",
       "      <td>False</td>\n",
       "      <td>84</td>\n",
       "    </tr>\n",
       "  </tbody>\n",
       "</table>\n",
       "<p>5 rows × 41 columns</p>\n",
       "</div>"
      ],
      "text/plain": [
       "    people_id  char_1      group_1  char_2        date   char_3   char_4  \\\n",
       "0     ppl_100  type 2  group 17304  type 2  2021-06-29   type 5   type 5   \n",
       "1  ppl_100002  type 2   group 8688  type 3  2021-01-06  type 28   type 9   \n",
       "2  ppl_100003  type 2  group 33592  type 3  2022-06-10   type 4   type 8   \n",
       "3  ppl_100004  type 2  group 22593  type 3  2022-07-20  type 40  type 25   \n",
       "4  ppl_100006  type 2   group 6534  type 3  2022-07-27  type 40  type 25   \n",
       "\n",
       "   char_5  char_6   char_7  ... char_29 char_30  char_31  char_32  char_33  \\\n",
       "0  type 5  type 3  type 11  ...   False    True     True    False    False   \n",
       "1  type 5  type 3  type 11  ...   False    True     True     True     True   \n",
       "2  type 5  type 2   type 5  ...   False   False     True     True     True   \n",
       "3  type 9  type 4  type 16  ...    True    True     True     True     True   \n",
       "4  type 9  type 3   type 8  ...   False   False     True    False    False   \n",
       "\n",
       "   char_34  char_35  char_36  char_37  char_38  \n",
       "0     True     True     True    False       36  \n",
       "1     True     True     True    False       76  \n",
       "2     True    False     True     True       99  \n",
       "3     True     True     True     True       76  \n",
       "4    False     True     True    False       84  \n",
       "\n",
       "[5 rows x 41 columns]"
      ]
     },
     "execution_count": 3,
     "metadata": {},
     "output_type": "execute_result"
    }
   ],
   "source": [
    "people.head()"
   ]
  },
  {
   "cell_type": "code",
   "execution_count": 4,
   "metadata": {},
   "outputs": [
    {
     "name": "stdout",
     "output_type": "stream",
     "text": [
      "<class 'pandas.core.frame.DataFrame'>\n",
      "RangeIndex: 189118 entries, 0 to 189117\n",
      "Data columns (total 41 columns):\n",
      " #   Column     Non-Null Count   Dtype \n",
      "---  ------     --------------   ----- \n",
      " 0   people_id  189118 non-null  object\n",
      " 1   char_1     189118 non-null  object\n",
      " 2   group_1    189118 non-null  object\n",
      " 3   char_2     189118 non-null  object\n",
      " 4   date       189118 non-null  object\n",
      " 5   char_3     189118 non-null  object\n",
      " 6   char_4     189118 non-null  object\n",
      " 7   char_5     189118 non-null  object\n",
      " 8   char_6     189118 non-null  object\n",
      " 9   char_7     189118 non-null  object\n",
      " 10  char_8     189118 non-null  object\n",
      " 11  char_9     189118 non-null  object\n",
      " 12  char_10    189118 non-null  bool  \n",
      " 13  char_11    189118 non-null  bool  \n",
      " 14  char_12    189118 non-null  bool  \n",
      " 15  char_13    189118 non-null  bool  \n",
      " 16  char_14    189118 non-null  bool  \n",
      " 17  char_15    189118 non-null  bool  \n",
      " 18  char_16    189118 non-null  bool  \n",
      " 19  char_17    189118 non-null  bool  \n",
      " 20  char_18    189118 non-null  bool  \n",
      " 21  char_19    189118 non-null  bool  \n",
      " 22  char_20    189118 non-null  bool  \n",
      " 23  char_21    189118 non-null  bool  \n",
      " 24  char_22    189118 non-null  bool  \n",
      " 25  char_23    189118 non-null  bool  \n",
      " 26  char_24    189118 non-null  bool  \n",
      " 27  char_25    189118 non-null  bool  \n",
      " 28  char_26    189118 non-null  bool  \n",
      " 29  char_27    189118 non-null  bool  \n",
      " 30  char_28    189118 non-null  bool  \n",
      " 31  char_29    189118 non-null  bool  \n",
      " 32  char_30    189118 non-null  bool  \n",
      " 33  char_31    189118 non-null  bool  \n",
      " 34  char_32    189118 non-null  bool  \n",
      " 35  char_33    189118 non-null  bool  \n",
      " 36  char_34    189118 non-null  bool  \n",
      " 37  char_35    189118 non-null  bool  \n",
      " 38  char_36    189118 non-null  bool  \n",
      " 39  char_37    189118 non-null  bool  \n",
      " 40  char_38    189118 non-null  int64 \n",
      "dtypes: bool(28), int64(1), object(12)\n",
      "memory usage: 23.8+ MB\n"
     ]
    }
   ],
   "source": [
    "# there are 189,118 unique people are included in the table, there are NO missing values\n",
    "people.info() "
   ]
  },
  {
   "cell_type": "markdown",
   "metadata": {},
   "source": [
    "In **act_train** ,'type 1' activities are different from type 2-7 activities because there is only 'char_10' feature associated with 'type 1' activities (nine in total). But for the other type 2-7 activities , there are eight associated characters, i.e. char_1-8. The missing data in the dataset is because of the aforementioned reason. Therefore I will not need to impute the missing data.\n",
    "\n",
    "There is an 'outcome' of each activity to indicate if the activity has business value or not (1 for having, 0 for not having).\n",
    "\n",
    "In the following, I will merge the two tables together through a left merge, with 'act_train' as the left table. After merging, I found the dataset is balanced."
   ]
  },
  {
   "cell_type": "code",
   "execution_count": 5,
   "metadata": {},
   "outputs": [],
   "source": [
    "act_train = pd.read_csv('https://media.githubusercontent.com/media/tkkkkkz/Data_Science_Projects/main/Predicting%20Red%20Hat%20Business%20Value/Data/act_train.csv')"
   ]
  },
  {
   "cell_type": "code",
   "execution_count": 6,
   "metadata": {},
   "outputs": [
    {
     "data": {
      "text/html": [
       "<div>\n",
       "<style scoped>\n",
       "    .dataframe tbody tr th:only-of-type {\n",
       "        vertical-align: middle;\n",
       "    }\n",
       "\n",
       "    .dataframe tbody tr th {\n",
       "        vertical-align: top;\n",
       "    }\n",
       "\n",
       "    .dataframe thead th {\n",
       "        text-align: right;\n",
       "    }\n",
       "</style>\n",
       "<table border=\"1\" class=\"dataframe\">\n",
       "  <thead>\n",
       "    <tr style=\"text-align: right;\">\n",
       "      <th></th>\n",
       "      <th>people_id</th>\n",
       "      <th>activity_id</th>\n",
       "      <th>date</th>\n",
       "      <th>activity_category</th>\n",
       "      <th>char_1</th>\n",
       "      <th>char_2</th>\n",
       "      <th>char_3</th>\n",
       "      <th>char_4</th>\n",
       "      <th>char_5</th>\n",
       "      <th>char_6</th>\n",
       "      <th>char_7</th>\n",
       "      <th>char_8</th>\n",
       "      <th>char_9</th>\n",
       "      <th>char_10</th>\n",
       "      <th>outcome</th>\n",
       "    </tr>\n",
       "  </thead>\n",
       "  <tbody>\n",
       "    <tr>\n",
       "      <th>0</th>\n",
       "      <td>ppl_100</td>\n",
       "      <td>act2_1734928</td>\n",
       "      <td>2023-08-26</td>\n",
       "      <td>type 4</td>\n",
       "      <td>NaN</td>\n",
       "      <td>NaN</td>\n",
       "      <td>NaN</td>\n",
       "      <td>NaN</td>\n",
       "      <td>NaN</td>\n",
       "      <td>NaN</td>\n",
       "      <td>NaN</td>\n",
       "      <td>NaN</td>\n",
       "      <td>NaN</td>\n",
       "      <td>type 76</td>\n",
       "      <td>0</td>\n",
       "    </tr>\n",
       "    <tr>\n",
       "      <th>1</th>\n",
       "      <td>ppl_100</td>\n",
       "      <td>act2_2434093</td>\n",
       "      <td>2022-09-27</td>\n",
       "      <td>type 2</td>\n",
       "      <td>NaN</td>\n",
       "      <td>NaN</td>\n",
       "      <td>NaN</td>\n",
       "      <td>NaN</td>\n",
       "      <td>NaN</td>\n",
       "      <td>NaN</td>\n",
       "      <td>NaN</td>\n",
       "      <td>NaN</td>\n",
       "      <td>NaN</td>\n",
       "      <td>type 1</td>\n",
       "      <td>0</td>\n",
       "    </tr>\n",
       "    <tr>\n",
       "      <th>2</th>\n",
       "      <td>ppl_100</td>\n",
       "      <td>act2_3404049</td>\n",
       "      <td>2022-09-27</td>\n",
       "      <td>type 2</td>\n",
       "      <td>NaN</td>\n",
       "      <td>NaN</td>\n",
       "      <td>NaN</td>\n",
       "      <td>NaN</td>\n",
       "      <td>NaN</td>\n",
       "      <td>NaN</td>\n",
       "      <td>NaN</td>\n",
       "      <td>NaN</td>\n",
       "      <td>NaN</td>\n",
       "      <td>type 1</td>\n",
       "      <td>0</td>\n",
       "    </tr>\n",
       "    <tr>\n",
       "      <th>3</th>\n",
       "      <td>ppl_100</td>\n",
       "      <td>act2_3651215</td>\n",
       "      <td>2023-08-04</td>\n",
       "      <td>type 2</td>\n",
       "      <td>NaN</td>\n",
       "      <td>NaN</td>\n",
       "      <td>NaN</td>\n",
       "      <td>NaN</td>\n",
       "      <td>NaN</td>\n",
       "      <td>NaN</td>\n",
       "      <td>NaN</td>\n",
       "      <td>NaN</td>\n",
       "      <td>NaN</td>\n",
       "      <td>type 1</td>\n",
       "      <td>0</td>\n",
       "    </tr>\n",
       "    <tr>\n",
       "      <th>4</th>\n",
       "      <td>ppl_100</td>\n",
       "      <td>act2_4109017</td>\n",
       "      <td>2023-08-26</td>\n",
       "      <td>type 2</td>\n",
       "      <td>NaN</td>\n",
       "      <td>NaN</td>\n",
       "      <td>NaN</td>\n",
       "      <td>NaN</td>\n",
       "      <td>NaN</td>\n",
       "      <td>NaN</td>\n",
       "      <td>NaN</td>\n",
       "      <td>NaN</td>\n",
       "      <td>NaN</td>\n",
       "      <td>type 1</td>\n",
       "      <td>0</td>\n",
       "    </tr>\n",
       "  </tbody>\n",
       "</table>\n",
       "</div>"
      ],
      "text/plain": [
       "  people_id   activity_id        date activity_category char_1 char_2 char_3  \\\n",
       "0   ppl_100  act2_1734928  2023-08-26            type 4    NaN    NaN    NaN   \n",
       "1   ppl_100  act2_2434093  2022-09-27            type 2    NaN    NaN    NaN   \n",
       "2   ppl_100  act2_3404049  2022-09-27            type 2    NaN    NaN    NaN   \n",
       "3   ppl_100  act2_3651215  2023-08-04            type 2    NaN    NaN    NaN   \n",
       "4   ppl_100  act2_4109017  2023-08-26            type 2    NaN    NaN    NaN   \n",
       "\n",
       "  char_4 char_5 char_6 char_7 char_8 char_9  char_10  outcome  \n",
       "0    NaN    NaN    NaN    NaN    NaN    NaN  type 76        0  \n",
       "1    NaN    NaN    NaN    NaN    NaN    NaN   type 1        0  \n",
       "2    NaN    NaN    NaN    NaN    NaN    NaN   type 1        0  \n",
       "3    NaN    NaN    NaN    NaN    NaN    NaN   type 1        0  \n",
       "4    NaN    NaN    NaN    NaN    NaN    NaN   type 1        0  "
      ]
     },
     "execution_count": 6,
     "metadata": {},
     "output_type": "execute_result"
    }
   ],
   "source": [
    "act_train.head()"
   ]
  },
  {
   "cell_type": "code",
   "execution_count": 7,
   "metadata": {},
   "outputs": [
    {
     "data": {
      "text/plain": [
       "151295"
      ]
     },
     "execution_count": 7,
     "metadata": {},
     "output_type": "execute_result"
    }
   ],
   "source": [
    "# the number of people here is fewer than the number of people in the 'people' table\n",
    "act_train['people_id'].nunique()"
   ]
  },
  {
   "cell_type": "code",
   "execution_count": 8,
   "metadata": {},
   "outputs": [
    {
     "name": "stdout",
     "output_type": "stream",
     "text": [
      "<class 'pandas.core.frame.DataFrame'>\n",
      "RangeIndex: 2197291 entries, 0 to 2197290\n",
      "Data columns (total 15 columns):\n",
      " #   Column             Dtype \n",
      "---  ------             ----- \n",
      " 0   people_id          object\n",
      " 1   activity_id        object\n",
      " 2   date               object\n",
      " 3   activity_category  object\n",
      " 4   char_1             object\n",
      " 5   char_2             object\n",
      " 6   char_3             object\n",
      " 7   char_4             object\n",
      " 8   char_5             object\n",
      " 9   char_6             object\n",
      " 10  char_7             object\n",
      " 11  char_8             object\n",
      " 12  char_9             object\n",
      " 13  char_10            object\n",
      " 14  outcome            int64 \n",
      "dtypes: int64(1), object(14)\n",
      "memory usage: 251.5+ MB\n"
     ]
    }
   ],
   "source": [
    "act_train.info()"
   ]
  },
  {
   "cell_type": "code",
   "execution_count": 9,
   "metadata": {},
   "outputs": [
    {
     "data": {
      "text/plain": [
       "people_id                  0\n",
       "activity_id                0\n",
       "date                       0\n",
       "activity_category          0\n",
       "char_1               2039676\n",
       "char_2               2039676\n",
       "char_3               2039676\n",
       "char_4               2039676\n",
       "char_5               2039676\n",
       "char_6               2039676\n",
       "char_7               2039676\n",
       "char_8               2039676\n",
       "char_9               2039676\n",
       "char_10               157615\n",
       "outcome                    0\n",
       "dtype: int64"
      ]
     },
     "execution_count": 9,
     "metadata": {},
     "output_type": "execute_result"
    }
   ],
   "source": [
    "# the missing data here is because that type 2-7 activities do not have chars 1-9, while they only have char 10\n",
    "# only type 1 activities have char 10\n",
    "act_train.isnull().sum() "
   ]
  },
  {
   "cell_type": "code",
   "execution_count": 10,
   "metadata": {},
   "outputs": [],
   "source": [
    "# before merging two tables, mark the columns in each table first\n",
    "# so I will not mix up those columns in the following analysis\n",
    "\n",
    "# mark columns in the people table\n",
    "people_new_columns = []\n",
    "\n",
    "for column in people.columns:\n",
    "    if column != 'people_id':\n",
    "        column += '_people'\n",
    "    people_new_columns.append(column)\n",
    "\n",
    "people.columns = people_new_columns\n",
    "\n",
    "# mark columns in the activity table\n",
    "act_new_columns = []\n",
    "\n",
    "for column in act_train.columns:\n",
    "    if 'char' in column:\n",
    "        column += '_act'\n",
    "    act_new_columns.append(column)\n",
    "\n",
    "act_train.columns = act_new_columns"
   ]
  },
  {
   "cell_type": "code",
   "execution_count": 11,
   "metadata": {
    "scrolled": true
   },
   "outputs": [
    {
     "data": {
      "text/html": [
       "<div>\n",
       "<style scoped>\n",
       "    .dataframe tbody tr th:only-of-type {\n",
       "        vertical-align: middle;\n",
       "    }\n",
       "\n",
       "    .dataframe tbody tr th {\n",
       "        vertical-align: top;\n",
       "    }\n",
       "\n",
       "    .dataframe thead th {\n",
       "        text-align: right;\n",
       "    }\n",
       "</style>\n",
       "<table border=\"1\" class=\"dataframe\">\n",
       "  <thead>\n",
       "    <tr style=\"text-align: right;\">\n",
       "      <th></th>\n",
       "      <th>0</th>\n",
       "      <th>1</th>\n",
       "      <th>2</th>\n",
       "      <th>3</th>\n",
       "      <th>4</th>\n",
       "    </tr>\n",
       "  </thead>\n",
       "  <tbody>\n",
       "    <tr>\n",
       "      <th>people_id</th>\n",
       "      <td>ppl_100</td>\n",
       "      <td>ppl_100</td>\n",
       "      <td>ppl_100</td>\n",
       "      <td>ppl_100</td>\n",
       "      <td>ppl_100</td>\n",
       "    </tr>\n",
       "    <tr>\n",
       "      <th>activity_id</th>\n",
       "      <td>act2_1734928</td>\n",
       "      <td>act2_2434093</td>\n",
       "      <td>act2_3404049</td>\n",
       "      <td>act2_3651215</td>\n",
       "      <td>act2_4109017</td>\n",
       "    </tr>\n",
       "    <tr>\n",
       "      <th>date</th>\n",
       "      <td>2023-08-26</td>\n",
       "      <td>2022-09-27</td>\n",
       "      <td>2022-09-27</td>\n",
       "      <td>2023-08-04</td>\n",
       "      <td>2023-08-26</td>\n",
       "    </tr>\n",
       "    <tr>\n",
       "      <th>activity_category</th>\n",
       "      <td>type 4</td>\n",
       "      <td>type 2</td>\n",
       "      <td>type 2</td>\n",
       "      <td>type 2</td>\n",
       "      <td>type 2</td>\n",
       "    </tr>\n",
       "    <tr>\n",
       "      <th>char_1_act</th>\n",
       "      <td>NaN</td>\n",
       "      <td>NaN</td>\n",
       "      <td>NaN</td>\n",
       "      <td>NaN</td>\n",
       "      <td>NaN</td>\n",
       "    </tr>\n",
       "    <tr>\n",
       "      <th>char_2_act</th>\n",
       "      <td>NaN</td>\n",
       "      <td>NaN</td>\n",
       "      <td>NaN</td>\n",
       "      <td>NaN</td>\n",
       "      <td>NaN</td>\n",
       "    </tr>\n",
       "    <tr>\n",
       "      <th>char_3_act</th>\n",
       "      <td>NaN</td>\n",
       "      <td>NaN</td>\n",
       "      <td>NaN</td>\n",
       "      <td>NaN</td>\n",
       "      <td>NaN</td>\n",
       "    </tr>\n",
       "    <tr>\n",
       "      <th>char_4_act</th>\n",
       "      <td>NaN</td>\n",
       "      <td>NaN</td>\n",
       "      <td>NaN</td>\n",
       "      <td>NaN</td>\n",
       "      <td>NaN</td>\n",
       "    </tr>\n",
       "    <tr>\n",
       "      <th>char_5_act</th>\n",
       "      <td>NaN</td>\n",
       "      <td>NaN</td>\n",
       "      <td>NaN</td>\n",
       "      <td>NaN</td>\n",
       "      <td>NaN</td>\n",
       "    </tr>\n",
       "    <tr>\n",
       "      <th>char_6_act</th>\n",
       "      <td>NaN</td>\n",
       "      <td>NaN</td>\n",
       "      <td>NaN</td>\n",
       "      <td>NaN</td>\n",
       "      <td>NaN</td>\n",
       "    </tr>\n",
       "    <tr>\n",
       "      <th>char_7_act</th>\n",
       "      <td>NaN</td>\n",
       "      <td>NaN</td>\n",
       "      <td>NaN</td>\n",
       "      <td>NaN</td>\n",
       "      <td>NaN</td>\n",
       "    </tr>\n",
       "    <tr>\n",
       "      <th>char_8_act</th>\n",
       "      <td>NaN</td>\n",
       "      <td>NaN</td>\n",
       "      <td>NaN</td>\n",
       "      <td>NaN</td>\n",
       "      <td>NaN</td>\n",
       "    </tr>\n",
       "    <tr>\n",
       "      <th>char_9_act</th>\n",
       "      <td>NaN</td>\n",
       "      <td>NaN</td>\n",
       "      <td>NaN</td>\n",
       "      <td>NaN</td>\n",
       "      <td>NaN</td>\n",
       "    </tr>\n",
       "    <tr>\n",
       "      <th>char_10_act</th>\n",
       "      <td>type 76</td>\n",
       "      <td>type 1</td>\n",
       "      <td>type 1</td>\n",
       "      <td>type 1</td>\n",
       "      <td>type 1</td>\n",
       "    </tr>\n",
       "    <tr>\n",
       "      <th>outcome</th>\n",
       "      <td>0</td>\n",
       "      <td>0</td>\n",
       "      <td>0</td>\n",
       "      <td>0</td>\n",
       "      <td>0</td>\n",
       "    </tr>\n",
       "    <tr>\n",
       "      <th>char_1_people</th>\n",
       "      <td>type 2</td>\n",
       "      <td>type 2</td>\n",
       "      <td>type 2</td>\n",
       "      <td>type 2</td>\n",
       "      <td>type 2</td>\n",
       "    </tr>\n",
       "    <tr>\n",
       "      <th>group_1_people</th>\n",
       "      <td>group 17304</td>\n",
       "      <td>group 17304</td>\n",
       "      <td>group 17304</td>\n",
       "      <td>group 17304</td>\n",
       "      <td>group 17304</td>\n",
       "    </tr>\n",
       "    <tr>\n",
       "      <th>char_2_people</th>\n",
       "      <td>type 2</td>\n",
       "      <td>type 2</td>\n",
       "      <td>type 2</td>\n",
       "      <td>type 2</td>\n",
       "      <td>type 2</td>\n",
       "    </tr>\n",
       "    <tr>\n",
       "      <th>date_people</th>\n",
       "      <td>2021-06-29</td>\n",
       "      <td>2021-06-29</td>\n",
       "      <td>2021-06-29</td>\n",
       "      <td>2021-06-29</td>\n",
       "      <td>2021-06-29</td>\n",
       "    </tr>\n",
       "    <tr>\n",
       "      <th>char_3_people</th>\n",
       "      <td>type 5</td>\n",
       "      <td>type 5</td>\n",
       "      <td>type 5</td>\n",
       "      <td>type 5</td>\n",
       "      <td>type 5</td>\n",
       "    </tr>\n",
       "    <tr>\n",
       "      <th>char_4_people</th>\n",
       "      <td>type 5</td>\n",
       "      <td>type 5</td>\n",
       "      <td>type 5</td>\n",
       "      <td>type 5</td>\n",
       "      <td>type 5</td>\n",
       "    </tr>\n",
       "    <tr>\n",
       "      <th>char_5_people</th>\n",
       "      <td>type 5</td>\n",
       "      <td>type 5</td>\n",
       "      <td>type 5</td>\n",
       "      <td>type 5</td>\n",
       "      <td>type 5</td>\n",
       "    </tr>\n",
       "    <tr>\n",
       "      <th>char_6_people</th>\n",
       "      <td>type 3</td>\n",
       "      <td>type 3</td>\n",
       "      <td>type 3</td>\n",
       "      <td>type 3</td>\n",
       "      <td>type 3</td>\n",
       "    </tr>\n",
       "    <tr>\n",
       "      <th>char_7_people</th>\n",
       "      <td>type 11</td>\n",
       "      <td>type 11</td>\n",
       "      <td>type 11</td>\n",
       "      <td>type 11</td>\n",
       "      <td>type 11</td>\n",
       "    </tr>\n",
       "    <tr>\n",
       "      <th>char_8_people</th>\n",
       "      <td>type 2</td>\n",
       "      <td>type 2</td>\n",
       "      <td>type 2</td>\n",
       "      <td>type 2</td>\n",
       "      <td>type 2</td>\n",
       "    </tr>\n",
       "    <tr>\n",
       "      <th>char_9_people</th>\n",
       "      <td>type 2</td>\n",
       "      <td>type 2</td>\n",
       "      <td>type 2</td>\n",
       "      <td>type 2</td>\n",
       "      <td>type 2</td>\n",
       "    </tr>\n",
       "    <tr>\n",
       "      <th>char_10_people</th>\n",
       "      <td>True</td>\n",
       "      <td>True</td>\n",
       "      <td>True</td>\n",
       "      <td>True</td>\n",
       "      <td>True</td>\n",
       "    </tr>\n",
       "    <tr>\n",
       "      <th>char_11_people</th>\n",
       "      <td>False</td>\n",
       "      <td>False</td>\n",
       "      <td>False</td>\n",
       "      <td>False</td>\n",
       "      <td>False</td>\n",
       "    </tr>\n",
       "    <tr>\n",
       "      <th>char_12_people</th>\n",
       "      <td>False</td>\n",
       "      <td>False</td>\n",
       "      <td>False</td>\n",
       "      <td>False</td>\n",
       "      <td>False</td>\n",
       "    </tr>\n",
       "    <tr>\n",
       "      <th>char_13_people</th>\n",
       "      <td>True</td>\n",
       "      <td>True</td>\n",
       "      <td>True</td>\n",
       "      <td>True</td>\n",
       "      <td>True</td>\n",
       "    </tr>\n",
       "    <tr>\n",
       "      <th>char_14_people</th>\n",
       "      <td>True</td>\n",
       "      <td>True</td>\n",
       "      <td>True</td>\n",
       "      <td>True</td>\n",
       "      <td>True</td>\n",
       "    </tr>\n",
       "    <tr>\n",
       "      <th>char_15_people</th>\n",
       "      <td>False</td>\n",
       "      <td>False</td>\n",
       "      <td>False</td>\n",
       "      <td>False</td>\n",
       "      <td>False</td>\n",
       "    </tr>\n",
       "    <tr>\n",
       "      <th>char_16_people</th>\n",
       "      <td>True</td>\n",
       "      <td>True</td>\n",
       "      <td>True</td>\n",
       "      <td>True</td>\n",
       "      <td>True</td>\n",
       "    </tr>\n",
       "    <tr>\n",
       "      <th>char_17_people</th>\n",
       "      <td>False</td>\n",
       "      <td>False</td>\n",
       "      <td>False</td>\n",
       "      <td>False</td>\n",
       "      <td>False</td>\n",
       "    </tr>\n",
       "    <tr>\n",
       "      <th>char_18_people</th>\n",
       "      <td>False</td>\n",
       "      <td>False</td>\n",
       "      <td>False</td>\n",
       "      <td>False</td>\n",
       "      <td>False</td>\n",
       "    </tr>\n",
       "    <tr>\n",
       "      <th>char_19_people</th>\n",
       "      <td>False</td>\n",
       "      <td>False</td>\n",
       "      <td>False</td>\n",
       "      <td>False</td>\n",
       "      <td>False</td>\n",
       "    </tr>\n",
       "    <tr>\n",
       "      <th>char_20_people</th>\n",
       "      <td>False</td>\n",
       "      <td>False</td>\n",
       "      <td>False</td>\n",
       "      <td>False</td>\n",
       "      <td>False</td>\n",
       "    </tr>\n",
       "    <tr>\n",
       "      <th>char_21_people</th>\n",
       "      <td>True</td>\n",
       "      <td>True</td>\n",
       "      <td>True</td>\n",
       "      <td>True</td>\n",
       "      <td>True</td>\n",
       "    </tr>\n",
       "    <tr>\n",
       "      <th>char_22_people</th>\n",
       "      <td>False</td>\n",
       "      <td>False</td>\n",
       "      <td>False</td>\n",
       "      <td>False</td>\n",
       "      <td>False</td>\n",
       "    </tr>\n",
       "    <tr>\n",
       "      <th>char_23_people</th>\n",
       "      <td>False</td>\n",
       "      <td>False</td>\n",
       "      <td>False</td>\n",
       "      <td>False</td>\n",
       "      <td>False</td>\n",
       "    </tr>\n",
       "    <tr>\n",
       "      <th>char_24_people</th>\n",
       "      <td>False</td>\n",
       "      <td>False</td>\n",
       "      <td>False</td>\n",
       "      <td>False</td>\n",
       "      <td>False</td>\n",
       "    </tr>\n",
       "    <tr>\n",
       "      <th>char_25_people</th>\n",
       "      <td>False</td>\n",
       "      <td>False</td>\n",
       "      <td>False</td>\n",
       "      <td>False</td>\n",
       "      <td>False</td>\n",
       "    </tr>\n",
       "    <tr>\n",
       "      <th>char_26_people</th>\n",
       "      <td>False</td>\n",
       "      <td>False</td>\n",
       "      <td>False</td>\n",
       "      <td>False</td>\n",
       "      <td>False</td>\n",
       "    </tr>\n",
       "    <tr>\n",
       "      <th>char_27_people</th>\n",
       "      <td>True</td>\n",
       "      <td>True</td>\n",
       "      <td>True</td>\n",
       "      <td>True</td>\n",
       "      <td>True</td>\n",
       "    </tr>\n",
       "    <tr>\n",
       "      <th>char_28_people</th>\n",
       "      <td>True</td>\n",
       "      <td>True</td>\n",
       "      <td>True</td>\n",
       "      <td>True</td>\n",
       "      <td>True</td>\n",
       "    </tr>\n",
       "    <tr>\n",
       "      <th>char_29_people</th>\n",
       "      <td>False</td>\n",
       "      <td>False</td>\n",
       "      <td>False</td>\n",
       "      <td>False</td>\n",
       "      <td>False</td>\n",
       "    </tr>\n",
       "    <tr>\n",
       "      <th>char_30_people</th>\n",
       "      <td>True</td>\n",
       "      <td>True</td>\n",
       "      <td>True</td>\n",
       "      <td>True</td>\n",
       "      <td>True</td>\n",
       "    </tr>\n",
       "    <tr>\n",
       "      <th>char_31_people</th>\n",
       "      <td>True</td>\n",
       "      <td>True</td>\n",
       "      <td>True</td>\n",
       "      <td>True</td>\n",
       "      <td>True</td>\n",
       "    </tr>\n",
       "    <tr>\n",
       "      <th>char_32_people</th>\n",
       "      <td>False</td>\n",
       "      <td>False</td>\n",
       "      <td>False</td>\n",
       "      <td>False</td>\n",
       "      <td>False</td>\n",
       "    </tr>\n",
       "    <tr>\n",
       "      <th>char_33_people</th>\n",
       "      <td>False</td>\n",
       "      <td>False</td>\n",
       "      <td>False</td>\n",
       "      <td>False</td>\n",
       "      <td>False</td>\n",
       "    </tr>\n",
       "    <tr>\n",
       "      <th>char_34_people</th>\n",
       "      <td>True</td>\n",
       "      <td>True</td>\n",
       "      <td>True</td>\n",
       "      <td>True</td>\n",
       "      <td>True</td>\n",
       "    </tr>\n",
       "    <tr>\n",
       "      <th>char_35_people</th>\n",
       "      <td>True</td>\n",
       "      <td>True</td>\n",
       "      <td>True</td>\n",
       "      <td>True</td>\n",
       "      <td>True</td>\n",
       "    </tr>\n",
       "    <tr>\n",
       "      <th>char_36_people</th>\n",
       "      <td>True</td>\n",
       "      <td>True</td>\n",
       "      <td>True</td>\n",
       "      <td>True</td>\n",
       "      <td>True</td>\n",
       "    </tr>\n",
       "    <tr>\n",
       "      <th>char_37_people</th>\n",
       "      <td>False</td>\n",
       "      <td>False</td>\n",
       "      <td>False</td>\n",
       "      <td>False</td>\n",
       "      <td>False</td>\n",
       "    </tr>\n",
       "    <tr>\n",
       "      <th>char_38_people</th>\n",
       "      <td>36</td>\n",
       "      <td>36</td>\n",
       "      <td>36</td>\n",
       "      <td>36</td>\n",
       "      <td>36</td>\n",
       "    </tr>\n",
       "  </tbody>\n",
       "</table>\n",
       "</div>"
      ],
      "text/plain": [
       "                              0             1             2             3  \\\n",
       "people_id               ppl_100       ppl_100       ppl_100       ppl_100   \n",
       "activity_id        act2_1734928  act2_2434093  act2_3404049  act2_3651215   \n",
       "date                 2023-08-26    2022-09-27    2022-09-27    2023-08-04   \n",
       "activity_category        type 4        type 2        type 2        type 2   \n",
       "char_1_act                  NaN           NaN           NaN           NaN   \n",
       "char_2_act                  NaN           NaN           NaN           NaN   \n",
       "char_3_act                  NaN           NaN           NaN           NaN   \n",
       "char_4_act                  NaN           NaN           NaN           NaN   \n",
       "char_5_act                  NaN           NaN           NaN           NaN   \n",
       "char_6_act                  NaN           NaN           NaN           NaN   \n",
       "char_7_act                  NaN           NaN           NaN           NaN   \n",
       "char_8_act                  NaN           NaN           NaN           NaN   \n",
       "char_9_act                  NaN           NaN           NaN           NaN   \n",
       "char_10_act             type 76        type 1        type 1        type 1   \n",
       "outcome                       0             0             0             0   \n",
       "char_1_people            type 2        type 2        type 2        type 2   \n",
       "group_1_people      group 17304   group 17304   group 17304   group 17304   \n",
       "char_2_people            type 2        type 2        type 2        type 2   \n",
       "date_people          2021-06-29    2021-06-29    2021-06-29    2021-06-29   \n",
       "char_3_people            type 5        type 5        type 5        type 5   \n",
       "char_4_people            type 5        type 5        type 5        type 5   \n",
       "char_5_people            type 5        type 5        type 5        type 5   \n",
       "char_6_people            type 3        type 3        type 3        type 3   \n",
       "char_7_people           type 11       type 11       type 11       type 11   \n",
       "char_8_people            type 2        type 2        type 2        type 2   \n",
       "char_9_people            type 2        type 2        type 2        type 2   \n",
       "char_10_people             True          True          True          True   \n",
       "char_11_people            False         False         False         False   \n",
       "char_12_people            False         False         False         False   \n",
       "char_13_people             True          True          True          True   \n",
       "char_14_people             True          True          True          True   \n",
       "char_15_people            False         False         False         False   \n",
       "char_16_people             True          True          True          True   \n",
       "char_17_people            False         False         False         False   \n",
       "char_18_people            False         False         False         False   \n",
       "char_19_people            False         False         False         False   \n",
       "char_20_people            False         False         False         False   \n",
       "char_21_people             True          True          True          True   \n",
       "char_22_people            False         False         False         False   \n",
       "char_23_people            False         False         False         False   \n",
       "char_24_people            False         False         False         False   \n",
       "char_25_people            False         False         False         False   \n",
       "char_26_people            False         False         False         False   \n",
       "char_27_people             True          True          True          True   \n",
       "char_28_people             True          True          True          True   \n",
       "char_29_people            False         False         False         False   \n",
       "char_30_people             True          True          True          True   \n",
       "char_31_people             True          True          True          True   \n",
       "char_32_people            False         False         False         False   \n",
       "char_33_people            False         False         False         False   \n",
       "char_34_people             True          True          True          True   \n",
       "char_35_people             True          True          True          True   \n",
       "char_36_people             True          True          True          True   \n",
       "char_37_people            False         False         False         False   \n",
       "char_38_people               36            36            36            36   \n",
       "\n",
       "                              4  \n",
       "people_id               ppl_100  \n",
       "activity_id        act2_4109017  \n",
       "date                 2023-08-26  \n",
       "activity_category        type 2  \n",
       "char_1_act                  NaN  \n",
       "char_2_act                  NaN  \n",
       "char_3_act                  NaN  \n",
       "char_4_act                  NaN  \n",
       "char_5_act                  NaN  \n",
       "char_6_act                  NaN  \n",
       "char_7_act                  NaN  \n",
       "char_8_act                  NaN  \n",
       "char_9_act                  NaN  \n",
       "char_10_act              type 1  \n",
       "outcome                       0  \n",
       "char_1_people            type 2  \n",
       "group_1_people      group 17304  \n",
       "char_2_people            type 2  \n",
       "date_people          2021-06-29  \n",
       "char_3_people            type 5  \n",
       "char_4_people            type 5  \n",
       "char_5_people            type 5  \n",
       "char_6_people            type 3  \n",
       "char_7_people           type 11  \n",
       "char_8_people            type 2  \n",
       "char_9_people            type 2  \n",
       "char_10_people             True  \n",
       "char_11_people            False  \n",
       "char_12_people            False  \n",
       "char_13_people             True  \n",
       "char_14_people             True  \n",
       "char_15_people            False  \n",
       "char_16_people             True  \n",
       "char_17_people            False  \n",
       "char_18_people            False  \n",
       "char_19_people            False  \n",
       "char_20_people            False  \n",
       "char_21_people             True  \n",
       "char_22_people            False  \n",
       "char_23_people            False  \n",
       "char_24_people            False  \n",
       "char_25_people            False  \n",
       "char_26_people            False  \n",
       "char_27_people             True  \n",
       "char_28_people             True  \n",
       "char_29_people            False  \n",
       "char_30_people             True  \n",
       "char_31_people             True  \n",
       "char_32_people            False  \n",
       "char_33_people            False  \n",
       "char_34_people             True  \n",
       "char_35_people             True  \n",
       "char_36_people             True  \n",
       "char_37_people            False  \n",
       "char_38_people               36  "
      ]
     },
     "execution_count": 11,
     "metadata": {},
     "output_type": "execute_result"
    }
   ],
   "source": [
    "# merge two tables\n",
    "train = pd.merge(act_train, people, how='left',on='people_id')\n",
    "train.head().transpose()"
   ]
  },
  {
   "cell_type": "code",
   "execution_count": 12,
   "metadata": {
    "scrolled": true
   },
   "outputs": [
    {
     "name": "stdout",
     "output_type": "stream",
     "text": [
      "<class 'pandas.core.frame.DataFrame'>\n",
      "Int64Index: 2197291 entries, 0 to 2197290\n",
      "Data columns (total 55 columns):\n",
      " #   Column             Dtype \n",
      "---  ------             ----- \n",
      " 0   people_id          object\n",
      " 1   activity_id        object\n",
      " 2   date               object\n",
      " 3   activity_category  object\n",
      " 4   char_1_act         object\n",
      " 5   char_2_act         object\n",
      " 6   char_3_act         object\n",
      " 7   char_4_act         object\n",
      " 8   char_5_act         object\n",
      " 9   char_6_act         object\n",
      " 10  char_7_act         object\n",
      " 11  char_8_act         object\n",
      " 12  char_9_act         object\n",
      " 13  char_10_act        object\n",
      " 14  outcome            int64 \n",
      " 15  char_1_people      object\n",
      " 16  group_1_people     object\n",
      " 17  char_2_people      object\n",
      " 18  date_people        object\n",
      " 19  char_3_people      object\n",
      " 20  char_4_people      object\n",
      " 21  char_5_people      object\n",
      " 22  char_6_people      object\n",
      " 23  char_7_people      object\n",
      " 24  char_8_people      object\n",
      " 25  char_9_people      object\n",
      " 26  char_10_people     bool  \n",
      " 27  char_11_people     bool  \n",
      " 28  char_12_people     bool  \n",
      " 29  char_13_people     bool  \n",
      " 30  char_14_people     bool  \n",
      " 31  char_15_people     bool  \n",
      " 32  char_16_people     bool  \n",
      " 33  char_17_people     bool  \n",
      " 34  char_18_people     bool  \n",
      " 35  char_19_people     bool  \n",
      " 36  char_20_people     bool  \n",
      " 37  char_21_people     bool  \n",
      " 38  char_22_people     bool  \n",
      " 39  char_23_people     bool  \n",
      " 40  char_24_people     bool  \n",
      " 41  char_25_people     bool  \n",
      " 42  char_26_people     bool  \n",
      " 43  char_27_people     bool  \n",
      " 44  char_28_people     bool  \n",
      " 45  char_29_people     bool  \n",
      " 46  char_30_people     bool  \n",
      " 47  char_31_people     bool  \n",
      " 48  char_32_people     bool  \n",
      " 49  char_33_people     bool  \n",
      " 50  char_34_people     bool  \n",
      " 51  char_35_people     bool  \n",
      " 52  char_36_people     bool  \n",
      " 53  char_37_people     bool  \n",
      " 54  char_38_people     int64 \n",
      "dtypes: bool(28), int64(2), object(25)\n",
      "memory usage: 528.1+ MB\n"
     ]
    }
   ],
   "source": [
    "# in total, there are 2,197,291 entries in the current train dateset\n",
    "train.info()"
   ]
  },
  {
   "cell_type": "code",
   "execution_count": 13,
   "metadata": {
    "scrolled": true
   },
   "outputs": [
    {
     "data": {
      "text/plain": [
       "people_id                  0\n",
       "activity_id                0\n",
       "date                       0\n",
       "activity_category          0\n",
       "char_1_act           2039676\n",
       "char_2_act           2039676\n",
       "char_3_act           2039676\n",
       "char_4_act           2039676\n",
       "char_5_act           2039676\n",
       "char_6_act           2039676\n",
       "char_7_act           2039676\n",
       "char_8_act           2039676\n",
       "char_9_act           2039676\n",
       "char_10_act           157615\n",
       "outcome                    0\n",
       "char_1_people              0\n",
       "group_1_people             0\n",
       "char_2_people              0\n",
       "date_people                0\n",
       "char_3_people              0\n",
       "char_4_people              0\n",
       "char_5_people              0\n",
       "char_6_people              0\n",
       "char_7_people              0\n",
       "char_8_people              0\n",
       "char_9_people              0\n",
       "char_10_people             0\n",
       "char_11_people             0\n",
       "char_12_people             0\n",
       "char_13_people             0\n",
       "char_14_people             0\n",
       "char_15_people             0\n",
       "char_16_people             0\n",
       "char_17_people             0\n",
       "char_18_people             0\n",
       "char_19_people             0\n",
       "char_20_people             0\n",
       "char_21_people             0\n",
       "char_22_people             0\n",
       "char_23_people             0\n",
       "char_24_people             0\n",
       "char_25_people             0\n",
       "char_26_people             0\n",
       "char_27_people             0\n",
       "char_28_people             0\n",
       "char_29_people             0\n",
       "char_30_people             0\n",
       "char_31_people             0\n",
       "char_32_people             0\n",
       "char_33_people             0\n",
       "char_34_people             0\n",
       "char_35_people             0\n",
       "char_36_people             0\n",
       "char_37_people             0\n",
       "char_38_people             0\n",
       "dtype: int64"
      ]
     },
     "execution_count": 13,
     "metadata": {},
     "output_type": "execute_result"
    }
   ],
   "source": [
    "# no more missing data after merging two tables\n",
    "train.isna().sum() "
   ]
  },
  {
   "cell_type": "code",
   "execution_count": 14,
   "metadata": {},
   "outputs": [
    {
     "data": {
      "text/plain": [
       "0    1221794\n",
       "1     975497\n",
       "Name: outcome, dtype: int64"
      ]
     },
     "execution_count": 14,
     "metadata": {},
     "output_type": "execute_result"
    }
   ],
   "source": [
    "# check the datset is balanced or not--it is balanced dataset\n",
    "train['outcome'].value_counts()"
   ]
  },
  {
   "cell_type": "markdown",
   "metadata": {},
   "source": [
    "# 2. Exploratory Data Analysis"
   ]
  },
  {
   "cell_type": "markdown",
   "metadata": {},
   "source": [
    "## 2.1 People Characters"
   ]
  },
  {
   "cell_type": "markdown",
   "metadata": {},
   "source": [
    "The exploratory analysis is started with people characteristics.\n",
    "\n",
    "I hypothesized that 'date_people' is a data that people get registered or the first day that a people got connected with the Red Hat Platform. Undoubtedly, 'date' is the date that each activity happened on. I found that for each person, all 'date' are equal to, or later than 'date_people'. **Therefore, it is reasonable to hypothesize 'date_people' is a registration date or its equivalent**. \n",
    "\n",
    "I also created a column called 'date_diff', which is 'date' minus 'date_people', it indicates how long the activity performed since the first registration date."
   ]
  },
  {
   "cell_type": "code",
   "execution_count": 15,
   "metadata": {},
   "outputs": [
    {
     "data": {
      "text/plain": [
       "True    2197291\n",
       "dtype: int64"
      ]
     },
     "execution_count": 15,
     "metadata": {},
     "output_type": "execute_result"
    }
   ],
   "source": [
    "# therefore 'date_people' could be a registration date \n",
    "train['date'] = pd.to_datetime(train['date'])\n",
    "train['date_people'] = pd.to_datetime(train['date_people'])\n",
    "\n",
    "(train['date_people'] <= train['date']).value_counts()"
   ]
  },
  {
   "cell_type": "code",
   "execution_count": 16,
   "metadata": {},
   "outputs": [
    {
     "data": {
      "text/plain": [
       "0          788.0\n",
       "1          455.0\n",
       "2          455.0\n",
       "3          766.0\n",
       "4          788.0\n",
       "           ...  \n",
       "2197286    161.0\n",
       "2197287     83.0\n",
       "2197288     13.0\n",
       "2197289    116.0\n",
       "2197290    160.0\n",
       "Name: date_diff, Length: 2197291, dtype: float64"
      ]
     },
     "execution_count": 16,
     "metadata": {},
     "output_type": "execute_result"
    }
   ],
   "source": [
    "# a new column is created. It indicates the when is the activity date since the person registered. \n",
    "train['date_diff'] = train['date'] - train['date_people']\n",
    "train['date_diff'] = train['date_diff']/np.timedelta64 (1, 'D')\n",
    "train['date_diff']"
   ]
  },
  {
   "cell_type": "markdown",
   "metadata": {},
   "source": [
    "### 2.1.1 Bot Traffic"
   ]
  },
  {
   "cell_type": "markdown",
   "metadata": {},
   "source": [
    "**Are frequent users tending to have more business values? The answer is NO.** \n",
    "\n",
    "This hypothesis is related with the frequency that a people performed an activity. However, I found that for frequent users, some could have even more than 20000 activities in a single day, which is very different from the other users---98% of the people have no more than 5 activities a day. Through all those highly frequent visits, **no** business values were detected. Take 'ppl_294918' as an example, this users performed activities of more than 20,000 times in a single day, but none of those activities have business values. The other highly frequent users also have this character.\n",
    "\n",
    "Therefore I can reasonably infer those are **bot traffic**. According to the behaviors of those bot traffic, I first identify a list of bot people_id, who has performed more than 200 activities in a day but did not have any business values. \n",
    "\n",
    "Then I created a new column 'bot', which takes boolean variables, to identify if the users is judged to be a bot or not. This can be a very important parameter to identify if a visitor has a business value."
   ]
  },
  {
   "cell_type": "code",
   "execution_count": 17,
   "metadata": {},
   "outputs": [
    {
     "data": {
      "text/plain": [
       "ppl_294918    55103\n",
       "ppl_370270    53668\n",
       "ppl_105739    45936\n",
       "ppl_54699     23969\n",
       "ppl_64887      7052\n",
       "ppl_250020     4293\n",
       "ppl_351668     3144\n",
       "ppl_36839      3059\n",
       "ppl_372923     2365\n",
       "ppl_265578     1539\n",
       "Name: people_id, dtype: int64"
      ]
     },
     "execution_count": 17,
     "metadata": {},
     "output_type": "execute_result"
    }
   ],
   "source": [
    "# The most active users \n",
    "train['people_id'].value_counts().head(10)"
   ]
  },
  {
   "cell_type": "code",
   "execution_count": 18,
   "metadata": {},
   "outputs": [
    {
     "data": {
      "text/plain": [
       "outcome  date_diff\n",
       "0        3.0          20289\n",
       "         4.0          19928\n",
       "         2.0          12966\n",
       "         5.0           1914\n",
       "         1.0              3\n",
       "         19.0             1\n",
       "         17.0             1\n",
       "         0.0              1\n",
       "dtype: int64"
      ]
     },
     "execution_count": 18,
     "metadata": {},
     "output_type": "execute_result"
    }
   ],
   "source": [
    "# take 'ppl_294918' as an example, this users performed activities of more than 20,000 times in a single day\n",
    "# none of those activities have business values\n",
    "# the other highly frequent users also have this character\n",
    "train[train['people_id'].isin (['ppl_294918'])][['outcome', 'date_diff']].value_counts()"
   ]
  },
  {
   "cell_type": "code",
   "execution_count": 19,
   "metadata": {},
   "outputs": [
    {
     "name": "stdout",
     "output_type": "stream",
     "text": [
      "The Total Number of Activities Performed by Each Person per Day and Their Mean Outcomes\n"
     ]
    },
    {
     "data": {
      "text/html": [
       "<div>\n",
       "<style scoped>\n",
       "    .dataframe tbody tr th:only-of-type {\n",
       "        vertical-align: middle;\n",
       "    }\n",
       "\n",
       "    .dataframe tbody tr th {\n",
       "        vertical-align: top;\n",
       "    }\n",
       "\n",
       "    .dataframe thead th {\n",
       "        text-align: right;\n",
       "    }\n",
       "</style>\n",
       "<table border=\"1\" class=\"dataframe\">\n",
       "  <thead>\n",
       "    <tr style=\"text-align: right;\">\n",
       "      <th></th>\n",
       "      <th></th>\n",
       "      <th>act_cnt_daily</th>\n",
       "      <th>mean_outcome_daily</th>\n",
       "    </tr>\n",
       "    <tr>\n",
       "      <th>people_id</th>\n",
       "      <th>date_diff</th>\n",
       "      <th></th>\n",
       "      <th></th>\n",
       "    </tr>\n",
       "  </thead>\n",
       "  <tbody>\n",
       "    <tr>\n",
       "      <th rowspan=\"3\" valign=\"top\">ppl_100</th>\n",
       "      <th>455.0</th>\n",
       "      <td>2</td>\n",
       "      <td>0</td>\n",
       "    </tr>\n",
       "    <tr>\n",
       "      <th>766.0</th>\n",
       "      <td>2</td>\n",
       "      <td>0</td>\n",
       "    </tr>\n",
       "    <tr>\n",
       "      <th>788.0</th>\n",
       "      <td>2</td>\n",
       "      <td>0</td>\n",
       "    </tr>\n",
       "    <tr>\n",
       "      <th>ppl_100002</th>\n",
       "      <th>686.0</th>\n",
       "      <td>2</td>\n",
       "      <td>1</td>\n",
       "    </tr>\n",
       "    <tr>\n",
       "      <th>ppl_100003</th>\n",
       "      <th>61.0</th>\n",
       "      <td>4</td>\n",
       "      <td>1</td>\n",
       "    </tr>\n",
       "  </tbody>\n",
       "</table>\n",
       "</div>"
      ],
      "text/plain": [
       "                      act_cnt_daily  mean_outcome_daily\n",
       "people_id  date_diff                                   \n",
       "ppl_100    455.0                  2                   0\n",
       "           766.0                  2                   0\n",
       "           788.0                  2                   0\n",
       "ppl_100002 686.0                  2                   1\n",
       "ppl_100003 61.0                   4                   1"
      ]
     },
     "execution_count": 19,
     "metadata": {},
     "output_type": "execute_result"
    }
   ],
   "source": [
    "# create a frequency table\n",
    "freq = train.groupby(['people_id', 'date_diff'])['outcome'].agg(['count', 'mean'])\n",
    "freq.columns = ['act_cnt_daily', 'mean_outcome_daily']\n",
    "\n",
    "print('The Total Number of Activities Performed by Each Person per Day and Their Mean Outcomes')\n",
    "freq.head()"
   ]
  },
  {
   "cell_type": "markdown",
   "metadata": {},
   "source": [
    "99% of people performed equal to, or less than 12 activities a day."
   ]
  },
  {
   "cell_type": "code",
   "execution_count": 20,
   "metadata": {},
   "outputs": [
    {
     "data": {
      "text/html": [
       "<div>\n",
       "<style scoped>\n",
       "    .dataframe tbody tr th:only-of-type {\n",
       "        vertical-align: middle;\n",
       "    }\n",
       "\n",
       "    .dataframe tbody tr th {\n",
       "        vertical-align: top;\n",
       "    }\n",
       "\n",
       "    .dataframe thead th {\n",
       "        text-align: right;\n",
       "    }\n",
       "</style>\n",
       "<table border=\"1\" class=\"dataframe\">\n",
       "  <thead>\n",
       "    <tr style=\"text-align: right;\">\n",
       "      <th></th>\n",
       "      <th>act_cnt_daily</th>\n",
       "      <th>mean_outcome_daily</th>\n",
       "    </tr>\n",
       "  </thead>\n",
       "  <tbody>\n",
       "    <tr>\n",
       "      <th>count</th>\n",
       "      <td>915274.000000</td>\n",
       "      <td>915274.000000</td>\n",
       "    </tr>\n",
       "    <tr>\n",
       "      <th>mean</th>\n",
       "      <td>2.400692</td>\n",
       "      <td>0.496426</td>\n",
       "    </tr>\n",
       "    <tr>\n",
       "      <th>std</th>\n",
       "      <td>57.578512</td>\n",
       "      <td>0.499988</td>\n",
       "    </tr>\n",
       "    <tr>\n",
       "      <th>min</th>\n",
       "      <td>1.000000</td>\n",
       "      <td>0.000000</td>\n",
       "    </tr>\n",
       "    <tr>\n",
       "      <th>25%</th>\n",
       "      <td>1.000000</td>\n",
       "      <td>0.000000</td>\n",
       "    </tr>\n",
       "    <tr>\n",
       "      <th>50%</th>\n",
       "      <td>1.000000</td>\n",
       "      <td>0.000000</td>\n",
       "    </tr>\n",
       "    <tr>\n",
       "      <th>75%</th>\n",
       "      <td>2.000000</td>\n",
       "      <td>1.000000</td>\n",
       "    </tr>\n",
       "    <tr>\n",
       "      <th>90%</th>\n",
       "      <td>4.000000</td>\n",
       "      <td>1.000000</td>\n",
       "    </tr>\n",
       "    <tr>\n",
       "      <th>99%</th>\n",
       "      <td>12.000000</td>\n",
       "      <td>1.000000</td>\n",
       "    </tr>\n",
       "    <tr>\n",
       "      <th>max</th>\n",
       "      <td>22994.000000</td>\n",
       "      <td>1.000000</td>\n",
       "    </tr>\n",
       "  </tbody>\n",
       "</table>\n",
       "</div>"
      ],
      "text/plain": [
       "       act_cnt_daily  mean_outcome_daily\n",
       "count  915274.000000       915274.000000\n",
       "mean        2.400692            0.496426\n",
       "std        57.578512            0.499988\n",
       "min         1.000000            0.000000\n",
       "25%         1.000000            0.000000\n",
       "50%         1.000000            0.000000\n",
       "75%         2.000000            1.000000\n",
       "90%         4.000000            1.000000\n",
       "99%        12.000000            1.000000\n",
       "max     22994.000000            1.000000"
      ]
     },
     "execution_count": 20,
     "metadata": {},
     "output_type": "execute_result"
    }
   ],
   "source": [
    "# the table shows that people could performed 22,994 activities a day\n",
    "# 90% percent of people only performed 4 activities a day, 99 percent of people performed 12 activities\n",
    "freq.describe(percentiles=[0.25, 0.5, 0.75, 0.9, 0.99])"
   ]
  },
  {
   "cell_type": "code",
   "execution_count": 21,
   "metadata": {},
   "outputs": [
    {
     "data": {
      "text/plain": [
       "Text(0.5, 1.0, 'Figure 1.The Total Number of Activities Performed by Each Person per Day')"
      ]
     },
     "execution_count": 21,
     "metadata": {},
     "output_type": "execute_result"
    },
    {
     "data": {
      "image/png": "[encoded data removed]",
      "text/plain": [
       "<Figure size 864x720 with 1 Axes>"
      ]
     },
     "metadata": {
      "needs_background": "light"
     },
     "output_type": "display_data"
    }
   ],
   "source": [
    "fig, axes = plt.subplots(figsize=(12, 10))\n",
    "\n",
    "sns.scatterplot(data=freq, x='date_diff', y='act_cnt_daily',hue='mean_outcome_daily')\n",
    "\n",
    "axes.set_yscale('log')\n",
    "axes.set(xlabel='Date Since the First Day per User', ylabel='Number of Activities Daily per User')\n",
    "axes.set_title('Figure 1.The Total Number of Activities Performed by Each Person per Day')"
   ]
  },
  {
   "cell_type": "code",
   "execution_count": 22,
   "metadata": {},
   "outputs": [
    {
     "data": {
      "text/html": [
       "<div>\n",
       "<style scoped>\n",
       "    .dataframe tbody tr th:only-of-type {\n",
       "        vertical-align: middle;\n",
       "    }\n",
       "\n",
       "    .dataframe tbody tr th {\n",
       "        vertical-align: top;\n",
       "    }\n",
       "\n",
       "    .dataframe thead th {\n",
       "        text-align: right;\n",
       "    }\n",
       "</style>\n",
       "<table border=\"1\" class=\"dataframe\">\n",
       "  <thead>\n",
       "    <tr style=\"text-align: right;\">\n",
       "      <th></th>\n",
       "      <th>people_id</th>\n",
       "      <th>bot</th>\n",
       "    </tr>\n",
       "  </thead>\n",
       "  <tbody>\n",
       "    <tr>\n",
       "      <th>0</th>\n",
       "      <td>ppl_100</td>\n",
       "      <td>False</td>\n",
       "    </tr>\n",
       "    <tr>\n",
       "      <th>1</th>\n",
       "      <td>ppl_100</td>\n",
       "      <td>False</td>\n",
       "    </tr>\n",
       "    <tr>\n",
       "      <th>2</th>\n",
       "      <td>ppl_100</td>\n",
       "      <td>False</td>\n",
       "    </tr>\n",
       "    <tr>\n",
       "      <th>3</th>\n",
       "      <td>ppl_100</td>\n",
       "      <td>False</td>\n",
       "    </tr>\n",
       "    <tr>\n",
       "      <th>4</th>\n",
       "      <td>ppl_100</td>\n",
       "      <td>False</td>\n",
       "    </tr>\n",
       "  </tbody>\n",
       "</table>\n",
       "</div>"
      ],
      "text/plain": [
       "  people_id    bot\n",
       "0   ppl_100  False\n",
       "1   ppl_100  False\n",
       "2   ppl_100  False\n",
       "3   ppl_100  False\n",
       "4   ppl_100  False"
      ]
     },
     "execution_count": 22,
     "metadata": {},
     "output_type": "execute_result"
    }
   ],
   "source": [
    "# based on the analysis above, I set more than 300 times of activities a day as a threshold\n",
    "rob_id = freq[freq['act_cnt_daily']>300].index.get_level_values(0).unique()\n",
    "rob_id = pd.Series(rob_id)\n",
    "\n",
    "# create a new feature called 'rob'\n",
    "train['bot'] = train['people_id'].isin(rob_id)\n",
    "train[['people_id', 'bot']].head()"
   ]
  },
  {
   "cell_type": "code",
   "execution_count": 23,
   "metadata": {},
   "outputs": [
    {
     "data": {
      "text/plain": [
       "False    1999755\n",
       "True      197536\n",
       "Name: bot, dtype: int64"
      ]
     },
     "execution_count": 23,
     "metadata": {},
     "output_type": "execute_result"
    }
   ],
   "source": [
    "# there are 197536 activities are performed by 'bot'\n",
    "train['bot'].value_counts()"
   ]
  },
  {
   "cell_type": "code",
   "execution_count": 24,
   "metadata": {
    "scrolled": false
   },
   "outputs": [
    {
     "data": {
      "text/plain": [
       "0    189005\n",
       "1      8531\n",
       "Name: outcome, dtype: int64"
      ]
     },
     "execution_count": 24,
     "metadata": {},
     "output_type": "execute_result"
    }
   ],
   "source": [
    "# Among the activities that marked by 'bot', only 0.007% have business values\n",
    "# Therfore, 'bot' is a good indicator to show if an activity has business value or not\n",
    "train[train['bot']]['outcome'].value_counts()"
   ]
  },
  {
   "cell_type": "markdown",
   "metadata": {},
   "source": [
    "There is a moderate correlation between outcome and bot."
   ]
  },
  {
   "cell_type": "code",
   "execution_count": 25,
   "metadata": {
    "scrolled": false
   },
   "outputs": [
    {
     "data": {
      "text/html": [
       "<div>\n",
       "<style scoped>\n",
       "    .dataframe tbody tr th:only-of-type {\n",
       "        vertical-align: middle;\n",
       "    }\n",
       "\n",
       "    .dataframe tbody tr th {\n",
       "        vertical-align: top;\n",
       "    }\n",
       "\n",
       "    .dataframe thead th {\n",
       "        text-align: right;\n",
       "    }\n",
       "</style>\n",
       "<table border=\"1\" class=\"dataframe\">\n",
       "  <thead>\n",
       "    <tr style=\"text-align: right;\">\n",
       "      <th></th>\n",
       "      <th>bot</th>\n",
       "      <th>outcome</th>\n",
       "    </tr>\n",
       "  </thead>\n",
       "  <tbody>\n",
       "    <tr>\n",
       "      <th>bot</th>\n",
       "      <td>1.000000</td>\n",
       "      <td>-0.253514</td>\n",
       "    </tr>\n",
       "    <tr>\n",
       "      <th>outcome</th>\n",
       "      <td>-0.253514</td>\n",
       "      <td>1.000000</td>\n",
       "    </tr>\n",
       "  </tbody>\n",
       "</table>\n",
       "</div>"
      ],
      "text/plain": [
       "              bot   outcome\n",
       "bot      1.000000 -0.253514\n",
       "outcome -0.253514  1.000000"
      ]
     },
     "execution_count": 25,
     "metadata": {},
     "output_type": "execute_result"
    }
   ],
   "source": [
    "# good correlation\n",
    "train[['bot', 'outcome']].corr()"
   ]
  },
  {
   "cell_type": "markdown",
   "metadata": {},
   "source": [
    "### 2.1.2 Activity Date and Frequency"
   ]
  },
  {
   "cell_type": "markdown",
   "metadata": {},
   "source": [
    "**Will active new users have more business value? --Seems no.**\n",
    "\n",
    "A new hypothesis based on 'date_diff' is that people performed activities within the **first day, first week, or first month** since they first appeared on this platform, is a sign of more interests on the platform. Therefore, they may have more business values. \n",
    "\n",
    "The results show that people come back to perform activities within the first week and month do have more business values, but with a weak correlation."
   ]
  },
  {
   "cell_type": "code",
   "execution_count": 26,
   "metadata": {},
   "outputs": [],
   "source": [
    "# create three datasets that contains first day, week, and month user behavior, respectively\n",
    "first_day_act = train[(train['date_diff'] == 0) & ~(train['bot'])]\n",
    "first_week_act = train[(train['date_diff'] <= 7) & ~(train['bot'])]\n",
    "first_month_act = train[(train['date_diff'] <= 30) & ~(train['bot'])]"
   ]
  },
  {
   "cell_type": "code",
   "execution_count": 27,
   "metadata": {},
   "outputs": [],
   "source": [
    "# create three new columns to identify is this user performed activities within the first day, week, or month\n",
    "# since this user first appeared\n",
    "# first day\n",
    "first_day_user_lst = first_day_act['people_id'].unique()\n",
    "train['first_day_user'] = train['people_id'].isin(first_day_user_lst)\n",
    "\n",
    "# first week\n",
    "first_week_user_lst = first_week_act['people_id'].unique()\n",
    "train['first_week_user'] = train['people_id'].isin(first_week_user_lst)\n",
    "\n",
    "# first month\n",
    "first_month_user_lst = first_month_act['people_id'].unique()\n",
    "train['first_month_user'] = train['people_id'].isin(first_month_user_lst)"
   ]
  },
  {
   "cell_type": "code",
   "execution_count": 28,
   "metadata": {
    "scrolled": true
   },
   "outputs": [
    {
     "name": "stdout",
     "output_type": "stream",
     "text": [
      "Correlation of  first_day_user  with Outcome:  -0.0313\n",
      "Correlation of  first_week_user  with Outcome:  0.0211\n",
      "Correlation of  first_month_user  with Outcome:  0.0368\n"
     ]
    }
   ],
   "source": [
    "# calculate their correlation with outcome\n",
    "time_lst = ['day', 'week', 'month']\n",
    "\n",
    "for i in time_lst:\n",
    "    time_range = 'first_' + i + '_user'\n",
    "    print('Correlation of ', time_range, ' with Outcome: ', train[[time_range, 'outcome']].corr().iloc[1,0].round(4))"
   ]
  },
  {
   "cell_type": "code",
   "execution_count": 29,
   "metadata": {
    "scrolled": true
   },
   "outputs": [
    {
     "data": {
      "image/png": "[encoded data removed]",
      "text/plain": [
       "<Figure size 1440x576 with 3 Axes>"
      ]
     },
     "metadata": {
      "needs_background": "light"
     },
     "output_type": "display_data"
    }
   ],
   "source": [
    "time_lst = ['Day', 'Week', 'Month']\n",
    "fig, axes = plt.subplots(1, 3, figsize=(20, 8))\n",
    "\n",
    "sns.countplot(data=train[~train['bot']], x='first_day_user', hue='outcome', ax=axes[0])\n",
    "sns.countplot(data=train[~train['bot']], x='first_week_user', hue='outcome', ax=axes[1])\n",
    "sns.countplot(data=train[~train['bot']], x='first_month_user', hue='outcome', ax=axes[2])\n",
    "\n",
    "for i in range(3):\n",
    "    axes[i].set_xlabel('First ' + time_lst[i] + ' User', fontsize=16)\n",
    "    axes[i].set_ylabel('Count', fontsize=16)\n",
    "    \n",
    "plt.suptitle('If the first day, week, or month user could have more business values', fontsize=20)\n",
    "plt.tight_layout()"
   ]
  },
  {
   "cell_type": "markdown",
   "metadata": {},
   "source": [
    "**Will frequent people(user) have more business values? Emmm, still no.**\n",
    "\n",
    "The correlation result showed that the total number of activities per person did have a positive effect, but there is only a weak correlation."
   ]
  },
  {
   "cell_type": "code",
   "execution_count": 30,
   "metadata": {},
   "outputs": [
    {
     "data": {
      "text/html": [
       "<div>\n",
       "<style scoped>\n",
       "    .dataframe tbody tr th:only-of-type {\n",
       "        vertical-align: middle;\n",
       "    }\n",
       "\n",
       "    .dataframe tbody tr th {\n",
       "        vertical-align: top;\n",
       "    }\n",
       "\n",
       "    .dataframe thead th {\n",
       "        text-align: right;\n",
       "    }\n",
       "</style>\n",
       "<table border=\"1\" class=\"dataframe\">\n",
       "  <thead>\n",
       "    <tr style=\"text-align: right;\">\n",
       "      <th></th>\n",
       "      <th>total_cnt_activity</th>\n",
       "      <th>mean_outcome</th>\n",
       "    </tr>\n",
       "    <tr>\n",
       "      <th>people_id</th>\n",
       "      <th></th>\n",
       "      <th></th>\n",
       "    </tr>\n",
       "  </thead>\n",
       "  <tbody>\n",
       "    <tr>\n",
       "      <th>ppl_100</th>\n",
       "      <td>6</td>\n",
       "      <td>0.0</td>\n",
       "    </tr>\n",
       "    <tr>\n",
       "      <th>ppl_100002</th>\n",
       "      <td>2</td>\n",
       "      <td>1.0</td>\n",
       "    </tr>\n",
       "    <tr>\n",
       "      <th>ppl_100003</th>\n",
       "      <td>34</td>\n",
       "      <td>1.0</td>\n",
       "    </tr>\n",
       "    <tr>\n",
       "      <th>ppl_100006</th>\n",
       "      <td>3</td>\n",
       "      <td>1.0</td>\n",
       "    </tr>\n",
       "    <tr>\n",
       "      <th>ppl_100013</th>\n",
       "      <td>5</td>\n",
       "      <td>1.0</td>\n",
       "    </tr>\n",
       "    <tr>\n",
       "      <th>ppl_100019</th>\n",
       "      <td>2</td>\n",
       "      <td>1.0</td>\n",
       "    </tr>\n",
       "    <tr>\n",
       "      <th>ppl_100025</th>\n",
       "      <td>46</td>\n",
       "      <td>0.0</td>\n",
       "    </tr>\n",
       "    <tr>\n",
       "      <th>ppl_100028</th>\n",
       "      <td>3</td>\n",
       "      <td>0.0</td>\n",
       "    </tr>\n",
       "    <tr>\n",
       "      <th>ppl_100029</th>\n",
       "      <td>1</td>\n",
       "      <td>0.0</td>\n",
       "    </tr>\n",
       "    <tr>\n",
       "      <th>ppl_100032</th>\n",
       "      <td>3</td>\n",
       "      <td>0.0</td>\n",
       "    </tr>\n",
       "  </tbody>\n",
       "</table>\n",
       "</div>"
      ],
      "text/plain": [
       "            total_cnt_activity  mean_outcome\n",
       "people_id                                   \n",
       "ppl_100                      6           0.0\n",
       "ppl_100002                   2           1.0\n",
       "ppl_100003                  34           1.0\n",
       "ppl_100006                   3           1.0\n",
       "ppl_100013                   5           1.0\n",
       "ppl_100019                   2           1.0\n",
       "ppl_100025                  46           0.0\n",
       "ppl_100028                   3           0.0\n",
       "ppl_100029                   1           0.0\n",
       "ppl_100032                   3           0.0"
      ]
     },
     "execution_count": 30,
     "metadata": {},
     "output_type": "execute_result"
    }
   ],
   "source": [
    "# create a new table to summarize the number of activities each people has performed in total, and their results\n",
    "activity_stats = train[~train['bot']].groupby('people_id').agg({'activity_id':'count', 'outcome':'mean'})\n",
    "activity_stats.columns = ['total_cnt_activity', 'mean_outcome']\n",
    "activity_stats.head(10)"
   ]
  },
  {
   "cell_type": "code",
   "execution_count": 31,
   "metadata": {},
   "outputs": [
    {
     "data": {
      "text/html": [
       "<div>\n",
       "<style scoped>\n",
       "    .dataframe tbody tr th:only-of-type {\n",
       "        vertical-align: middle;\n",
       "    }\n",
       "\n",
       "    .dataframe tbody tr th {\n",
       "        vertical-align: top;\n",
       "    }\n",
       "\n",
       "    .dataframe thead th {\n",
       "        text-align: right;\n",
       "    }\n",
       "</style>\n",
       "<table border=\"1\" class=\"dataframe\">\n",
       "  <thead>\n",
       "    <tr style=\"text-align: right;\">\n",
       "      <th></th>\n",
       "      <th>total_cnt_activity</th>\n",
       "      <th>mean_outcome</th>\n",
       "    </tr>\n",
       "  </thead>\n",
       "  <tbody>\n",
       "    <tr>\n",
       "      <th>total_cnt_activity</th>\n",
       "      <td>1.0000</td>\n",
       "      <td>0.0452</td>\n",
       "    </tr>\n",
       "    <tr>\n",
       "      <th>mean_outcome</th>\n",
       "      <td>0.0452</td>\n",
       "      <td>1.0000</td>\n",
       "    </tr>\n",
       "  </tbody>\n",
       "</table>\n",
       "</div>"
      ],
      "text/plain": [
       "                    total_cnt_activity  mean_outcome\n",
       "total_cnt_activity              1.0000        0.0452\n",
       "mean_outcome                    0.0452        1.0000"
      ]
     },
     "execution_count": 31,
     "metadata": {},
     "output_type": "execute_result"
    }
   ],
   "source": [
    "activity_stats[['total_cnt_activity', 'mean_outcome']].corr().round(4)"
   ]
  },
  {
   "cell_type": "markdown",
   "metadata": {},
   "source": [
    "**Is there a time series pattern of activities that have business values?**\n",
    "\n",
    "To answer this question, I calculated the their correlation with the outcome, but only found a weak correlation. \n",
    "\n",
    "The figures below showed that in certain months, i.e.April, May, Aug, Sep, Oct, the activities tend to have no business values. In the other months, there is no big differences. For days in a week, there is no obvious pattern. For days in a month, in certain days like 18th, 19th, 20th, 22nd, 23rd, the activities tend to have less business values.\n",
    "\n",
    "I will still include them in the following Random Forest modeling to see if those parameters is important or not."
   ]
  },
  {
   "cell_type": "code",
   "execution_count": 32,
   "metadata": {
    "scrolled": true
   },
   "outputs": [
    {
     "data": {
      "text/plain": [
       "month         -0.059040\n",
       "week          -0.062925\n",
       "day           -0.052264\n",
       "day_of_week    0.006306\n",
       "outcome        1.000000\n",
       "Name: outcome, dtype: float64"
      ]
     },
     "execution_count": 32,
     "metadata": {},
     "output_type": "execute_result"
    }
   ],
   "source": [
    "# transform date data into an appropriate data type\n",
    "train['month'] = train['date'].dt.month\n",
    "train['week'] = train['date'].dt.isocalendar().week\n",
    "train['day_of_week'] = train['date'].dt.dayofweek\n",
    "train['day'] = train['date'].dt.day\n",
    "\n",
    "train[['date','month', 'week', 'day', 'day_of_week','outcome']].corr()['outcome']"
   ]
  },
  {
   "cell_type": "code",
   "execution_count": 33,
   "metadata": {},
   "outputs": [
    {
     "data": {
      "image/png": "[encoded data removed]",
      "text/plain": [
       "<Figure size 1080x1080 with 3 Axes>"
      ]
     },
     "metadata": {
      "needs_background": "light"
     },
     "output_type": "display_data"
    }
   ],
   "source": [
    "fig, axes = plt.subplots(3, 1, figsize=(15, 15))\n",
    "\n",
    "sns.countplot(data=train, x='month', hue='outcome', ax=axes[0])\n",
    "axes[0].set(xlabel='Month', ylabel='Count')\n",
    "\n",
    "sns.countplot(data=train, x='day_of_week', hue='outcome', ax=axes[1])\n",
    "axes[1].set(xlabel='Day of a Week', ylabel='Count')\n",
    "\n",
    "sns.countplot(data=train, x='day', hue='outcome', ax=axes[2])\n",
    "axes[2].set(xlabel='Day in a Month', ylabel='Count')\n",
    "\n",
    "plt.suptitle('Time Series Patterns of Business Values')\n",
    "plt.tight_layout()"
   ]
  },
  {
   "cell_type": "markdown",
   "metadata": {},
   "source": [
    "### 2.1.3 People Groups"
   ]
  },
  {
   "cell_type": "markdown",
   "metadata": {},
   "source": [
    "All the 'people_id' in this dataset are grouped into 29,899 groups.I found that among certain groups, the total number of activities performed equals to the sum of outcomes, which means all the activity that performed by the people that belongs to this group have positive business values. On the other hand, for some groups, none of the activities in those groups have positive values. I conducted the analysis step by step in the following."
   ]
  },
  {
   "cell_type": "code",
   "execution_count": 34,
   "metadata": {},
   "outputs": [
    {
     "data": {
      "text/html": [
       "<div>\n",
       "<style scoped>\n",
       "    .dataframe tbody tr th:only-of-type {\n",
       "        vertical-align: middle;\n",
       "    }\n",
       "\n",
       "    .dataframe tbody tr th {\n",
       "        vertical-align: top;\n",
       "    }\n",
       "\n",
       "    .dataframe thead th {\n",
       "        text-align: right;\n",
       "    }\n",
       "</style>\n",
       "<table border=\"1\" class=\"dataframe\">\n",
       "  <thead>\n",
       "    <tr style=\"text-align: right;\">\n",
       "      <th></th>\n",
       "      <th>sum_outcome</th>\n",
       "      <th>cnt_activity</th>\n",
       "      <th>cnt_people</th>\n",
       "      <th>cnt_bot</th>\n",
       "    </tr>\n",
       "    <tr>\n",
       "      <th>group_1_people</th>\n",
       "      <th></th>\n",
       "      <th></th>\n",
       "      <th></th>\n",
       "      <th></th>\n",
       "    </tr>\n",
       "  </thead>\n",
       "  <tbody>\n",
       "    <tr>\n",
       "      <th>group 667</th>\n",
       "      <td>15865</td>\n",
       "      <td>15865</td>\n",
       "      <td>1237</td>\n",
       "      <td>0</td>\n",
       "    </tr>\n",
       "    <tr>\n",
       "      <th>group 8386</th>\n",
       "      <td>7929</td>\n",
       "      <td>7929</td>\n",
       "      <td>819</td>\n",
       "      <td>0</td>\n",
       "    </tr>\n",
       "    <tr>\n",
       "      <th>group 20472</th>\n",
       "      <td>7052</td>\n",
       "      <td>7053</td>\n",
       "      <td>2</td>\n",
       "      <td>7052</td>\n",
       "    </tr>\n",
       "    <tr>\n",
       "      <th>group 9280</th>\n",
       "      <td>5492</td>\n",
       "      <td>5492</td>\n",
       "      <td>546</td>\n",
       "      <td>0</td>\n",
       "    </tr>\n",
       "    <tr>\n",
       "      <th>group 17899</th>\n",
       "      <td>4767</td>\n",
       "      <td>4767</td>\n",
       "      <td>339</td>\n",
       "      <td>0</td>\n",
       "    </tr>\n",
       "    <tr>\n",
       "      <th>...</th>\n",
       "      <td>...</td>\n",
       "      <td>...</td>\n",
       "      <td>...</td>\n",
       "      <td>...</td>\n",
       "    </tr>\n",
       "    <tr>\n",
       "      <th>group 29900</th>\n",
       "      <td>0</td>\n",
       "      <td>19</td>\n",
       "      <td>1</td>\n",
       "      <td>0</td>\n",
       "    </tr>\n",
       "    <tr>\n",
       "      <th>group 29911</th>\n",
       "      <td>0</td>\n",
       "      <td>3</td>\n",
       "      <td>1</td>\n",
       "      <td>0</td>\n",
       "    </tr>\n",
       "    <tr>\n",
       "      <th>group 29918</th>\n",
       "      <td>0</td>\n",
       "      <td>21</td>\n",
       "      <td>1</td>\n",
       "      <td>0</td>\n",
       "    </tr>\n",
       "    <tr>\n",
       "      <th>group 29919</th>\n",
       "      <td>0</td>\n",
       "      <td>15</td>\n",
       "      <td>1</td>\n",
       "      <td>0</td>\n",
       "    </tr>\n",
       "    <tr>\n",
       "      <th>group 9999</th>\n",
       "      <td>0</td>\n",
       "      <td>8</td>\n",
       "      <td>2</td>\n",
       "      <td>0</td>\n",
       "    </tr>\n",
       "  </tbody>\n",
       "</table>\n",
       "<p>29899 rows × 4 columns</p>\n",
       "</div>"
      ],
      "text/plain": [
       "                sum_outcome  cnt_activity  cnt_people  cnt_bot\n",
       "group_1_people                                                \n",
       "group 667             15865         15865        1237        0\n",
       "group 8386             7929          7929         819        0\n",
       "group 20472            7052          7053           2     7052\n",
       "group 9280             5492          5492         546        0\n",
       "group 17899            4767          4767         339        0\n",
       "...                     ...           ...         ...      ...\n",
       "group 29900               0            19           1        0\n",
       "group 29911               0             3           1        0\n",
       "group 29918               0            21           1        0\n",
       "group 29919               0            15           1        0\n",
       "group 9999                0             8           2        0\n",
       "\n",
       "[29899 rows x 4 columns]"
      ]
     },
     "execution_count": 34,
     "metadata": {},
     "output_type": "execute_result"
    }
   ],
   "source": [
    "# create a summary table to summarize that, in each group, how many unique people, how many bot accounts\n",
    "# how many activities and what are the outcomes\n",
    "people_group = train.groupby('group_1_people').agg({'outcome':'sum', 'activity_id':'count',\\\n",
    "                                                    'people_id':'nunique', 'bot':'sum'})\n",
    "people_group.columns = ['sum_outcome', 'cnt_activity', 'cnt_people', 'cnt_bot']\n",
    "people_group.sort_values(by='sum_outcome', ascending=False)"
   ]
  },
  {
   "cell_type": "code",
   "execution_count": 35,
   "metadata": {},
   "outputs": [],
   "source": [
    "# for groups with sum_outcome = cnt_activity, it means all the results in this group is positive\n",
    "#I mark those as positive groups\n",
    "people_group[people_group['sum_outcome'] == people_group['cnt_activity']].describe(percentiles=[0.25, 0.5, 0.75, 0.9])\n",
    "positive_groups = people_group[people_group['sum_outcome'] == people_group['cnt_activity']].index\n",
    "\n",
    "train['positive_group'] = train['group_1_people'].isin(positive_groups)"
   ]
  },
  {
   "cell_type": "code",
   "execution_count": 36,
   "metadata": {},
   "outputs": [],
   "source": [
    "# use the same method to mark negative groups \n",
    "negative_groups = people_group[people_group['sum_outcome'] == 0].index\n",
    "\n",
    "train['negative_group'] = train['group_1_people'].isin(negative_groups)"
   ]
  },
  {
   "cell_type": "code",
   "execution_count": 37,
   "metadata": {},
   "outputs": [
    {
     "data": {
      "text/plain": [
       "0.009886307464162135"
      ]
     },
     "execution_count": 37,
     "metadata": {},
     "output_type": "execute_result"
    }
   ],
   "source": [
    "# to test if the 'bot' column that created before is duplicate with groups\n",
    "# the result shows that in nagative groups, only 0.0098 percent of people_id in the negative_group are identified as rob\n",
    "# therefore, those two columns are not duplicated.\n",
    "train[(train['bot']) & (train['negative_group'])]['people_id'].nunique()/train[train['negative_group']]['people_id'].nunique() *100"
   ]
  },
  {
   "cell_type": "markdown",
   "metadata": {},
   "source": [
    "### 2.1.4 People Characteristics"
   ]
  },
  {
   "cell_type": "markdown",
   "metadata": {},
   "source": [
    "People characteristics are complicated. There are 38 different kinds of characters. Among them, 10 characters are object data, and 28 of them are boolean data.\n",
    "\n",
    "I use Label Encoder to transform them into integers. I did not use One Hot Encoder because one hot encoder will created too many columns. \n",
    "\n",
    "The correlation results showed that most of the people char are correlated with the outcome. I will use them all in the random forest model to test if a feature is important."
   ]
  },
  {
   "cell_type": "code",
   "execution_count": 38,
   "metadata": {},
   "outputs": [
    {
     "name": "stdout",
     "output_type": "stream",
     "text": [
      "car_char_people:  ['char_1_people', 'char_2_people', 'char_3_people', 'char_4_people', 'char_5_people', 'char_6_people', 'char_7_people', 'char_8_people', 'char_9_people', 'char_38_people'] \n",
      " \n",
      " boo_char_people:  ['char_10_people', 'char_11_people', 'char_12_people', 'char_13_people', 'char_14_people', 'char_15_people', 'char_16_people', 'char_17_people', 'char_18_people', 'char_19_people', 'char_20_people', 'char_21_people', 'char_22_people', 'char_23_people', 'char_24_people', 'char_25_people', 'char_26_people', 'char_27_people', 'char_28_people', 'char_29_people', 'char_30_people', 'char_31_people', 'char_32_people', 'char_33_people', 'char_34_people', 'char_35_people', 'char_36_people', 'char_37_people']\n"
     ]
    }
   ],
   "source": [
    "cat_char_people = []\n",
    "\n",
    "for i in range(1, 10):\n",
    "    cat_char_people.append('char_' + str(i) + '_people')\n",
    "\n",
    "cat_char_people.append('char_38_people')\n",
    "\n",
    "boo_char_people = []\n",
    "\n",
    "for i in range(10, 38):\n",
    "    boo_char_people.append('char_' + str(i) + '_people')\n",
    "    \n",
    "print('car_char_people: ', cat_char_people,'\\n','\\n' ,'boo_char_people: ',boo_char_people)"
   ]
  },
  {
   "cell_type": "code",
   "execution_count": 39,
   "metadata": {},
   "outputs": [],
   "source": [
    "le = LabelEncoder()\n",
    "people_char = []\n",
    "\n",
    "for i in range(1, 39):\n",
    "    col = 'char_' + str(i) + '_people'\n",
    "    people_char.append(col)\n",
    "    train[col] = le.fit_transform(train[col])"
   ]
  },
  {
   "cell_type": "code",
   "execution_count": 40,
   "metadata": {
    "scrolled": true
   },
   "outputs": [
    {
     "name": "stdout",
     "output_type": "stream",
     "text": [
      "<class 'pandas.core.frame.DataFrame'>\n",
      "Int64Index: 2197291 entries, 0 to 2197290\n",
      "Data columns (total 38 columns):\n",
      " #   Column          Dtype\n",
      "---  ------          -----\n",
      " 0   char_1_people   int32\n",
      " 1   char_2_people   int32\n",
      " 2   char_3_people   int32\n",
      " 3   char_4_people   int32\n",
      " 4   char_5_people   int32\n",
      " 5   char_6_people   int32\n",
      " 6   char_7_people   int32\n",
      " 7   char_8_people   int32\n",
      " 8   char_9_people   int32\n",
      " 9   char_10_people  int64\n",
      " 10  char_11_people  int64\n",
      " 11  char_12_people  int64\n",
      " 12  char_13_people  int64\n",
      " 13  char_14_people  int64\n",
      " 14  char_15_people  int64\n",
      " 15  char_16_people  int64\n",
      " 16  char_17_people  int64\n",
      " 17  char_18_people  int64\n",
      " 18  char_19_people  int64\n",
      " 19  char_20_people  int64\n",
      " 20  char_21_people  int64\n",
      " 21  char_22_people  int64\n",
      " 22  char_23_people  int64\n",
      " 23  char_24_people  int64\n",
      " 24  char_25_people  int64\n",
      " 25  char_26_people  int64\n",
      " 26  char_27_people  int64\n",
      " 27  char_28_people  int64\n",
      " 28  char_29_people  int64\n",
      " 29  char_30_people  int64\n",
      " 30  char_31_people  int64\n",
      " 31  char_32_people  int64\n",
      " 32  char_33_people  int64\n",
      " 33  char_34_people  int64\n",
      " 34  char_35_people  int64\n",
      " 35  char_36_people  int64\n",
      " 36  char_37_people  int64\n",
      " 37  char_38_people  int64\n",
      "dtypes: int32(9), int64(29)\n",
      "memory usage: 658.4 MB\n"
     ]
    }
   ],
   "source": [
    "train[people_char].info()"
   ]
  },
  {
   "cell_type": "code",
   "execution_count": 41,
   "metadata": {
    "scrolled": true
   },
   "outputs": [
    {
     "name": "stdout",
     "output_type": "stream",
     "text": [
      "The correlation between people characteristics and outcome:\n"
     ]
    },
    {
     "data": {
      "text/plain": [
       "char_1_people    -0.160\n",
       "char_2_people     0.352\n",
       "char_3_people     0.039\n",
       "char_4_people     0.003\n",
       "char_5_people    -0.081\n",
       "char_6_people    -0.234\n",
       "char_7_people    -0.047\n",
       "char_8_people    -0.058\n",
       "char_9_people     0.041\n",
       "char_10_people    0.269\n",
       "char_11_people    0.226\n",
       "char_12_people    0.225\n",
       "char_13_people    0.322\n",
       "char_14_people    0.248\n",
       "char_15_people    0.264\n",
       "char_16_people    0.279\n",
       "char_17_people    0.287\n",
       "char_18_people    0.211\n",
       "char_19_people    0.279\n",
       "char_20_people    0.271\n",
       "char_21_people    0.279\n",
       "char_22_people    0.286\n",
       "char_23_people    0.271\n",
       "char_24_people    0.221\n",
       "char_25_people    0.289\n",
       "char_26_people    0.173\n",
       "char_27_people    0.235\n",
       "char_28_people    0.278\n",
       "char_29_people    0.188\n",
       "char_30_people    0.211\n",
       "char_31_people    0.254\n",
       "char_32_people    0.279\n",
       "char_33_people    0.213\n",
       "char_34_people    0.314\n",
       "char_35_people    0.215\n",
       "char_36_people    0.316\n",
       "char_37_people    0.289\n",
       "char_38_people    0.677\n",
       "outcome           1.000\n",
       "Name: outcome, dtype: float64"
      ]
     },
     "execution_count": 41,
     "metadata": {},
     "output_type": "execute_result"
    }
   ],
   "source": [
    "print('The correlation between people characteristics and outcome:')\n",
    "train[people_char + ['outcome']].corr()['outcome'].round(3)"
   ]
  },
  {
   "cell_type": "markdown",
   "metadata": {},
   "source": [
    "## 2.2 Activity Characters"
   ]
  },
  {
   "cell_type": "markdown",
   "metadata": {},
   "source": [
    "### 2.2.1 Category"
   ]
  },
  {
   "cell_type": "markdown",
   "metadata": {},
   "source": [
    "Overall, there are seven activity types. Activity type 6 and 7 have been less performed when compared with the others. After excluding the bot results, there is no evidents shows a specific type of activity can lead to a negative or positive outcome."
   ]
  },
  {
   "cell_type": "code",
   "execution_count": 42,
   "metadata": {},
   "outputs": [
    {
     "data": {
      "text/plain": [
       "array(['type 4', 'type 2', 'type 3', 'type 5', 'type 1', 'type 7',\n",
       "       'type 6'], dtype=object)"
      ]
     },
     "execution_count": 42,
     "metadata": {},
     "output_type": "execute_result"
    }
   ],
   "source": [
    "act_train['activity_category'].unique()"
   ]
  },
  {
   "cell_type": "code",
   "execution_count": 43,
   "metadata": {},
   "outputs": [
    {
     "data": {
      "text/plain": [
       "type 2    904683\n",
       "type 5    490710\n",
       "type 3    429408\n",
       "type 4    207465\n",
       "type 1    157615\n",
       "type 6      4253\n",
       "type 7      3157\n",
       "Name: activity_category, dtype: int64"
      ]
     },
     "execution_count": 43,
     "metadata": {},
     "output_type": "execute_result"
    }
   ],
   "source": [
    "#plot a figure here\n",
    "train['activity_category'].value_counts()"
   ]
  },
  {
   "cell_type": "code",
   "execution_count": 44,
   "metadata": {},
   "outputs": [
    {
     "data": {
      "text/plain": [
       "type 3    196759\n",
       "type 4       466\n",
       "type 2       280\n",
       "type 5        21\n",
       "type 1         9\n",
       "type 7         1\n",
       "Name: activity_category, dtype: int64"
      ]
     },
     "execution_count": 44,
     "metadata": {},
     "output_type": "execute_result"
    }
   ],
   "source": [
    "# most of the bots performed type 3 activity\n",
    "train[train['bot']]['activity_category'].value_counts()"
   ]
  },
  {
   "cell_type": "code",
   "execution_count": 45,
   "metadata": {},
   "outputs": [
    {
     "data": {
      "text/plain": [
       "<matplotlib.legend.Legend at 0x20908415f40>"
      ]
     },
     "execution_count": 45,
     "metadata": {},
     "output_type": "execute_result"
    },
    {
     "data": {
      "image/png": "[encoded data removed]",
      "text/plain": [
       "<Figure size 432x288 with 1 Axes>"
      ]
     },
     "metadata": {
      "needs_background": "light"
     },
     "output_type": "display_data"
    }
   ],
   "source": [
    "fig, axes = plt.subplots()\n",
    "sns.countplot(data=train[~train['bot']], x='outcome', hue='activity_category')\n",
    "\n",
    "plt.legend(loc='upper right', bbox_to_anchor=(1.3, 0.8))"
   ]
  },
  {
   "cell_type": "markdown",
   "metadata": {},
   "source": [
    "### 2.2.2 Activity Characters"
   ]
  },
  {
   "cell_type": "markdown",
   "metadata": {},
   "source": [
    "There are 6515 types of char_10_act. It can be inferred that char_10_act is an ensemble char, which contains information with multiple contexts.\n",
    "\n",
    "It is found that 'type 1' activity does not have 'char_10_act'. For the other types of activities, they don't have chars 1-9. \n",
    "\n",
    "All features of activity characters are object data type so far."
   ]
  },
  {
   "cell_type": "code",
   "execution_count": 46,
   "metadata": {},
   "outputs": [
    {
     "name": "stdout",
     "output_type": "stream",
     "text": [
      "            sum_outcome  cnt_activity\n",
      "char_1_act                           \n",
      "type 1             5297         14938\n",
      "type 10            2849          7795\n",
      "type 11             759          2333\n",
      "type 12            6204         14917\n",
      "type 13             554          1586\n",
      "type 14             454           990\n",
      "type 15             328          1284\n",
      "type 16             429          1229\n",
      "type 17             539          1778\n",
      "type 18              14            57\n",
      "type 19             221           491\n",
      "type 2            17422         38030\n",
      "type 20             174           434\n",
      "type 21               0             5\n",
      "type 22              29           211\n",
      "type 23            1294          2420\n",
      "type 24             186           641\n",
      "type 25             256           694\n",
      "type 26             825          2220\n",
      "type 27             118           199\n",
      "type 28             200           706\n",
      "type 29             940          1233\n",
      "type 3             5607         12372\n",
      "type 30             232           653\n",
      "type 31               5            54\n",
      "type 32              93           146\n",
      "type 33              20            60\n",
      "type 34              28            66\n",
      "type 35              17           180\n",
      "type 36             166           397\n",
      "type 37               3            10\n",
      "type 38               7            12\n",
      "type 39              29            63\n",
      "type 4              470          1329\n",
      "type 40             114           214\n",
      "type 41              96           278\n",
      "type 42               2             4\n",
      "type 43               4            11\n",
      "type 44               0             8\n",
      "type 45               0             1\n",
      "type 46               2             6\n",
      "type 47               0             2\n",
      "type 48               0             3\n",
      "type 49               1             6\n",
      "type 5            14402         34509\n",
      "type 50               2             5\n",
      "type 52               2             3\n",
      "type 6             1080          2385\n",
      "type 7             2204          7312\n",
      "type 8              655          2110\n",
      "type 9              498          1225\n",
      "            sum_outcome  cnt_activity\n",
      "char_2_act                           \n",
      "type 1             7524         21616\n",
      "type 10            3395          6932\n",
      "type 11             103           234\n",
      "type 12             748          3239\n",
      "type 13             632          1851\n",
      "type 14            1214          2807\n",
      "type 15             219           797\n",
      "type 16            2771          7551\n",
      "type 17             380          1059\n",
      "type 18             291           583\n",
      "type 19             814          1311\n",
      "type 2            21111         50524\n",
      "type 20              63           326\n",
      "type 21              16            52\n",
      "type 22              44           112\n",
      "type 23              17            73\n",
      "type 24              47            77\n",
      "type 25              64            95\n",
      "type 26              96           272\n",
      "type 27              12            35\n",
      "type 28              10            17\n",
      "type 29              47           161\n",
      "type 3             3549          9810\n",
      "type 30               4             7\n",
      "type 31               4             7\n",
      "type 32               0             4\n",
      "type 4              490           781\n",
      "type 5            15233         31794\n",
      "type 6             2190          5293\n",
      "type 7              752          2311\n",
      "type 8             2143          5306\n",
      "type 9              848          2578\n",
      "            sum_outcome  cnt_activity\n",
      "char_3_act                           \n",
      "type 1            14980         38224\n",
      "type 10               7            31\n",
      "type 11               2             5\n",
      "type 2             2489          6577\n",
      "type 3             7837         19637\n",
      "type 4             8295         20466\n",
      "type 5            16327         35488\n",
      "type 6             8054         19631\n",
      "type 7             3252          9755\n",
      "type 8             3047          6473\n",
      "type 9              541          1328\n",
      "            sum_outcome  cnt_activity\n",
      "char_4_act                           \n",
      "type 1            10567         27979\n",
      "type 2             3775          9316\n",
      "type 3            41524         98131\n",
      "type 4             6607         13730\n",
      "type 5             1509          5520\n",
      "type 6              846          2929\n",
      "type 7                3            10\n",
      "            sum_outcome  cnt_activity\n",
      "char_5_act                           \n",
      "type 1            21674         49214\n",
      "type 2             7876         26982\n",
      "type 3             2762          6013\n",
      "type 4              694          1995\n",
      "type 5             2061          5421\n",
      "type 6            29764         67989\n",
      "type 7                0             1\n",
      "            sum_outcome  cnt_activity\n",
      "char_6_act                           \n",
      "type 1            21140         48658\n",
      "type 2            22687         61026\n",
      "type 3            20304         46124\n",
      "type 4              536          1241\n",
      "type 5              164           566\n",
      "            sum_outcome  cnt_activity\n",
      "char_7_act                           \n",
      "type 1            22445         52548\n",
      "type 2            13449         32199\n",
      "type 3            16179         42968\n",
      "type 4             3825          8751\n",
      "type 5             3290          8104\n",
      "type 6             4527         10604\n",
      "type 7              826          1934\n",
      "type 8              290           507\n",
      "            sum_outcome  cnt_activity\n",
      "char_8_act                           \n",
      "type 1             4067         11621\n",
      "type 10            1251          3897\n",
      "type 11            1096          3099\n",
      "type 12             735          1471\n",
      "type 13            1298          2390\n",
      "type 14             636          2337\n",
      "type 15             778          1511\n",
      "type 16             224           893\n",
      "type 17              43           237\n",
      "type 18             111           147\n",
      "type 2             1757          4131\n",
      "type 3             1584          4909\n",
      "type 4            32214         77460\n",
      "type 5             5479         12396\n",
      "type 6             5017         10322\n",
      "type 7             2696          7737\n",
      "type 8             2835          6657\n",
      "type 9             3010          6400\n",
      "            sum_outcome  cnt_activity\n",
      "char_9_act                           \n",
      "type 1             9467         24765\n",
      "type 10            2450          6878\n",
      "type 11             100           455\n",
      "type 12            2947          6833\n",
      "type 13            2310          4622\n",
      "type 14             846          2545\n",
      "type 15            2235          6770\n",
      "type 16            2328          5037\n",
      "type 17            3031          7827\n",
      "type 18             500          1341\n",
      "type 19             124           267\n",
      "type 2             4742         13488\n",
      "type 3             2580          5958\n",
      "type 4             2775          8325\n",
      "type 5             4689         11021\n",
      "type 6             5313         12824\n",
      "type 7             2677          6031\n",
      "type 8            15233         31794\n",
      "type 9              484           834\n",
      "Empty DataFrame\n",
      "Columns: [sum_outcome, cnt_activity]\n",
      "Index: []\n"
     ]
    }
   ],
   "source": [
    "# I did not see any clear association between a act_char and the outcome\n",
    "# I will impute the data, label the missing values, \n",
    "# and calculate the correlations\n",
    "for i in range(1, 11):\n",
    "    char = 'char_' + str(i) + '_act'\n",
    "    temp = train[train['activity_category'] == 'type 1'].groupby(char).\\\n",
    "    agg({'outcome':'sum', 'activity_id':'count'})\n",
    "    temp.columns = ['sum_outcome', 'cnt_activity']\n",
    "    print(temp)"
   ]
  },
  {
   "cell_type": "code",
   "execution_count": 47,
   "metadata": {},
   "outputs": [],
   "source": [
    "# impute the data from each char\n",
    "char_act = []\n",
    "char_act_new = []\n",
    "\n",
    "for i in range(1, 11):\n",
    "    char = har = 'char_' + str(i) + '_act'\n",
    "    train[char + '_new'] = train[char].str.split().str[1]\n",
    "    char_act.append(char)\n",
    "    char_act_new.append(char + '_new')"
   ]
  },
  {
   "cell_type": "code",
   "execution_count": 48,
   "metadata": {},
   "outputs": [],
   "source": [
    "# fill NA value with 0\n",
    "train[char_act_new] = train[char_act_new].fillna(0, axis=1).astype('int64')"
   ]
  },
  {
   "cell_type": "code",
   "execution_count": 49,
   "metadata": {},
   "outputs": [
    {
     "name": "stdout",
     "output_type": "stream",
     "text": [
      "The correlation between activity characteristics and outcome:\n"
     ]
    },
    {
     "data": {
      "text/plain": [
       "char_1_act_new    -0.015\n",
       "char_2_act_new    -0.013\n",
       "char_3_act_new    -0.013\n",
       "char_4_act_new    -0.017\n",
       "char_5_act_new    -0.011\n",
       "char_6_act_new    -0.017\n",
       "char_7_act_new    -0.016\n",
       "char_8_act_new    -0.014\n",
       "char_9_act_new    -0.012\n",
       "char_10_act_new    0.028\n",
       "outcome            1.000\n",
       "Name: outcome, dtype: float64"
      ]
     },
     "execution_count": 49,
     "metadata": {},
     "output_type": "execute_result"
    }
   ],
   "source": [
    "print('The correlation between activity characteristics and outcome:')\n",
    "train[char_act_new + ['outcome']].corr()['outcome'].round(3)"
   ]
  },
  {
   "cell_type": "markdown",
   "metadata": {},
   "source": [
    "# 3. Feature Engineering"
   ]
  },
  {
   "cell_type": "markdown",
   "metadata": {},
   "source": [
    "Through the exploratory analysis. I have created new features,encode categorical features and filled missing values. In this section, I will deal with outliers, encode left categorical features,and use same methods to process the 'test' dataset."
   ]
  },
  {
   "cell_type": "code",
   "execution_count": 50,
   "metadata": {},
   "outputs": [],
   "source": [
    "train['activity_category_new'] = train['activity_category'].str.split().str[1]\n",
    "train['group_1_people_new'] = train['group_1_people'].str.split().str[1]"
   ]
  },
  {
   "cell_type": "code",
   "execution_count": 51,
   "metadata": {},
   "outputs": [],
   "source": [
    "drop_features = ['people_id', 'activity_id', 'date', 'date_people', 'activity_category', 'group_1_people'] + char_act \n",
    "final_train = train.drop(drop_features, axis=1)"
   ]
  },
  {
   "cell_type": "markdown",
   "metadata": {},
   "source": [
    "## Preprocessing Test Data"
   ]
  },
  {
   "cell_type": "code",
   "execution_count": 52,
   "metadata": {},
   "outputs": [],
   "source": [
    "# import dataset\n",
    "act_test = pd.read_csv('https://media.githubusercontent.com/media/tkkkkkz/Data_Science_Projects/main/Predicting%20Red%20Hat%20Business%20Value/Data/act_test.csv')"
   ]
  },
  {
   "cell_type": "code",
   "execution_count": 53,
   "metadata": {},
   "outputs": [
    {
     "name": "stdout",
     "output_type": "stream",
     "text": [
      "<class 'pandas.core.frame.DataFrame'>\n",
      "RangeIndex: 498687 entries, 0 to 498686\n",
      "Data columns (total 14 columns):\n",
      " #   Column             Non-Null Count   Dtype \n",
      "---  ------             --------------   ----- \n",
      " 0   people_id          498687 non-null  object\n",
      " 1   activity_id        498687 non-null  object\n",
      " 2   date               498687 non-null  object\n",
      " 3   activity_category  498687 non-null  object\n",
      " 4   char_1             40092 non-null   object\n",
      " 5   char_2             40092 non-null   object\n",
      " 6   char_3             40092 non-null   object\n",
      " 7   char_4             40092 non-null   object\n",
      " 8   char_5             40092 non-null   object\n",
      " 9   char_6             40092 non-null   object\n",
      " 10  char_7             40092 non-null   object\n",
      " 11  char_8             40092 non-null   object\n",
      " 12  char_9             40092 non-null   object\n",
      " 13  char_10            458595 non-null  object\n",
      "dtypes: object(14)\n",
      "memory usage: 53.3+ MB\n"
     ]
    }
   ],
   "source": [
    "act_test.info()"
   ]
  },
  {
   "cell_type": "code",
   "execution_count": 54,
   "metadata": {},
   "outputs": [],
   "source": [
    "# mark columns in the test dataset to avoid duplicate feature names after merging with people\n",
    "test_new_columns = []\n",
    "\n",
    "for column in act_test.columns:\n",
    "    if 'char' in column:\n",
    "        column += '_act'\n",
    "    test_new_columns.append(column)\n",
    "\n",
    "act_test.columns = test_new_columns"
   ]
  },
  {
   "cell_type": "code",
   "execution_count": 55,
   "metadata": {},
   "outputs": [],
   "source": [
    "test = pd.merge(act_test, people, how='left',on='people_id')\n",
    "\n",
    "# transform data types of 'date'\n",
    "test['date'] = pd.to_datetime(test['date'])\n",
    "test['date_people'] = pd.to_datetime(test['date_people'])\n",
    "\n",
    "# create a new feature, date_diff\n",
    "test['date_diff'] = test['date'] - test['date_people']\n",
    "test['date_diff'] = test['date_diff']/np.timedelta64 (1, 'D')\n",
    "\n",
    "# create new features that related with date\n",
    "test['month'] = test['date'].dt.month\n",
    "test['week'] = test['date'].dt.isocalendar().week\n",
    "test['day_of_week'] = test['date'].dt.dayofweek\n",
    "test['day'] = test['date'].dt.day"
   ]
  },
  {
   "cell_type": "code",
   "execution_count": 57,
   "metadata": {},
   "outputs": [],
   "source": [
    "# create a frequency table to identify bots in the test dataset\n",
    "freq_test = test.groupby(['people_id', 'date_diff'])['activity_id'].agg(['count'])\n",
    "bot_id_test = freq_test[freq_test['count']>200].index.get_level_values(0).unique()\n",
    "bot_id_test = pd.Series(bot_id_test)\n",
    "\n",
    "test['bot'] = test['people_id'].isin(bot_id_test)"
   ]
  },
  {
   "cell_type": "code",
   "execution_count": 58,
   "metadata": {},
   "outputs": [],
   "source": [
    "# create three features to mark if the user has used the product within the first day, week, or month\n",
    "first_day_act_test = test[(test['date_diff'] <= 1) & ~(test['bot'])]\n",
    "first_day_user_lst_test = first_day_act_test['people_id'].unique()\n",
    "test['first_day_user'] = test['people_id'].isin(first_day_user_lst_test)\n",
    "\n",
    "\n",
    "first_week_act_test = test[(test['date_diff'] <= 7) & ~(test['bot'])]\n",
    "first_week_user_lst_test = first_week_act_test['people_id'].unique()\n",
    "test['first_week_user'] = test['people_id'].isin(first_week_user_lst_test)\n",
    "\n",
    "\n",
    "first_month_act_test = test[(test['date_diff'] <= 30) & ~(test['bot'])]\n",
    "first_month_user_lst_test = first_month_act_test['people_id'].unique()\n",
    "test['first_month_user'] = test['people_id'].isin(first_month_user_lst_test)"
   ]
  },
  {
   "cell_type": "code",
   "execution_count": 59,
   "metadata": {},
   "outputs": [],
   "source": [
    "char_act_test = []\n",
    "char_act_new_test = []\n",
    "\n",
    "for i in range(1, 11):\n",
    "    char = 'char_' + str(i) + '_act'\n",
    "    test[char + '_new'] = test[char].str.split().str[1]\n",
    "    char_act_test.append(char)\n",
    "    char_act_new_test.append(char + '_new')\n",
    "    \n",
    "test[char_act_new_test] = test[char_act_new_test].fillna(0, axis=1).astype('int64')\n",
    "\n",
    "# create new features\n",
    "test['positive_group'] = test['group_1_people'].isin(positive_groups)\n",
    "test['negative_group'] = test['group_1_people'].isin(negative_groups)"
   ]
  },
  {
   "cell_type": "code",
   "execution_count": 60,
   "metadata": {},
   "outputs": [],
   "source": [
    "le = LabelEncoder()\n",
    "people_char_test = []\n",
    "\n",
    "for i in range(1, 39):\n",
    "    col = 'char_' + str(i) + '_people'\n",
    "    people_char_test.append(col)\n",
    "    test[col] = le.fit_transform(test[col])"
   ]
  },
  {
   "cell_type": "code",
   "execution_count": 61,
   "metadata": {},
   "outputs": [],
   "source": [
    "test['activity_category_new'] = test['activity_category'].str.split().str[1]\n",
    "test['group_1_people_new'] = test['group_1_people'].str.split().str[1]"
   ]
  },
  {
   "cell_type": "markdown",
   "metadata": {},
   "source": [
    "# 4. Model Training"
   ]
  },
  {
   "cell_type": "markdown",
   "metadata": {},
   "source": [
    "I will start with a simple random forest model. The model can help to determine: \n",
    "\n",
    "* if a random forest model can be useful in this model building\n",
    "* which features are more important, which are less important that can be delete from the model\n",
    "\n",
    "After a first model training, I will adjust the train dataset based on random forest results. Next, I will use a GridSearchCV to build a better and more robust model. "
   ]
  },
  {
   "cell_type": "markdown",
   "metadata": {},
   "source": [
    "### 4.1 Feature Importances"
   ]
  },
  {
   "cell_type": "code",
   "execution_count": 62,
   "metadata": {},
   "outputs": [],
   "source": [
    "x = final_train.drop('outcome', axis=1)\n",
    "y= final_train['outcome']\n",
    "\n",
    "x_train, x_test, y_train, y_test = train_test_split(x, y, test_size=0.3, random_state=101)"
   ]
  },
  {
   "cell_type": "code",
   "execution_count": 65,
   "metadata": {},
   "outputs": [
    {
     "name": "stdout",
     "output_type": "stream",
     "text": [
      "The auc score is:  0.9967\n"
     ]
    }
   ],
   "source": [
    "# build a model and fit the model\n",
    "rf = RandomForestClassifier()\n",
    "rf.fit(x_train, y_train)\n",
    "\n",
    "y_pred = rf.predict(x_test)\n",
    "print('The auc score is: ', roc_auc_score(y_test, y_pred).round(4))"
   ]
  },
  {
   "cell_type": "code",
   "execution_count": 66,
   "metadata": {},
   "outputs": [
    {
     "data": {
      "text/html": [
       "<div>\n",
       "<style scoped>\n",
       "    .dataframe tbody tr th:only-of-type {\n",
       "        vertical-align: middle;\n",
       "    }\n",
       "\n",
       "    .dataframe tbody tr th {\n",
       "        vertical-align: top;\n",
       "    }\n",
       "\n",
       "    .dataframe thead th {\n",
       "        text-align: right;\n",
       "    }\n",
       "</style>\n",
       "<table border=\"1\" class=\"dataframe\">\n",
       "  <thead>\n",
       "    <tr style=\"text-align: right;\">\n",
       "      <th></th>\n",
       "      <th>0</th>\n",
       "      <th>1</th>\n",
       "    </tr>\n",
       "  </thead>\n",
       "  <tbody>\n",
       "    <tr>\n",
       "      <th>41</th>\n",
       "      <td>first_week_user</td>\n",
       "      <td>0.001528</td>\n",
       "    </tr>\n",
       "    <tr>\n",
       "      <th>27</th>\n",
       "      <td>char_28_people</td>\n",
       "      <td>0.001502</td>\n",
       "    </tr>\n",
       "    <tr>\n",
       "      <th>40</th>\n",
       "      <td>first_day_user</td>\n",
       "      <td>0.001480</td>\n",
       "    </tr>\n",
       "    <tr>\n",
       "      <th>20</th>\n",
       "      <td>char_21_people</td>\n",
       "      <td>0.001344</td>\n",
       "    </tr>\n",
       "    <tr>\n",
       "      <th>11</th>\n",
       "      <td>char_12_people</td>\n",
       "      <td>0.001319</td>\n",
       "    </tr>\n",
       "    <tr>\n",
       "      <th>9</th>\n",
       "      <td>char_10_people</td>\n",
       "      <td>0.001230</td>\n",
       "    </tr>\n",
       "    <tr>\n",
       "      <th>28</th>\n",
       "      <td>char_29_people</td>\n",
       "      <td>0.001051</td>\n",
       "    </tr>\n",
       "    <tr>\n",
       "      <th>17</th>\n",
       "      <td>char_18_people</td>\n",
       "      <td>0.001049</td>\n",
       "    </tr>\n",
       "    <tr>\n",
       "      <th>15</th>\n",
       "      <td>char_16_people</td>\n",
       "      <td>0.000999</td>\n",
       "    </tr>\n",
       "    <tr>\n",
       "      <th>32</th>\n",
       "      <td>char_33_people</td>\n",
       "      <td>0.000984</td>\n",
       "    </tr>\n",
       "    <tr>\n",
       "      <th>29</th>\n",
       "      <td>char_30_people</td>\n",
       "      <td>0.000965</td>\n",
       "    </tr>\n",
       "    <tr>\n",
       "      <th>10</th>\n",
       "      <td>char_11_people</td>\n",
       "      <td>0.000958</td>\n",
       "    </tr>\n",
       "    <tr>\n",
       "      <th>23</th>\n",
       "      <td>char_24_people</td>\n",
       "      <td>0.000954</td>\n",
       "    </tr>\n",
       "    <tr>\n",
       "      <th>22</th>\n",
       "      <td>char_23_people</td>\n",
       "      <td>0.000948</td>\n",
       "    </tr>\n",
       "    <tr>\n",
       "      <th>25</th>\n",
       "      <td>char_26_people</td>\n",
       "      <td>0.000935</td>\n",
       "    </tr>\n",
       "    <tr>\n",
       "      <th>14</th>\n",
       "      <td>char_15_people</td>\n",
       "      <td>0.000816</td>\n",
       "    </tr>\n",
       "    <tr>\n",
       "      <th>57</th>\n",
       "      <td>char_9_act_new</td>\n",
       "      <td>0.000409</td>\n",
       "    </tr>\n",
       "    <tr>\n",
       "      <th>49</th>\n",
       "      <td>char_1_act_new</td>\n",
       "      <td>0.000373</td>\n",
       "    </tr>\n",
       "    <tr>\n",
       "      <th>51</th>\n",
       "      <td>char_3_act_new</td>\n",
       "      <td>0.000354</td>\n",
       "    </tr>\n",
       "    <tr>\n",
       "      <th>50</th>\n",
       "      <td>char_2_act_new</td>\n",
       "      <td>0.000343</td>\n",
       "    </tr>\n",
       "    <tr>\n",
       "      <th>56</th>\n",
       "      <td>char_8_act_new</td>\n",
       "      <td>0.000329</td>\n",
       "    </tr>\n",
       "    <tr>\n",
       "      <th>55</th>\n",
       "      <td>char_7_act_new</td>\n",
       "      <td>0.000322</td>\n",
       "    </tr>\n",
       "    <tr>\n",
       "      <th>53</th>\n",
       "      <td>char_5_act_new</td>\n",
       "      <td>0.000286</td>\n",
       "    </tr>\n",
       "    <tr>\n",
       "      <th>54</th>\n",
       "      <td>char_6_act_new</td>\n",
       "      <td>0.000279</td>\n",
       "    </tr>\n",
       "    <tr>\n",
       "      <th>52</th>\n",
       "      <td>char_4_act_new</td>\n",
       "      <td>0.000257</td>\n",
       "    </tr>\n",
       "  </tbody>\n",
       "</table>\n",
       "</div>"
      ],
      "text/plain": [
       "                  0         1\n",
       "41  first_week_user  0.001528\n",
       "27   char_28_people  0.001502\n",
       "40   first_day_user  0.001480\n",
       "20   char_21_people  0.001344\n",
       "11   char_12_people  0.001319\n",
       "9    char_10_people  0.001230\n",
       "28   char_29_people  0.001051\n",
       "17   char_18_people  0.001049\n",
       "15   char_16_people  0.000999\n",
       "32   char_33_people  0.000984\n",
       "29   char_30_people  0.000965\n",
       "10   char_11_people  0.000958\n",
       "23   char_24_people  0.000954\n",
       "22   char_23_people  0.000948\n",
       "25   char_26_people  0.000935\n",
       "14   char_15_people  0.000816\n",
       "57   char_9_act_new  0.000409\n",
       "49   char_1_act_new  0.000373\n",
       "51   char_3_act_new  0.000354\n",
       "50   char_2_act_new  0.000343\n",
       "56   char_8_act_new  0.000329\n",
       "55   char_7_act_new  0.000322\n",
       "53   char_5_act_new  0.000286\n",
       "54   char_6_act_new  0.000279\n",
       "52   char_4_act_new  0.000257"
      ]
     },
     "execution_count": 66,
     "metadata": {},
     "output_type": "execute_result"
    }
   ],
   "source": [
    "# Less important features, they will be excluded from the further model building\n",
    "features_importance = pd.concat([pd.Series(x_train.columns), pd.Series(rf.feature_importances_)], axis=1).sort_values(by=1, ascending=False)\n",
    "features_importance.tail(25)"
   ]
  },
  {
   "cell_type": "markdown",
   "metadata": {},
   "source": [
    "### 4.2 Random Forest"
   ]
  },
  {
   "cell_type": "markdown",
   "metadata": {},
   "source": [
    "After exclude 25 less important features, I will use remained features to build a second random forest model."
   ]
  },
  {
   "cell_type": "code",
   "execution_count": 67,
   "metadata": {},
   "outputs": [],
   "source": [
    "# based on the previous feature importances, I dropped the last 25 less importance features\n",
    "drop_features_2 = np.array(features_importance.tail(25).iloc[:,0])\n",
    "final_train_2 = final_train.drop(drop_features_2, axis=1)"
   ]
  },
  {
   "cell_type": "code",
   "execution_count": 68,
   "metadata": {},
   "outputs": [],
   "source": [
    "x = final_train_2.drop('outcome', axis=1)\n",
    "y = final_train_2['outcome']\n",
    "x_train, x_test, y_train, y_test = train_test_split(x, y, test_size=0.33, random_state=42)"
   ]
  },
  {
   "cell_type": "markdown",
   "metadata": {},
   "source": [
    "**Note: since there are more than 2 million entries in this dataset, to avoid taking too much computational costs, I only tune two hyperparameters and test only two options for each parameters.Furthermore, I only used a 3-fold cross validation. **"
   ]
  },
  {
   "cell_type": "code",
   "execution_count": 69,
   "metadata": {},
   "outputs": [],
   "source": [
    "n_estimators = [20, 50]\n",
    "min_samples_split = [2, 10]\n",
    "param_grid = {'n_estimators': n_estimators, 'min_samples_split': min_samples_split}\n",
    "\n",
    "rf_2 = RandomForestClassifier()\n",
    "grid_model = GridSearchCV(rf_2, param_grid, cv=3)"
   ]
  },
  {
   "cell_type": "code",
   "execution_count": 70,
   "metadata": {},
   "outputs": [
    {
     "name": "stdout",
     "output_type": "stream",
     "text": [
      "The auc score is:  0.9970538834333434\n"
     ]
    }
   ],
   "source": [
    "grid_model.fit(x_train, y_train)\n",
    "\n",
    "y_pred_2 = grid_model.predict(x_test)\n",
    "print('The auc score is: ', roc_auc_score(y_test, y_pred_2))"
   ]
  },
  {
   "cell_type": "code",
   "execution_count": 1,
   "metadata": {},
   "outputs": [
    {
     "ename": "NameError",
     "evalue": "name 'pd' is not defined",
     "output_type": "error",
     "traceback": [
      "\u001b[1;31m---------------------------------------------------------------------------\u001b[0m",
      "\u001b[1;31mNameError\u001b[0m                                 Traceback (most recent call last)",
      "\u001b[1;32m<ipython-input-1-8a90a772c1ae>\u001b[0m in \u001b[0;36m<module>\u001b[1;34m\u001b[0m\n\u001b[0;32m      1\u001b[0m \u001b[1;31m# feature importances\u001b[0m\u001b[1;33m\u001b[0m\u001b[1;33m\u001b[0m\u001b[1;33m\u001b[0m\u001b[0m\n\u001b[1;32m----> 2\u001b[1;33m \u001b[0mpd\u001b[0m\u001b[1;33m.\u001b[0m\u001b[0mconcat\u001b[0m\u001b[1;33m(\u001b[0m\u001b[1;33m[\u001b[0m\u001b[0mpd\u001b[0m\u001b[1;33m.\u001b[0m\u001b[0mSeries\u001b[0m\u001b[1;33m(\u001b[0m\u001b[0mx_train\u001b[0m\u001b[1;33m.\u001b[0m\u001b[0mcolumns\u001b[0m\u001b[1;33m)\u001b[0m\u001b[1;33m,\u001b[0m \u001b[0mpd\u001b[0m\u001b[1;33m.\u001b[0m\u001b[0mSeries\u001b[0m\u001b[1;33m(\u001b[0m\u001b[0mgrid_model\u001b[0m\u001b[1;33m.\u001b[0m\u001b[0mbest_params_\u001b[0m\u001b[1;33m.\u001b[0m\u001b[0mfeature_importances_\u001b[0m\u001b[1;33m)\u001b[0m\u001b[1;33m]\u001b[0m\u001b[1;33m,\u001b[0m \u001b[0maxis\u001b[0m\u001b[1;33m=\u001b[0m\u001b[1;36m1\u001b[0m\u001b[1;33m)\u001b[0m\u001b[1;33m.\u001b[0m\u001b[0msort_values\u001b[0m\u001b[1;33m(\u001b[0m\u001b[0mby\u001b[0m\u001b[1;33m=\u001b[0m\u001b[1;36m1\u001b[0m\u001b[1;33m,\u001b[0m\u001b[0mascending\u001b[0m\u001b[1;33m=\u001b[0m\u001b[1;32mFalse\u001b[0m\u001b[1;33m)\u001b[0m\u001b[1;33m\u001b[0m\u001b[1;33m\u001b[0m\u001b[0m\n\u001b[0m",
      "\u001b[1;31mNameError\u001b[0m: name 'pd' is not defined"
     ]
    }
   ],
   "source": [
    "# feature importances\n",
    "pd.concat([pd.Series(x_train.columns), pd.Series(grid_model.best_params_.feature_importances_)], axis=1).sort_values(by=1,ascending=False)"
   ]
  },
  {
   "cell_type": "markdown",
   "metadata": {},
   "source": [
    "# 5. Model Deployment"
   ]
  },
  {
   "cell_type": "code",
   "execution_count": null,
   "metadata": {},
   "outputs": [],
   "source": [
    "drop_features_test = ['people_id', 'activity_id', 'date', 'date_people', 'activity_category', 'group_1_people']\\\n",
    "                + char_act_test + list(drop_features_2)\n",
    "final_test = test.drop(drop_features_test, axis=1)"
   ]
  },
  {
   "cell_type": "code",
   "execution_count": null,
   "metadata": {},
   "outputs": [],
   "source": [
    "final_test_predict = grid_model.predict(final_test)"
   ]
  },
  {
   "cell_type": "code",
   "execution_count": null,
   "metadata": {},
   "outputs": [],
   "source": [
    "final_submission = pd.concat([test['activity_id'],pd.Series(final_test_predict)], axis=1)"
   ]
  },
  {
   "cell_type": "code",
   "execution_count": null,
   "metadata": {},
   "outputs": [],
   "source": [
    "submission = final_submission.to_csv('submission.csv', header=['activity_id', 'outcome'], index=False)"
   ]
  },
  {
   "cell_type": "markdown",
   "metadata": {},
   "source": [
    "### Conclusions\n",
    "This project is to predict if a user has business value based on the user behaviors data that was collected previously. The dataset is balanced. \n",
    "\n",
    "During the exploratory analysis, I found that there are bot traffic among the user activities, which indicates highly frequent activities in a single day but present no business values at all. Based on the bots' behaviors, I added a new boolean feature 'bot'. Moreover, I also found the frequency and date of a activity has poor correlations with the outcome. \n",
    "\n",
    "In terms of modeling, I used a default Random Forest model to help to identify feature importances. After dropping less important features, I used a Random Forest combining with Grid Search and Cross Validation to achieve the best prediction."
   ]
  },
  {
   "cell_type": "code",
   "execution_count": null,
   "metadata": {},
   "outputs": [],
   "source": []
  }
 ],
 "metadata": {
  "kernelspec": {
   "display_name": "Python 3",
   "language": "python",
   "name": "python3"
  },
  "language_info": {
   "codemirror_mode": {
    "name": "ipython",
    "version": 3
   },
   "file_extension": ".py",
   "mimetype": "text/x-python",
   "name": "python",
   "nbconvert_exporter": "python",
   "pygments_lexer": "ipython3",
   "version": "3.8.5"
  },
  "toc": {
   "base_numbering": 1,
   "nav_menu": {},
   "number_sections": false,
   "sideBar": true,
   "skip_h1_title": false,
   "title_cell": "Table of Contents",
   "title_sidebar": "Contents",
   "toc_cell": true,
   "toc_position": {
    "height": "calc(100% - 180px)",
    "left": "10px",
    "top": "150px",
    "width": "238.26px"
   },
   "toc_section_display": true,
   "toc_window_display": false
  }
 },
 "nbformat": 4,
 "nbformat_minor": 4
}
